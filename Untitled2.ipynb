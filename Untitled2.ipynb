{
  "nbformat": 4,
  "nbformat_minor": 0,
  "metadata": {
    "colab": {
      "provenance": []
    },
    "kernelspec": {
      "name": "python3",
      "display_name": "Python 3"
    },
    "language_info": {
      "name": "python"
    }
  },
  "cells": [
    {
      "cell_type": "code",
      "execution_count": null,
      "metadata": {
        "id": "BQeCXs-Aa50h"
      },
      "outputs": [],
      "source": [
        "from google.colab import files\n",
        "uploaded = files.upload()"
      ]
    },
    {
      "cell_type": "code",
      "source": [
        "import numpy as np\n",
        "import pandas as pd \n",
        "from matplotlib import pyplot as plt\n",
        "import matplotlib\n",
        "%matplotlib inline\n",
        "import seaborn as sns\n",
        "from collections import Counter\n",
        "from sklearn.metrics import mean_squared_error\n",
        "from pandas import concat\n",
        "from pandas import Series, DataFrame\n",
        "import statsmodels.api as sm\n",
        "\n",
        "# machine learning\n",
        "from sklearn.preprocessing import scale\n",
        "from sklearn.preprocessing import StandardScaler\n",
        "from sklearn import metrics\n",
        "from sklearn.model_selection import cross_val_score\n",
        "from sklearn.model_selection import train_test_split\n",
        "from sklearn.linear_model import LogisticRegression\n",
        "from sklearn.svm import SVC, LinearSVC\n",
        "from sklearn.ensemble import RandomForestClassifier\n",
        "from sklearn.neighbors import KNeighborsClassifier\n",
        "from sklearn.naive_bayes import GaussianNB\n",
        "\n",
        "pd.set_option('display.max_columns', 100)"
      ],
      "metadata": {
        "id": "Fc9ymhPdbu0B"
      },
      "execution_count": null,
      "outputs": []
    },
    {
      "cell_type": "code",
      "source": [
        "# import in the bird strikes data set\n",
        "bird = pd.read_csv(\"./Bird Strikes Test.csv\", low_memory=False, thousands=',')\n",
        "# only drop rows that are all NA:\n",
        "bird = bird.dropna(how='all')"
      ],
      "metadata": {
        "id": "R6KitZ4bc4sI"
      },
      "execution_count": null,
      "outputs": []
    },
    {
      "cell_type": "code",
      "source": [
        "# take a look at the first 5 rows of data\n",
        "bird.head()"
      ],
      "metadata": {
        "colab": {
          "base_uri": "https://localhost:8080/",
          "height": 600
        },
        "id": "t8X-1kOsdAHv",
        "outputId": "7766ca44-2e2b-4c52-fb5b-723e0b1ddf4c"
      },
      "execution_count": null,
      "outputs": [
        {
          "output_type": "execute_result",
          "data": {
            "text/plain": [
              "                         Airport: Name Altitude bin Aircraft: Make/Model  \\\n",
              "0      DETROIT METRO WAYNE COUNTY ARPT    < 1000 ft                A-319   \n",
              "1  DANE COUNTY REGIONAL ARPT-TRUAX FLD    < 1000 ft                A-320   \n",
              "2                           HOGUE ARPT    < 1000 ft         PA-46 MALIBU   \n",
              "3                      SACRAMENTO INTL    < 1000 ft            B-737-300   \n",
              "4                       GUARULHOS INTL    < 1000 ft            B-767-300   \n",
              "\n",
              "  Effect: Impact to flight     FlightDate  Record ID Effect: Indicated Damage  \\\n",
              "0                      NaN  1/1/2005 0:00     227413                No damage   \n",
              "1                      NaN  1/1/2005 0:00     226578                No damage   \n",
              "2                      NaN  1/1/2005 0:00     268383            Caused damage   \n",
              "3                     None  1/1/2005 0:00     229514            Caused damage   \n",
              "4                      NaN  1/1/2005 0:00     225661                No damage   \n",
              "\n",
              "  Aircraft: Number of engines? Aircraft: Airline/Operator Origin State  \\\n",
              "0                            2         NORTHWEST AIRLINES     Michigan   \n",
              "1                            2         NORTHWEST AIRLINES    Wisconsin   \n",
              "2                            1            PRIVATELY OWNED    Tennessee   \n",
              "3                            2         SOUTHWEST AIRLINES   California   \n",
              "4                            2            UNITED AIRLINES          NaN   \n",
              "\n",
              "  When: Phase of flight Wildlife: Size            Wildlife: Species  \\\n",
              "0                 Climb         Medium        Unknown bird - medium   \n",
              "1          Take-off run         Medium        Unknown bird - medium   \n",
              "2          Landing Roll          Large            White-tailed deer   \n",
              "3              Approach          Large  Greater white-fronted goose   \n",
              "4          Landing Roll         Medium        Unknown bird - medium   \n",
              "\n",
              "   When: Time (HHMM) When: Time of day Pilot warned of birds or wildlife?  \\\n",
              "0                NaN               NaN                                NaN   \n",
              "1                NaN               NaN                                NaN   \n",
              "2                NaN               Day                                NaN   \n",
              "3             2140.0             Night                                  Y   \n",
              "4                NaN               NaN                                NaN   \n",
              "\n",
              "   Cost: Aircraft time out of service (hours)  Cost: Other (inflation adj)  \\\n",
              "0                                         NaN                            0   \n",
              "1                                         NaN                            0   \n",
              "2                                         NaN                            0   \n",
              "3                                         NaN                            0   \n",
              "4                                         NaN                            0   \n",
              "\n",
              "   Cost: Repair (inflation adj)  Cost: Total $  Miles from airport  \\\n",
              "0                             0              0                 NaN   \n",
              "1                             0              0                 0.0   \n",
              "2                             0              0                 0.0   \n",
              "3                        117135         117135                 NaN   \n",
              "4                             0              0                 0.0   \n",
              "\n",
              "   Feet above ground  Speed (IAS) in knots  \n",
              "0              400.0                   NaN  \n",
              "1                0.0                   NaN  \n",
              "2                0.0                  20.0  \n",
              "3              500.0                 142.0  \n",
              "4                0.0                   NaN  "
            ],
            "text/html": [
              "\n",
              "  <div id=\"df-e99712ca-2a20-4650-ad49-abf834bb6016\">\n",
              "    <div class=\"colab-df-container\">\n",
              "      <div>\n",
              "<style scoped>\n",
              "    .dataframe tbody tr th:only-of-type {\n",
              "        vertical-align: middle;\n",
              "    }\n",
              "\n",
              "    .dataframe tbody tr th {\n",
              "        vertical-align: top;\n",
              "    }\n",
              "\n",
              "    .dataframe thead th {\n",
              "        text-align: right;\n",
              "    }\n",
              "</style>\n",
              "<table border=\"1\" class=\"dataframe\">\n",
              "  <thead>\n",
              "    <tr style=\"text-align: right;\">\n",
              "      <th></th>\n",
              "      <th>Airport: Name</th>\n",
              "      <th>Altitude bin</th>\n",
              "      <th>Aircraft: Make/Model</th>\n",
              "      <th>Effect: Impact to flight</th>\n",
              "      <th>FlightDate</th>\n",
              "      <th>Record ID</th>\n",
              "      <th>Effect: Indicated Damage</th>\n",
              "      <th>Aircraft: Number of engines?</th>\n",
              "      <th>Aircraft: Airline/Operator</th>\n",
              "      <th>Origin State</th>\n",
              "      <th>When: Phase of flight</th>\n",
              "      <th>Wildlife: Size</th>\n",
              "      <th>Wildlife: Species</th>\n",
              "      <th>When: Time (HHMM)</th>\n",
              "      <th>When: Time of day</th>\n",
              "      <th>Pilot warned of birds or wildlife?</th>\n",
              "      <th>Cost: Aircraft time out of service (hours)</th>\n",
              "      <th>Cost: Other (inflation adj)</th>\n",
              "      <th>Cost: Repair (inflation adj)</th>\n",
              "      <th>Cost: Total $</th>\n",
              "      <th>Miles from airport</th>\n",
              "      <th>Feet above ground</th>\n",
              "      <th>Speed (IAS) in knots</th>\n",
              "    </tr>\n",
              "  </thead>\n",
              "  <tbody>\n",
              "    <tr>\n",
              "      <th>0</th>\n",
              "      <td>DETROIT METRO WAYNE COUNTY ARPT</td>\n",
              "      <td>&lt; 1000 ft</td>\n",
              "      <td>A-319</td>\n",
              "      <td>NaN</td>\n",
              "      <td>1/1/2005 0:00</td>\n",
              "      <td>227413</td>\n",
              "      <td>No damage</td>\n",
              "      <td>2</td>\n",
              "      <td>NORTHWEST AIRLINES</td>\n",
              "      <td>Michigan</td>\n",
              "      <td>Climb</td>\n",
              "      <td>Medium</td>\n",
              "      <td>Unknown bird - medium</td>\n",
              "      <td>NaN</td>\n",
              "      <td>NaN</td>\n",
              "      <td>NaN</td>\n",
              "      <td>NaN</td>\n",
              "      <td>0</td>\n",
              "      <td>0</td>\n",
              "      <td>0</td>\n",
              "      <td>NaN</td>\n",
              "      <td>400.0</td>\n",
              "      <td>NaN</td>\n",
              "    </tr>\n",
              "    <tr>\n",
              "      <th>1</th>\n",
              "      <td>DANE COUNTY REGIONAL ARPT-TRUAX FLD</td>\n",
              "      <td>&lt; 1000 ft</td>\n",
              "      <td>A-320</td>\n",
              "      <td>NaN</td>\n",
              "      <td>1/1/2005 0:00</td>\n",
              "      <td>226578</td>\n",
              "      <td>No damage</td>\n",
              "      <td>2</td>\n",
              "      <td>NORTHWEST AIRLINES</td>\n",
              "      <td>Wisconsin</td>\n",
              "      <td>Take-off run</td>\n",
              "      <td>Medium</td>\n",
              "      <td>Unknown bird - medium</td>\n",
              "      <td>NaN</td>\n",
              "      <td>NaN</td>\n",
              "      <td>NaN</td>\n",
              "      <td>NaN</td>\n",
              "      <td>0</td>\n",
              "      <td>0</td>\n",
              "      <td>0</td>\n",
              "      <td>0.0</td>\n",
              "      <td>0.0</td>\n",
              "      <td>NaN</td>\n",
              "    </tr>\n",
              "    <tr>\n",
              "      <th>2</th>\n",
              "      <td>HOGUE ARPT</td>\n",
              "      <td>&lt; 1000 ft</td>\n",
              "      <td>PA-46 MALIBU</td>\n",
              "      <td>NaN</td>\n",
              "      <td>1/1/2005 0:00</td>\n",
              "      <td>268383</td>\n",
              "      <td>Caused damage</td>\n",
              "      <td>1</td>\n",
              "      <td>PRIVATELY OWNED</td>\n",
              "      <td>Tennessee</td>\n",
              "      <td>Landing Roll</td>\n",
              "      <td>Large</td>\n",
              "      <td>White-tailed deer</td>\n",
              "      <td>NaN</td>\n",
              "      <td>Day</td>\n",
              "      <td>NaN</td>\n",
              "      <td>NaN</td>\n",
              "      <td>0</td>\n",
              "      <td>0</td>\n",
              "      <td>0</td>\n",
              "      <td>0.0</td>\n",
              "      <td>0.0</td>\n",
              "      <td>20.0</td>\n",
              "    </tr>\n",
              "    <tr>\n",
              "      <th>3</th>\n",
              "      <td>SACRAMENTO INTL</td>\n",
              "      <td>&lt; 1000 ft</td>\n",
              "      <td>B-737-300</td>\n",
              "      <td>None</td>\n",
              "      <td>1/1/2005 0:00</td>\n",
              "      <td>229514</td>\n",
              "      <td>Caused damage</td>\n",
              "      <td>2</td>\n",
              "      <td>SOUTHWEST AIRLINES</td>\n",
              "      <td>California</td>\n",
              "      <td>Approach</td>\n",
              "      <td>Large</td>\n",
              "      <td>Greater white-fronted goose</td>\n",
              "      <td>2140.0</td>\n",
              "      <td>Night</td>\n",
              "      <td>Y</td>\n",
              "      <td>NaN</td>\n",
              "      <td>0</td>\n",
              "      <td>117135</td>\n",
              "      <td>117135</td>\n",
              "      <td>NaN</td>\n",
              "      <td>500.0</td>\n",
              "      <td>142.0</td>\n",
              "    </tr>\n",
              "    <tr>\n",
              "      <th>4</th>\n",
              "      <td>GUARULHOS INTL</td>\n",
              "      <td>&lt; 1000 ft</td>\n",
              "      <td>B-767-300</td>\n",
              "      <td>NaN</td>\n",
              "      <td>1/1/2005 0:00</td>\n",
              "      <td>225661</td>\n",
              "      <td>No damage</td>\n",
              "      <td>2</td>\n",
              "      <td>UNITED AIRLINES</td>\n",
              "      <td>NaN</td>\n",
              "      <td>Landing Roll</td>\n",
              "      <td>Medium</td>\n",
              "      <td>Unknown bird - medium</td>\n",
              "      <td>NaN</td>\n",
              "      <td>NaN</td>\n",
              "      <td>NaN</td>\n",
              "      <td>NaN</td>\n",
              "      <td>0</td>\n",
              "      <td>0</td>\n",
              "      <td>0</td>\n",
              "      <td>0.0</td>\n",
              "      <td>0.0</td>\n",
              "      <td>NaN</td>\n",
              "    </tr>\n",
              "  </tbody>\n",
              "</table>\n",
              "</div>\n",
              "      <button class=\"colab-df-convert\" onclick=\"convertToInteractive('df-e99712ca-2a20-4650-ad49-abf834bb6016')\"\n",
              "              title=\"Convert this dataframe to an interactive table.\"\n",
              "              style=\"display:none;\">\n",
              "        \n",
              "  <svg xmlns=\"http://www.w3.org/2000/svg\" height=\"24px\"viewBox=\"0 0 24 24\"\n",
              "       width=\"24px\">\n",
              "    <path d=\"M0 0h24v24H0V0z\" fill=\"none\"/>\n",
              "    <path d=\"M18.56 5.44l.94 2.06.94-2.06 2.06-.94-2.06-.94-.94-2.06-.94 2.06-2.06.94zm-11 1L8.5 8.5l.94-2.06 2.06-.94-2.06-.94L8.5 2.5l-.94 2.06-2.06.94zm10 10l.94 2.06.94-2.06 2.06-.94-2.06-.94-.94-2.06-.94 2.06-2.06.94z\"/><path d=\"M17.41 7.96l-1.37-1.37c-.4-.4-.92-.59-1.43-.59-.52 0-1.04.2-1.43.59L10.3 9.45l-7.72 7.72c-.78.78-.78 2.05 0 2.83L4 21.41c.39.39.9.59 1.41.59.51 0 1.02-.2 1.41-.59l7.78-7.78 2.81-2.81c.8-.78.8-2.07 0-2.86zM5.41 20L4 18.59l7.72-7.72 1.47 1.35L5.41 20z\"/>\n",
              "  </svg>\n",
              "      </button>\n",
              "      \n",
              "  <style>\n",
              "    .colab-df-container {\n",
              "      display:flex;\n",
              "      flex-wrap:wrap;\n",
              "      gap: 12px;\n",
              "    }\n",
              "\n",
              "    .colab-df-convert {\n",
              "      background-color: #E8F0FE;\n",
              "      border: none;\n",
              "      border-radius: 50%;\n",
              "      cursor: pointer;\n",
              "      display: none;\n",
              "      fill: #1967D2;\n",
              "      height: 32px;\n",
              "      padding: 0 0 0 0;\n",
              "      width: 32px;\n",
              "    }\n",
              "\n",
              "    .colab-df-convert:hover {\n",
              "      background-color: #E2EBFA;\n",
              "      box-shadow: 0px 1px 2px rgba(60, 64, 67, 0.3), 0px 1px 3px 1px rgba(60, 64, 67, 0.15);\n",
              "      fill: #174EA6;\n",
              "    }\n",
              "\n",
              "    [theme=dark] .colab-df-convert {\n",
              "      background-color: #3B4455;\n",
              "      fill: #D2E3FC;\n",
              "    }\n",
              "\n",
              "    [theme=dark] .colab-df-convert:hover {\n",
              "      background-color: #434B5C;\n",
              "      box-shadow: 0px 1px 3px 1px rgba(0, 0, 0, 0.15);\n",
              "      filter: drop-shadow(0px 1px 2px rgba(0, 0, 0, 0.3));\n",
              "      fill: #FFFFFF;\n",
              "    }\n",
              "  </style>\n",
              "\n",
              "      <script>\n",
              "        const buttonEl =\n",
              "          document.querySelector('#df-e99712ca-2a20-4650-ad49-abf834bb6016 button.colab-df-convert');\n",
              "        buttonEl.style.display =\n",
              "          google.colab.kernel.accessAllowed ? 'block' : 'none';\n",
              "\n",
              "        async function convertToInteractive(key) {\n",
              "          const element = document.querySelector('#df-e99712ca-2a20-4650-ad49-abf834bb6016');\n",
              "          const dataTable =\n",
              "            await google.colab.kernel.invokeFunction('convertToInteractive',\n",
              "                                                     [key], {});\n",
              "          if (!dataTable) return;\n",
              "\n",
              "          const docLinkHtml = 'Like what you see? Visit the ' +\n",
              "            '<a target=\"_blank\" href=https://colab.research.google.com/notebooks/data_table.ipynb>data table notebook</a>'\n",
              "            + ' to learn more about interactive tables.';\n",
              "          element.innerHTML = '';\n",
              "          dataTable['output_type'] = 'display_data';\n",
              "          await google.colab.output.renderOutput(dataTable, element);\n",
              "          const docLink = document.createElement('div');\n",
              "          docLink.innerHTML = docLinkHtml;\n",
              "          element.appendChild(docLink);\n",
              "        }\n",
              "      </script>\n",
              "    </div>\n",
              "  </div>\n",
              "  "
            ]
          },
          "metadata": {},
          "execution_count": 4
        }
      ]
    },
    {
      "cell_type": "code",
      "source": [
        "# check the number of entries and data type for each variable\n",
        "bird.info()"
      ],
      "metadata": {
        "colab": {
          "base_uri": "https://localhost:8080/"
        },
        "id": "ILgVk1XbdGHI",
        "outputId": "b39af0ae-6d59-43c8-846b-3a44d63fd773"
      },
      "execution_count": null,
      "outputs": [
        {
          "output_type": "stream",
          "name": "stdout",
          "text": [
            "<class 'pandas.core.frame.DataFrame'>\n",
            "Int64Index: 65610 entries, 0 to 65609\n",
            "Data columns (total 23 columns):\n",
            " #   Column                                      Non-Null Count  Dtype  \n",
            "---  ------                                      --------------  -----  \n",
            " 0   Airport: Name                               65601 non-null  object \n",
            " 1   Altitude bin                                65610 non-null  object \n",
            " 2   Aircraft: Make/Model                        65610 non-null  object \n",
            " 3   Effect: Impact to flight                    36516 non-null  object \n",
            " 4   FlightDate                                  65610 non-null  object \n",
            " 5   Record ID                                   65610 non-null  int64  \n",
            " 6   Effect: Indicated Damage                    65610 non-null  object \n",
            " 7   Aircraft: Number of engines?                42766 non-null  object \n",
            " 8   Aircraft: Airline/Operator                  65610 non-null  object \n",
            " 9   Origin State                                59163 non-null  object \n",
            " 10  When: Phase of flight                       41051 non-null  object \n",
            " 11  Wildlife: Size                              56684 non-null  object \n",
            " 12  Wildlife: Species                           65593 non-null  object \n",
            " 13  When: Time (HHMM)                           36636 non-null  float64\n",
            " 14  When: Time of day                           41858 non-null  object \n",
            " 15  Pilot warned of birds or wildlife?          28361 non-null  object \n",
            " 16  Cost: Aircraft time out of service (hours)  4363 non-null   float64\n",
            " 17  Cost: Other (inflation adj)                 65610 non-null  int64  \n",
            " 18  Cost: Repair (inflation adj)                65610 non-null  int64  \n",
            " 19  Cost: Total $                               65610 non-null  int64  \n",
            " 20  Miles from airport                          37867 non-null  float64\n",
            " 21  Feet above ground                           35069 non-null  float64\n",
            " 22  Speed (IAS) in knots                        25315 non-null  float64\n",
            "dtypes: float64(5), int64(4), object(14)\n",
            "memory usage: 12.0+ MB\n"
          ]
        }
      ]
    },
    {
      "cell_type": "code",
      "source": [
        "# get a quick description of non-null numeric values in the data\n",
        "bird.drop(['Record ID'], axis=1).describe()"
      ],
      "metadata": {
        "colab": {
          "base_uri": "https://localhost:8080/",
          "height": 361
        },
        "id": "6ylDkucMdJNo",
        "outputId": "6776effd-aa35-4b40-c378-5071236b6a8e"
      },
      "execution_count": null,
      "outputs": [
        {
          "output_type": "execute_result",
          "data": {
            "text/plain": [
              "       When: Time (HHMM)  Cost: Aircraft time out of service (hours)  \\\n",
              "count       36636.000000                                 4363.000000   \n",
              "mean         1389.074271                                   66.022003   \n",
              "std           613.410508                                  328.540826   \n",
              "min             0.000000                                    0.000000   \n",
              "25%           915.000000                                    0.000000   \n",
              "50%          1410.000000                                    1.000000   \n",
              "75%          1930.000000                                   12.000000   \n",
              "max          2359.000000                                 6480.000000   \n",
              "\n",
              "       Cost: Other (inflation adj)  Cost: Repair (inflation adj)  \\\n",
              "count                 6.561000e+04                  6.561000e+04   \n",
              "mean                  3.638845e+02                  4.170667e+03   \n",
              "std                   2.449922e+04                  1.888698e+05   \n",
              "min                   0.000000e+00                  0.000000e+00   \n",
              "25%                   0.000000e+00                  0.000000e+00   \n",
              "50%                   0.000000e+00                  0.000000e+00   \n",
              "75%                   0.000000e+00                  0.000000e+00   \n",
              "max                   5.856751e+06                  3.794880e+07   \n",
              "\n",
              "       Cost: Total $  Miles from airport  Feet above ground  \\\n",
              "count   6.561000e+04        37867.000000       35069.000000   \n",
              "mean    4.534551e+03            0.756544         879.610283   \n",
              "std     1.929826e+05            7.586022        1843.923421   \n",
              "min     0.000000e+00            0.000000           0.000000   \n",
              "25%     0.000000e+00            0.000000           0.000000   \n",
              "50%     0.000000e+00            0.000000          50.000000   \n",
              "75%     0.000000e+00            0.000000         900.000000   \n",
              "max     3.794880e+07         1300.000000       31300.000000   \n",
              "\n",
              "       Speed (IAS) in knots  \n",
              "count          25315.000000  \n",
              "mean             151.563658  \n",
              "std              267.393363  \n",
              "min                0.000000  \n",
              "25%              120.000000  \n",
              "50%              140.000000  \n",
              "75%              160.000000  \n",
              "max             9999.000000  "
            ],
            "text/html": [
              "\n",
              "  <div id=\"df-60b9168f-5b3a-40d9-bff5-ce790fbb4bbd\">\n",
              "    <div class=\"colab-df-container\">\n",
              "      <div>\n",
              "<style scoped>\n",
              "    .dataframe tbody tr th:only-of-type {\n",
              "        vertical-align: middle;\n",
              "    }\n",
              "\n",
              "    .dataframe tbody tr th {\n",
              "        vertical-align: top;\n",
              "    }\n",
              "\n",
              "    .dataframe thead th {\n",
              "        text-align: right;\n",
              "    }\n",
              "</style>\n",
              "<table border=\"1\" class=\"dataframe\">\n",
              "  <thead>\n",
              "    <tr style=\"text-align: right;\">\n",
              "      <th></th>\n",
              "      <th>When: Time (HHMM)</th>\n",
              "      <th>Cost: Aircraft time out of service (hours)</th>\n",
              "      <th>Cost: Other (inflation adj)</th>\n",
              "      <th>Cost: Repair (inflation adj)</th>\n",
              "      <th>Cost: Total $</th>\n",
              "      <th>Miles from airport</th>\n",
              "      <th>Feet above ground</th>\n",
              "      <th>Speed (IAS) in knots</th>\n",
              "    </tr>\n",
              "  </thead>\n",
              "  <tbody>\n",
              "    <tr>\n",
              "      <th>count</th>\n",
              "      <td>36636.000000</td>\n",
              "      <td>4363.000000</td>\n",
              "      <td>6.561000e+04</td>\n",
              "      <td>6.561000e+04</td>\n",
              "      <td>6.561000e+04</td>\n",
              "      <td>37867.000000</td>\n",
              "      <td>35069.000000</td>\n",
              "      <td>25315.000000</td>\n",
              "    </tr>\n",
              "    <tr>\n",
              "      <th>mean</th>\n",
              "      <td>1389.074271</td>\n",
              "      <td>66.022003</td>\n",
              "      <td>3.638845e+02</td>\n",
              "      <td>4.170667e+03</td>\n",
              "      <td>4.534551e+03</td>\n",
              "      <td>0.756544</td>\n",
              "      <td>879.610283</td>\n",
              "      <td>151.563658</td>\n",
              "    </tr>\n",
              "    <tr>\n",
              "      <th>std</th>\n",
              "      <td>613.410508</td>\n",
              "      <td>328.540826</td>\n",
              "      <td>2.449922e+04</td>\n",
              "      <td>1.888698e+05</td>\n",
              "      <td>1.929826e+05</td>\n",
              "      <td>7.586022</td>\n",
              "      <td>1843.923421</td>\n",
              "      <td>267.393363</td>\n",
              "    </tr>\n",
              "    <tr>\n",
              "      <th>min</th>\n",
              "      <td>0.000000</td>\n",
              "      <td>0.000000</td>\n",
              "      <td>0.000000e+00</td>\n",
              "      <td>0.000000e+00</td>\n",
              "      <td>0.000000e+00</td>\n",
              "      <td>0.000000</td>\n",
              "      <td>0.000000</td>\n",
              "      <td>0.000000</td>\n",
              "    </tr>\n",
              "    <tr>\n",
              "      <th>25%</th>\n",
              "      <td>915.000000</td>\n",
              "      <td>0.000000</td>\n",
              "      <td>0.000000e+00</td>\n",
              "      <td>0.000000e+00</td>\n",
              "      <td>0.000000e+00</td>\n",
              "      <td>0.000000</td>\n",
              "      <td>0.000000</td>\n",
              "      <td>120.000000</td>\n",
              "    </tr>\n",
              "    <tr>\n",
              "      <th>50%</th>\n",
              "      <td>1410.000000</td>\n",
              "      <td>1.000000</td>\n",
              "      <td>0.000000e+00</td>\n",
              "      <td>0.000000e+00</td>\n",
              "      <td>0.000000e+00</td>\n",
              "      <td>0.000000</td>\n",
              "      <td>50.000000</td>\n",
              "      <td>140.000000</td>\n",
              "    </tr>\n",
              "    <tr>\n",
              "      <th>75%</th>\n",
              "      <td>1930.000000</td>\n",
              "      <td>12.000000</td>\n",
              "      <td>0.000000e+00</td>\n",
              "      <td>0.000000e+00</td>\n",
              "      <td>0.000000e+00</td>\n",
              "      <td>0.000000</td>\n",
              "      <td>900.000000</td>\n",
              "      <td>160.000000</td>\n",
              "    </tr>\n",
              "    <tr>\n",
              "      <th>max</th>\n",
              "      <td>2359.000000</td>\n",
              "      <td>6480.000000</td>\n",
              "      <td>5.856751e+06</td>\n",
              "      <td>3.794880e+07</td>\n",
              "      <td>3.794880e+07</td>\n",
              "      <td>1300.000000</td>\n",
              "      <td>31300.000000</td>\n",
              "      <td>9999.000000</td>\n",
              "    </tr>\n",
              "  </tbody>\n",
              "</table>\n",
              "</div>\n",
              "      <button class=\"colab-df-convert\" onclick=\"convertToInteractive('df-60b9168f-5b3a-40d9-bff5-ce790fbb4bbd')\"\n",
              "              title=\"Convert this dataframe to an interactive table.\"\n",
              "              style=\"display:none;\">\n",
              "        \n",
              "  <svg xmlns=\"http://www.w3.org/2000/svg\" height=\"24px\"viewBox=\"0 0 24 24\"\n",
              "       width=\"24px\">\n",
              "    <path d=\"M0 0h24v24H0V0z\" fill=\"none\"/>\n",
              "    <path d=\"M18.56 5.44l.94 2.06.94-2.06 2.06-.94-2.06-.94-.94-2.06-.94 2.06-2.06.94zm-11 1L8.5 8.5l.94-2.06 2.06-.94-2.06-.94L8.5 2.5l-.94 2.06-2.06.94zm10 10l.94 2.06.94-2.06 2.06-.94-2.06-.94-.94-2.06-.94 2.06-2.06.94z\"/><path d=\"M17.41 7.96l-1.37-1.37c-.4-.4-.92-.59-1.43-.59-.52 0-1.04.2-1.43.59L10.3 9.45l-7.72 7.72c-.78.78-.78 2.05 0 2.83L4 21.41c.39.39.9.59 1.41.59.51 0 1.02-.2 1.41-.59l7.78-7.78 2.81-2.81c.8-.78.8-2.07 0-2.86zM5.41 20L4 18.59l7.72-7.72 1.47 1.35L5.41 20z\"/>\n",
              "  </svg>\n",
              "      </button>\n",
              "      \n",
              "  <style>\n",
              "    .colab-df-container {\n",
              "      display:flex;\n",
              "      flex-wrap:wrap;\n",
              "      gap: 12px;\n",
              "    }\n",
              "\n",
              "    .colab-df-convert {\n",
              "      background-color: #E8F0FE;\n",
              "      border: none;\n",
              "      border-radius: 50%;\n",
              "      cursor: pointer;\n",
              "      display: none;\n",
              "      fill: #1967D2;\n",
              "      height: 32px;\n",
              "      padding: 0 0 0 0;\n",
              "      width: 32px;\n",
              "    }\n",
              "\n",
              "    .colab-df-convert:hover {\n",
              "      background-color: #E2EBFA;\n",
              "      box-shadow: 0px 1px 2px rgba(60, 64, 67, 0.3), 0px 1px 3px 1px rgba(60, 64, 67, 0.15);\n",
              "      fill: #174EA6;\n",
              "    }\n",
              "\n",
              "    [theme=dark] .colab-df-convert {\n",
              "      background-color: #3B4455;\n",
              "      fill: #D2E3FC;\n",
              "    }\n",
              "\n",
              "    [theme=dark] .colab-df-convert:hover {\n",
              "      background-color: #434B5C;\n",
              "      box-shadow: 0px 1px 3px 1px rgba(0, 0, 0, 0.15);\n",
              "      filter: drop-shadow(0px 1px 2px rgba(0, 0, 0, 0.3));\n",
              "      fill: #FFFFFF;\n",
              "    }\n",
              "  </style>\n",
              "\n",
              "      <script>\n",
              "        const buttonEl =\n",
              "          document.querySelector('#df-60b9168f-5b3a-40d9-bff5-ce790fbb4bbd button.colab-df-convert');\n",
              "        buttonEl.style.display =\n",
              "          google.colab.kernel.accessAllowed ? 'block' : 'none';\n",
              "\n",
              "        async function convertToInteractive(key) {\n",
              "          const element = document.querySelector('#df-60b9168f-5b3a-40d9-bff5-ce790fbb4bbd');\n",
              "          const dataTable =\n",
              "            await google.colab.kernel.invokeFunction('convertToInteractive',\n",
              "                                                     [key], {});\n",
              "          if (!dataTable) return;\n",
              "\n",
              "          const docLinkHtml = 'Like what you see? Visit the ' +\n",
              "            '<a target=\"_blank\" href=https://colab.research.google.com/notebooks/data_table.ipynb>data table notebook</a>'\n",
              "            + ' to learn more about interactive tables.';\n",
              "          element.innerHTML = '';\n",
              "          dataTable['output_type'] = 'display_data';\n",
              "          await google.colab.output.renderOutput(dataTable, element);\n",
              "          const docLink = document.createElement('div');\n",
              "          docLink.innerHTML = docLinkHtml;\n",
              "          element.appendChild(docLink);\n",
              "        }\n",
              "      </script>\n",
              "    </div>\n",
              "  </div>\n",
              "  "
            ]
          },
          "metadata": {},
          "execution_count": 6
        }
      ]
    },
    {
      "cell_type": "code",
      "source": [
        "# subset the data with any damage or negative impact to the flight\n",
        "bird_dmg = bird.loc[(bird['Effect: Indicated Damage'] != 'No damage') | \n",
        "                    (bird['Cost: Total $'] > 0) ]"
      ],
      "metadata": {
        "id": "Ri-DZSJTdL7v"
      },
      "execution_count": null,
      "outputs": []
    },
    {
      "cell_type": "code",
      "source": [
        "# get a table of number of strikes across aircraft type and aircraft engine numbers\n",
        "count_air_type = DataFrame({'count' : bird.groupby( ['Aircraft: Number of engines?'] ).size()}).reset_index()\n",
        "count_air_type.sort_values(['count'], ascending=0)"
      ],
      "metadata": {
        "colab": {
          "base_uri": "https://localhost:8080/",
          "height": 206
        },
        "id": "ny_mqEpEdPZf",
        "outputId": "308a2657-6078-4da4-aaeb-e470357766a1"
      },
      "execution_count": null,
      "outputs": [
        {
          "output_type": "execute_result",
          "data": {
            "text/plain": [
              "  Aircraft: Number of engines?  count\n",
              "1                            2  37127\n",
              "2                            3   2456\n",
              "0                            1   2114\n",
              "3                            4   1068\n",
              "4                            S      1"
            ],
            "text/html": [
              "\n",
              "  <div id=\"df-e5f3f41c-96df-4831-9821-2cf87b26dc35\">\n",
              "    <div class=\"colab-df-container\">\n",
              "      <div>\n",
              "<style scoped>\n",
              "    .dataframe tbody tr th:only-of-type {\n",
              "        vertical-align: middle;\n",
              "    }\n",
              "\n",
              "    .dataframe tbody tr th {\n",
              "        vertical-align: top;\n",
              "    }\n",
              "\n",
              "    .dataframe thead th {\n",
              "        text-align: right;\n",
              "    }\n",
              "</style>\n",
              "<table border=\"1\" class=\"dataframe\">\n",
              "  <thead>\n",
              "    <tr style=\"text-align: right;\">\n",
              "      <th></th>\n",
              "      <th>Aircraft: Number of engines?</th>\n",
              "      <th>count</th>\n",
              "    </tr>\n",
              "  </thead>\n",
              "  <tbody>\n",
              "    <tr>\n",
              "      <th>1</th>\n",
              "      <td>2</td>\n",
              "      <td>37127</td>\n",
              "    </tr>\n",
              "    <tr>\n",
              "      <th>2</th>\n",
              "      <td>3</td>\n",
              "      <td>2456</td>\n",
              "    </tr>\n",
              "    <tr>\n",
              "      <th>0</th>\n",
              "      <td>1</td>\n",
              "      <td>2114</td>\n",
              "    </tr>\n",
              "    <tr>\n",
              "      <th>3</th>\n",
              "      <td>4</td>\n",
              "      <td>1068</td>\n",
              "    </tr>\n",
              "    <tr>\n",
              "      <th>4</th>\n",
              "      <td>S</td>\n",
              "      <td>1</td>\n",
              "    </tr>\n",
              "  </tbody>\n",
              "</table>\n",
              "</div>\n",
              "      <button class=\"colab-df-convert\" onclick=\"convertToInteractive('df-e5f3f41c-96df-4831-9821-2cf87b26dc35')\"\n",
              "              title=\"Convert this dataframe to an interactive table.\"\n",
              "              style=\"display:none;\">\n",
              "        \n",
              "  <svg xmlns=\"http://www.w3.org/2000/svg\" height=\"24px\"viewBox=\"0 0 24 24\"\n",
              "       width=\"24px\">\n",
              "    <path d=\"M0 0h24v24H0V0z\" fill=\"none\"/>\n",
              "    <path d=\"M18.56 5.44l.94 2.06.94-2.06 2.06-.94-2.06-.94-.94-2.06-.94 2.06-2.06.94zm-11 1L8.5 8.5l.94-2.06 2.06-.94-2.06-.94L8.5 2.5l-.94 2.06-2.06.94zm10 10l.94 2.06.94-2.06 2.06-.94-2.06-.94-.94-2.06-.94 2.06-2.06.94z\"/><path d=\"M17.41 7.96l-1.37-1.37c-.4-.4-.92-.59-1.43-.59-.52 0-1.04.2-1.43.59L10.3 9.45l-7.72 7.72c-.78.78-.78 2.05 0 2.83L4 21.41c.39.39.9.59 1.41.59.51 0 1.02-.2 1.41-.59l7.78-7.78 2.81-2.81c.8-.78.8-2.07 0-2.86zM5.41 20L4 18.59l7.72-7.72 1.47 1.35L5.41 20z\"/>\n",
              "  </svg>\n",
              "      </button>\n",
              "      \n",
              "  <style>\n",
              "    .colab-df-container {\n",
              "      display:flex;\n",
              "      flex-wrap:wrap;\n",
              "      gap: 12px;\n",
              "    }\n",
              "\n",
              "    .colab-df-convert {\n",
              "      background-color: #E8F0FE;\n",
              "      border: none;\n",
              "      border-radius: 50%;\n",
              "      cursor: pointer;\n",
              "      display: none;\n",
              "      fill: #1967D2;\n",
              "      height: 32px;\n",
              "      padding: 0 0 0 0;\n",
              "      width: 32px;\n",
              "    }\n",
              "\n",
              "    .colab-df-convert:hover {\n",
              "      background-color: #E2EBFA;\n",
              "      box-shadow: 0px 1px 2px rgba(60, 64, 67, 0.3), 0px 1px 3px 1px rgba(60, 64, 67, 0.15);\n",
              "      fill: #174EA6;\n",
              "    }\n",
              "\n",
              "    [theme=dark] .colab-df-convert {\n",
              "      background-color: #3B4455;\n",
              "      fill: #D2E3FC;\n",
              "    }\n",
              "\n",
              "    [theme=dark] .colab-df-convert:hover {\n",
              "      background-color: #434B5C;\n",
              "      box-shadow: 0px 1px 3px 1px rgba(0, 0, 0, 0.15);\n",
              "      filter: drop-shadow(0px 1px 2px rgba(0, 0, 0, 0.3));\n",
              "      fill: #FFFFFF;\n",
              "    }\n",
              "  </style>\n",
              "\n",
              "      <script>\n",
              "        const buttonEl =\n",
              "          document.querySelector('#df-e5f3f41c-96df-4831-9821-2cf87b26dc35 button.colab-df-convert');\n",
              "        buttonEl.style.display =\n",
              "          google.colab.kernel.accessAllowed ? 'block' : 'none';\n",
              "\n",
              "        async function convertToInteractive(key) {\n",
              "          const element = document.querySelector('#df-e5f3f41c-96df-4831-9821-2cf87b26dc35');\n",
              "          const dataTable =\n",
              "            await google.colab.kernel.invokeFunction('convertToInteractive',\n",
              "                                                     [key], {});\n",
              "          if (!dataTable) return;\n",
              "\n",
              "          const docLinkHtml = 'Like what you see? Visit the ' +\n",
              "            '<a target=\"_blank\" href=https://colab.research.google.com/notebooks/data_table.ipynb>data table notebook</a>'\n",
              "            + ' to learn more about interactive tables.';\n",
              "          element.innerHTML = '';\n",
              "          dataTable['output_type'] = 'display_data';\n",
              "          await google.colab.output.renderOutput(dataTable, element);\n",
              "          const docLink = document.createElement('div');\n",
              "          docLink.innerHTML = docLinkHtml;\n",
              "          element.appendChild(docLink);\n",
              "        }\n",
              "      </script>\n",
              "    </div>\n",
              "  </div>\n",
              "  "
            ]
          },
          "metadata": {},
          "execution_count": 8
        }
      ]
    },
    {
      "cell_type": "code",
      "source": [
        "# set abnormal entries for Aircraft: Number of engines? to be NaN\n",
        "bird.loc[(bird['Aircraft: Number of engines?'] == 'S'),'Aircraft: Number of engines?'] = np.nan\n",
        "\n",
        "# update bird_dmg as well\n",
        "bird_dmg = bird.loc[(bird['Effect: Indicated Damage'] != 'No damage') | \n",
        "                    (bird['Cost: Total $'] > 0) ]\n",
        "\n",
        "# re-generate count table\n",
        "count_air_type = DataFrame({'count' : bird.groupby( ['Aircraft: Number of engines?'] ).size()}).reset_index()\n",
        "# plot the frequency of Aircraft: Number of engines?\n",
        "fig_air_type = sns.barplot(x=u'Aircraft: Number of engines?', y='count', data=count_air_type)\n",
        "fig_air_type.set(xlabel='Aircraft: Number of Engines', ylabel='Counts - All Strikes');\n",
        "fig_air_type.set_title('The Frequency of All Strikes Over Aircraft Number of Engines');"
      ],
      "metadata": {
        "colab": {
          "base_uri": "https://localhost:8080/",
          "height": 295
        },
        "id": "n7mrvRFhdR5f",
        "outputId": "7791c3b0-cdd4-484c-e484-669313189ced"
      },
      "execution_count": null,
      "outputs": [
        {
          "output_type": "display_data",
          "data": {
            "text/plain": [
              "<Figure size 432x288 with 1 Axes>"
            ],
            "image/png": "[encoded data removed]"
          },
          "metadata": {
            "needs_background": "light"
          }
        }
      ]
    },
    {
      "cell_type": "code",
      "source": [
        "# table for damaging stikes\n",
        "count_air_type0 = DataFrame({'count' : bird_dmg.groupby( [ 'Aircraft: Number of engines?'] ).size()}).reset_index()\n",
        "count_air_type0['All Strikes Counts'] = count_air_type['count']\n",
        "count_air_type0['Damage Rate'] = count_air_type0['count']/count_air_type0['All Strikes Counts']\n",
        "# plot the frequency of Aircraft: Number of engines?\n",
        "fig_air_type0 = sns.barplot(x=u'Aircraft: Number of engines?', y='count', data=count_air_type0)\n",
        "fig_air_type0.set(xlabel='Aircraft: Number of Engines', ylabel='Counts - Damaging Strikes');\n",
        "fig_air_type0.set_title('The Frequency of Damaging Strikes Over \\n Aircraft Number of Engines');"
      ],
      "metadata": {
        "colab": {
          "base_uri": "https://localhost:8080/",
          "height": 310
        },
        "id": "DRKKSu4AdVfP",
        "outputId": "2ecc6018-0c58-4379-f8be-ae9b4a5017a9"
      },
      "execution_count": null,
      "outputs": [
        {
          "output_type": "display_data",
          "data": {
            "text/plain": [
              "<Figure size 432x288 with 1 Axes>"
            ],
            "image/png": "[encoded data removed]"
          },
          "metadata": {
            "needs_background": "light"
          }
        }
      ]
    },
    {
      "cell_type": "code",
      "source": [
        "# plot the damage rate of Aircraft: Number of engines?\n",
        "fig_air_type01 = sns.barplot(x=u'Aircraft: Number of engines?', y='Damage Rate', data=count_air_type0)\n",
        "fig_air_type01.set(xlabel='Aircraft: Number of Engines', ylabel='Damage Rate');\n",
        "fig_air_type01.set_title('Damage Rate Over Aircraft Number of Engines');"
      ],
      "metadata": {
        "colab": {
          "base_uri": "https://localhost:8080/",
          "height": 295
        },
        "id": "F4Fac5VGdYzY",
        "outputId": "9b0cb722-ce00-468a-ce2d-df7cf4164b0f"
      },
      "execution_count": null,
      "outputs": [
        {
          "output_type": "display_data",
          "data": {
            "text/plain": [
              "<Figure size 432x288 with 1 Axes>"
            ],
            "image/png": "[encoded data removed]"
          },
          "metadata": {
            "needs_background": "light"
          }
        }
      ]
    },
    {
      "cell_type": "code",
      "source": [
        "count_air_n_eng = DataFrame({'count' : bird.groupby( ['Aircraft: Airline/Operator'] ).size()}).reset_index()\n",
        "count_air_n_eng.sort_values(['count'], ascending=0).head(10)"
      ],
      "metadata": {
        "colab": {
          "base_uri": "https://localhost:8080/",
          "height": 363
        },
        "id": "0LSG1iWtdcig",
        "outputId": "8f4dd5d5-1950-4392-e6bc-0cb3306d315b"
      },
      "execution_count": null,
      "outputs": [
        {
          "output_type": "execute_result",
          "data": {
            "text/plain": [
              "    Aircraft: Airline/Operator  count\n",
              "277                    UNKNOWN  16342\n",
              "196                   MILITARY   6108\n",
              "253         SOUTHWEST AIRLINES   5995\n",
              "72                    BUSINESS   4305\n",
              "134              FEDEX EXPRESS   3092\n",
              "279               UPS AIRLINES   2898\n",
              "275            UNITED AIRLINES   2805\n",
              "45           AMERICAN AIRLINES   2102\n",
              "111            DELTA AIR LINES   1573\n",
              "250           SKYWEST AIRLINES   1569"
            ],
            "text/html": [
              "\n",
              "  <div id=\"df-faf9d194-f503-4841-8d74-ab03d30194bf\">\n",
              "    <div class=\"colab-df-container\">\n",
              "      <div>\n",
              "<style scoped>\n",
              "    .dataframe tbody tr th:only-of-type {\n",
              "        vertical-align: middle;\n",
              "    }\n",
              "\n",
              "    .dataframe tbody tr th {\n",
              "        vertical-align: top;\n",
              "    }\n",
              "\n",
              "    .dataframe thead th {\n",
              "        text-align: right;\n",
              "    }\n",
              "</style>\n",
              "<table border=\"1\" class=\"dataframe\">\n",
              "  <thead>\n",
              "    <tr style=\"text-align: right;\">\n",
              "      <th></th>\n",
              "      <th>Aircraft: Airline/Operator</th>\n",
              "      <th>count</th>\n",
              "    </tr>\n",
              "  </thead>\n",
              "  <tbody>\n",
              "    <tr>\n",
              "      <th>277</th>\n",
              "      <td>UNKNOWN</td>\n",
              "      <td>16342</td>\n",
              "    </tr>\n",
              "    <tr>\n",
              "      <th>196</th>\n",
              "      <td>MILITARY</td>\n",
              "      <td>6108</td>\n",
              "    </tr>\n",
              "    <tr>\n",
              "      <th>253</th>\n",
              "      <td>SOUTHWEST AIRLINES</td>\n",
              "      <td>5995</td>\n",
              "    </tr>\n",
              "    <tr>\n",
              "      <th>72</th>\n",
              "      <td>BUSINESS</td>\n",
              "      <td>4305</td>\n",
              "    </tr>\n",
              "    <tr>\n",
              "      <th>134</th>\n",
              "      <td>FEDEX EXPRESS</td>\n",
              "      <td>3092</td>\n",
              "    </tr>\n",
              "    <tr>\n",
              "      <th>279</th>\n",
              "      <td>UPS AIRLINES</td>\n",
              "      <td>2898</td>\n",
              "    </tr>\n",
              "    <tr>\n",
              "      <th>275</th>\n",
              "      <td>UNITED AIRLINES</td>\n",
              "      <td>2805</td>\n",
              "    </tr>\n",
              "    <tr>\n",
              "      <th>45</th>\n",
              "      <td>AMERICAN AIRLINES</td>\n",
              "      <td>2102</td>\n",
              "    </tr>\n",
              "    <tr>\n",
              "      <th>111</th>\n",
              "      <td>DELTA AIR LINES</td>\n",
              "      <td>1573</td>\n",
              "    </tr>\n",
              "    <tr>\n",
              "      <th>250</th>\n",
              "      <td>SKYWEST AIRLINES</td>\n",
              "      <td>1569</td>\n",
              "    </tr>\n",
              "  </tbody>\n",
              "</table>\n",
              "</div>\n",
              "      <button class=\"colab-df-convert\" onclick=\"convertToInteractive('df-faf9d194-f503-4841-8d74-ab03d30194bf')\"\n",
              "              title=\"Convert this dataframe to an interactive table.\"\n",
              "              style=\"display:none;\">\n",
              "        \n",
              "  <svg xmlns=\"http://www.w3.org/2000/svg\" height=\"24px\"viewBox=\"0 0 24 24\"\n",
              "       width=\"24px\">\n",
              "    <path d=\"M0 0h24v24H0V0z\" fill=\"none\"/>\n",
              "    <path d=\"M18.56 5.44l.94 2.06.94-2.06 2.06-.94-2.06-.94-.94-2.06-.94 2.06-2.06.94zm-11 1L8.5 8.5l.94-2.06 2.06-.94-2.06-.94L8.5 2.5l-.94 2.06-2.06.94zm10 10l.94 2.06.94-2.06 2.06-.94-2.06-.94-.94-2.06-.94 2.06-2.06.94z\"/><path d=\"M17.41 7.96l-1.37-1.37c-.4-.4-.92-.59-1.43-.59-.52 0-1.04.2-1.43.59L10.3 9.45l-7.72 7.72c-.78.78-.78 2.05 0 2.83L4 21.41c.39.39.9.59 1.41.59.51 0 1.02-.2 1.41-.59l7.78-7.78 2.81-2.81c.8-.78.8-2.07 0-2.86zM5.41 20L4 18.59l7.72-7.72 1.47 1.35L5.41 20z\"/>\n",
              "  </svg>\n",
              "      </button>\n",
              "      \n",
              "  <style>\n",
              "    .colab-df-container {\n",
              "      display:flex;\n",
              "      flex-wrap:wrap;\n",
              "      gap: 12px;\n",
              "    }\n",
              "\n",
              "    .colab-df-convert {\n",
              "      background-color: #E8F0FE;\n",
              "      border: none;\n",
              "      border-radius: 50%;\n",
              "      cursor: pointer;\n",
              "      display: none;\n",
              "      fill: #1967D2;\n",
              "      height: 32px;\n",
              "      padding: 0 0 0 0;\n",
              "      width: 32px;\n",
              "    }\n",
              "\n",
              "    .colab-df-convert:hover {\n",
              "      background-color: #E2EBFA;\n",
              "      box-shadow: 0px 1px 2px rgba(60, 64, 67, 0.3), 0px 1px 3px 1px rgba(60, 64, 67, 0.15);\n",
              "      fill: #174EA6;\n",
              "    }\n",
              "\n",
              "    [theme=dark] .colab-df-convert {\n",
              "      background-color: #3B4455;\n",
              "      fill: #D2E3FC;\n",
              "    }\n",
              "\n",
              "    [theme=dark] .colab-df-convert:hover {\n",
              "      background-color: #434B5C;\n",
              "      box-shadow: 0px 1px 3px 1px rgba(0, 0, 0, 0.15);\n",
              "      filter: drop-shadow(0px 1px 2px rgba(0, 0, 0, 0.3));\n",
              "      fill: #FFFFFF;\n",
              "    }\n",
              "  </style>\n",
              "\n",
              "      <script>\n",
              "        const buttonEl =\n",
              "          document.querySelector('#df-faf9d194-f503-4841-8d74-ab03d30194bf button.colab-df-convert');\n",
              "        buttonEl.style.display =\n",
              "          google.colab.kernel.accessAllowed ? 'block' : 'none';\n",
              "\n",
              "        async function convertToInteractive(key) {\n",
              "          const element = document.querySelector('#df-faf9d194-f503-4841-8d74-ab03d30194bf');\n",
              "          const dataTable =\n",
              "            await google.colab.kernel.invokeFunction('convertToInteractive',\n",
              "                                                     [key], {});\n",
              "          if (!dataTable) return;\n",
              "\n",
              "          const docLinkHtml = 'Like what you see? Visit the ' +\n",
              "            '<a target=\"_blank\" href=https://colab.research.google.com/notebooks/data_table.ipynb>data table notebook</a>'\n",
              "            + ' to learn more about interactive tables.';\n",
              "          element.innerHTML = '';\n",
              "          dataTable['output_type'] = 'display_data';\n",
              "          await google.colab.output.renderOutput(dataTable, element);\n",
              "          const docLink = document.createElement('div');\n",
              "          docLink.innerHTML = docLinkHtml;\n",
              "          element.appendChild(docLink);\n",
              "        }\n",
              "      </script>\n",
              "    </div>\n",
              "  </div>\n",
              "  "
            ]
          },
          "metadata": {},
          "execution_count": 12
        }
      ]
    },
    {
      "cell_type": "code",
      "source": [
        "count_air_n_eng0 = DataFrame({'count' : bird_dmg.groupby( ['Aircraft: Airline/Operator'] ).size()}).reset_index()\n",
        "count_air_n_eng0.sort_values(['count'], ascending=0).head(10)"
      ],
      "metadata": {
        "colab": {
          "base_uri": "https://localhost:8080/",
          "height": 363
        },
        "id": "Ln7UES5sdf6Y",
        "outputId": "1205809e-bf1e-4d33-a0f6-84048c49a45d"
      },
      "execution_count": null,
      "outputs": [
        {
          "output_type": "execute_result",
          "data": {
            "text/plain": [
              "    Aircraft: Airline/Operator  count\n",
              "42                    BUSINESS   1220\n",
              "153         SOUTHWEST AIRLINES    471\n",
              "118                   MILITARY    254\n",
              "162            UNITED AIRLINES    248\n",
              "138            PRIVATELY OWNED    241\n",
              "165               UPS AIRLINES    197\n",
              "25           AMERICAN AIRLINES    172\n",
              "82               FEDEX EXPRESS    170\n",
              "67             DELTA AIR LINES    169\n",
              "101            JETBLUE AIRWAYS    113"
            ],
            "text/html": [
              "\n",
              "  <div id=\"df-62cbd4e6-fc8b-445c-a2ba-f1d3110d5c45\">\n",
              "    <div class=\"colab-df-container\">\n",
              "      <div>\n",
              "<style scoped>\n",
              "    .dataframe tbody tr th:only-of-type {\n",
              "        vertical-align: middle;\n",
              "    }\n",
              "\n",
              "    .dataframe tbody tr th {\n",
              "        vertical-align: top;\n",
              "    }\n",
              "\n",
              "    .dataframe thead th {\n",
              "        text-align: right;\n",
              "    }\n",
              "</style>\n",
              "<table border=\"1\" class=\"dataframe\">\n",
              "  <thead>\n",
              "    <tr style=\"text-align: right;\">\n",
              "      <th></th>\n",
              "      <th>Aircraft: Airline/Operator</th>\n",
              "      <th>count</th>\n",
              "    </tr>\n",
              "  </thead>\n",
              "  <tbody>\n",
              "    <tr>\n",
              "      <th>42</th>\n",
              "      <td>BUSINESS</td>\n",
              "      <td>1220</td>\n",
              "    </tr>\n",
              "    <tr>\n",
              "      <th>153</th>\n",
              "      <td>SOUTHWEST AIRLINES</td>\n",
              "      <td>471</td>\n",
              "    </tr>\n",
              "    <tr>\n",
              "      <th>118</th>\n",
              "      <td>MILITARY</td>\n",
              "      <td>254</td>\n",
              "    </tr>\n",
              "    <tr>\n",
              "      <th>162</th>\n",
              "      <td>UNITED AIRLINES</td>\n",
              "      <td>248</td>\n",
              "    </tr>\n",
              "    <tr>\n",
              "      <th>138</th>\n",
              "      <td>PRIVATELY OWNED</td>\n",
              "      <td>241</td>\n",
              "    </tr>\n",
              "    <tr>\n",
              "      <th>165</th>\n",
              "      <td>UPS AIRLINES</td>\n",
              "      <td>197</td>\n",
              "    </tr>\n",
              "    <tr>\n",
              "      <th>25</th>\n",
              "      <td>AMERICAN AIRLINES</td>\n",
              "      <td>172</td>\n",
              "    </tr>\n",
              "    <tr>\n",
              "      <th>82</th>\n",
              "      <td>FEDEX EXPRESS</td>\n",
              "      <td>170</td>\n",
              "    </tr>\n",
              "    <tr>\n",
              "      <th>67</th>\n",
              "      <td>DELTA AIR LINES</td>\n",
              "      <td>169</td>\n",
              "    </tr>\n",
              "    <tr>\n",
              "      <th>101</th>\n",
              "      <td>JETBLUE AIRWAYS</td>\n",
              "      <td>113</td>\n",
              "    </tr>\n",
              "  </tbody>\n",
              "</table>\n",
              "</div>\n",
              "      <button class=\"colab-df-convert\" onclick=\"convertToInteractive('df-62cbd4e6-fc8b-445c-a2ba-f1d3110d5c45')\"\n",
              "              title=\"Convert this dataframe to an interactive table.\"\n",
              "              style=\"display:none;\">\n",
              "        \n",
              "  <svg xmlns=\"http://www.w3.org/2000/svg\" height=\"24px\"viewBox=\"0 0 24 24\"\n",
              "       width=\"24px\">\n",
              "    <path d=\"M0 0h24v24H0V0z\" fill=\"none\"/>\n",
              "    <path d=\"M18.56 5.44l.94 2.06.94-2.06 2.06-.94-2.06-.94-.94-2.06-.94 2.06-2.06.94zm-11 1L8.5 8.5l.94-2.06 2.06-.94-2.06-.94L8.5 2.5l-.94 2.06-2.06.94zm10 10l.94 2.06.94-2.06 2.06-.94-2.06-.94-.94-2.06-.94 2.06-2.06.94z\"/><path d=\"M17.41 7.96l-1.37-1.37c-.4-.4-.92-.59-1.43-.59-.52 0-1.04.2-1.43.59L10.3 9.45l-7.72 7.72c-.78.78-.78 2.05 0 2.83L4 21.41c.39.39.9.59 1.41.59.51 0 1.02-.2 1.41-.59l7.78-7.78 2.81-2.81c.8-.78.8-2.07 0-2.86zM5.41 20L4 18.59l7.72-7.72 1.47 1.35L5.41 20z\"/>\n",
              "  </svg>\n",
              "      </button>\n",
              "      \n",
              "  <style>\n",
              "    .colab-df-container {\n",
              "      display:flex;\n",
              "      flex-wrap:wrap;\n",
              "      gap: 12px;\n",
              "    }\n",
              "\n",
              "    .colab-df-convert {\n",
              "      background-color: #E8F0FE;\n",
              "      border: none;\n",
              "      border-radius: 50%;\n",
              "      cursor: pointer;\n",
              "      display: none;\n",
              "      fill: #1967D2;\n",
              "      height: 32px;\n",
              "      padding: 0 0 0 0;\n",
              "      width: 32px;\n",
              "    }\n",
              "\n",
              "    .colab-df-convert:hover {\n",
              "      background-color: #E2EBFA;\n",
              "      box-shadow: 0px 1px 2px rgba(60, 64, 67, 0.3), 0px 1px 3px 1px rgba(60, 64, 67, 0.15);\n",
              "      fill: #174EA6;\n",
              "    }\n",
              "\n",
              "    [theme=dark] .colab-df-convert {\n",
              "      background-color: #3B4455;\n",
              "      fill: #D2E3FC;\n",
              "    }\n",
              "\n",
              "    [theme=dark] .colab-df-convert:hover {\n",
              "      background-color: #434B5C;\n",
              "      box-shadow: 0px 1px 3px 1px rgba(0, 0, 0, 0.15);\n",
              "      filter: drop-shadow(0px 1px 2px rgba(0, 0, 0, 0.3));\n",
              "      fill: #FFFFFF;\n",
              "    }\n",
              "  </style>\n",
              "\n",
              "      <script>\n",
              "        const buttonEl =\n",
              "          document.querySelector('#df-62cbd4e6-fc8b-445c-a2ba-f1d3110d5c45 button.colab-df-convert');\n",
              "        buttonEl.style.display =\n",
              "          google.colab.kernel.accessAllowed ? 'block' : 'none';\n",
              "\n",
              "        async function convertToInteractive(key) {\n",
              "          const element = document.querySelector('#df-62cbd4e6-fc8b-445c-a2ba-f1d3110d5c45');\n",
              "          const dataTable =\n",
              "            await google.colab.kernel.invokeFunction('convertToInteractive',\n",
              "                                                     [key], {});\n",
              "          if (!dataTable) return;\n",
              "\n",
              "          const docLinkHtml = 'Like what you see? Visit the ' +\n",
              "            '<a target=\"_blank\" href=https://colab.research.google.com/notebooks/data_table.ipynb>data table notebook</a>'\n",
              "            + ' to learn more about interactive tables.';\n",
              "          element.innerHTML = '';\n",
              "          dataTable['output_type'] = 'display_data';\n",
              "          await google.colab.output.renderOutput(dataTable, element);\n",
              "          const docLink = document.createElement('div');\n",
              "          docLink.innerHTML = docLinkHtml;\n",
              "          element.appendChild(docLink);\n",
              "        }\n",
              "      </script>\n",
              "    </div>\n",
              "  </div>\n",
              "  "
            ]
          },
          "metadata": {},
          "execution_count": 13
        }
      ]
    },
    {
      "cell_type": "code",
      "source": [
        "count_air_make = DataFrame({'count' : bird.groupby( ['Aircraft: Make/Model'] ).size()}).reset_index()\n",
        "count_air_make.sort_values(['count'], ascending=0).head(10)"
      ],
      "metadata": {
        "colab": {
          "base_uri": "https://localhost:8080/",
          "height": 363
        },
        "id": "r5THx6PudjPA",
        "outputId": "cc615efa-3c28-4b5b-c73c-2231dfb31a81"
      },
      "execution_count": null,
      "outputs": [
        {
          "output_type": "execute_result",
          "data": {
            "text/plain": [
              "    Aircraft: Make/Model  count\n",
              "448              UNKNOWN  19540\n",
              "49             B-737-700   3634\n",
              "195         CL-RJ100/200   3133\n",
              "45             B-737-300   2912\n",
              "6                  A-320   2825\n",
              "58             B-757-200   2363\n",
              "5                  A-319   1967\n",
              "2                  A-300   1748\n",
              "258              EMB-145   1618\n",
              "50             B-737-800   1132"
            ],
            "text/html": [
              "\n",
              "  <div id=\"df-356ecf4a-4258-471b-bd52-cbc94683ed6a\">\n",
              "    <div class=\"colab-df-container\">\n",
              "      <div>\n",
              "<style scoped>\n",
              "    .dataframe tbody tr th:only-of-type {\n",
              "        vertical-align: middle;\n",
              "    }\n",
              "\n",
              "    .dataframe tbody tr th {\n",
              "        vertical-align: top;\n",
              "    }\n",
              "\n",
              "    .dataframe thead th {\n",
              "        text-align: right;\n",
              "    }\n",
              "</style>\n",
              "<table border=\"1\" class=\"dataframe\">\n",
              "  <thead>\n",
              "    <tr style=\"text-align: right;\">\n",
              "      <th></th>\n",
              "      <th>Aircraft: Make/Model</th>\n",
              "      <th>count</th>\n",
              "    </tr>\n",
              "  </thead>\n",
              "  <tbody>\n",
              "    <tr>\n",
              "      <th>448</th>\n",
              "      <td>UNKNOWN</td>\n",
              "      <td>19540</td>\n",
              "    </tr>\n",
              "    <tr>\n",
              "      <th>49</th>\n",
              "      <td>B-737-700</td>\n",
              "      <td>3634</td>\n",
              "    </tr>\n",
              "    <tr>\n",
              "      <th>195</th>\n",
              "      <td>CL-RJ100/200</td>\n",
              "      <td>3133</td>\n",
              "    </tr>\n",
              "    <tr>\n",
              "      <th>45</th>\n",
              "      <td>B-737-300</td>\n",
              "      <td>2912</td>\n",
              "    </tr>\n",
              "    <tr>\n",
              "      <th>6</th>\n",
              "      <td>A-320</td>\n",
              "      <td>2825</td>\n",
              "    </tr>\n",
              "    <tr>\n",
              "      <th>58</th>\n",
              "      <td>B-757-200</td>\n",
              "      <td>2363</td>\n",
              "    </tr>\n",
              "    <tr>\n",
              "      <th>5</th>\n",
              "      <td>A-319</td>\n",
              "      <td>1967</td>\n",
              "    </tr>\n",
              "    <tr>\n",
              "      <th>2</th>\n",
              "      <td>A-300</td>\n",
              "      <td>1748</td>\n",
              "    </tr>\n",
              "    <tr>\n",
              "      <th>258</th>\n",
              "      <td>EMB-145</td>\n",
              "      <td>1618</td>\n",
              "    </tr>\n",
              "    <tr>\n",
              "      <th>50</th>\n",
              "      <td>B-737-800</td>\n",
              "      <td>1132</td>\n",
              "    </tr>\n",
              "  </tbody>\n",
              "</table>\n",
              "</div>\n",
              "      <button class=\"colab-df-convert\" onclick=\"convertToInteractive('df-356ecf4a-4258-471b-bd52-cbc94683ed6a')\"\n",
              "              title=\"Convert this dataframe to an interactive table.\"\n",
              "              style=\"display:none;\">\n",
              "        \n",
              "  <svg xmlns=\"http://www.w3.org/2000/svg\" height=\"24px\"viewBox=\"0 0 24 24\"\n",
              "       width=\"24px\">\n",
              "    <path d=\"M0 0h24v24H0V0z\" fill=\"none\"/>\n",
              "    <path d=\"M18.56 5.44l.94 2.06.94-2.06 2.06-.94-2.06-.94-.94-2.06-.94 2.06-2.06.94zm-11 1L8.5 8.5l.94-2.06 2.06-.94-2.06-.94L8.5 2.5l-.94 2.06-2.06.94zm10 10l.94 2.06.94-2.06 2.06-.94-2.06-.94-.94-2.06-.94 2.06-2.06.94z\"/><path d=\"M17.41 7.96l-1.37-1.37c-.4-.4-.92-.59-1.43-.59-.52 0-1.04.2-1.43.59L10.3 9.45l-7.72 7.72c-.78.78-.78 2.05 0 2.83L4 21.41c.39.39.9.59 1.41.59.51 0 1.02-.2 1.41-.59l7.78-7.78 2.81-2.81c.8-.78.8-2.07 0-2.86zM5.41 20L4 18.59l7.72-7.72 1.47 1.35L5.41 20z\"/>\n",
              "  </svg>\n",
              "      </button>\n",
              "      \n",
              "  <style>\n",
              "    .colab-df-container {\n",
              "      display:flex;\n",
              "      flex-wrap:wrap;\n",
              "      gap: 12px;\n",
              "    }\n",
              "\n",
              "    .colab-df-convert {\n",
              "      background-color: #E8F0FE;\n",
              "      border: none;\n",
              "      border-radius: 50%;\n",
              "      cursor: pointer;\n",
              "      display: none;\n",
              "      fill: #1967D2;\n",
              "      height: 32px;\n",
              "      padding: 0 0 0 0;\n",
              "      width: 32px;\n",
              "    }\n",
              "\n",
              "    .colab-df-convert:hover {\n",
              "      background-color: #E2EBFA;\n",
              "      box-shadow: 0px 1px 2px rgba(60, 64, 67, 0.3), 0px 1px 3px 1px rgba(60, 64, 67, 0.15);\n",
              "      fill: #174EA6;\n",
              "    }\n",
              "\n",
              "    [theme=dark] .colab-df-convert {\n",
              "      background-color: #3B4455;\n",
              "      fill: #D2E3FC;\n",
              "    }\n",
              "\n",
              "    [theme=dark] .colab-df-convert:hover {\n",
              "      background-color: #434B5C;\n",
              "      box-shadow: 0px 1px 3px 1px rgba(0, 0, 0, 0.15);\n",
              "      filter: drop-shadow(0px 1px 2px rgba(0, 0, 0, 0.3));\n",
              "      fill: #FFFFFF;\n",
              "    }\n",
              "  </style>\n",
              "\n",
              "      <script>\n",
              "        const buttonEl =\n",
              "          document.querySelector('#df-356ecf4a-4258-471b-bd52-cbc94683ed6a button.colab-df-convert');\n",
              "        buttonEl.style.display =\n",
              "          google.colab.kernel.accessAllowed ? 'block' : 'none';\n",
              "\n",
              "        async function convertToInteractive(key) {\n",
              "          const element = document.querySelector('#df-356ecf4a-4258-471b-bd52-cbc94683ed6a');\n",
              "          const dataTable =\n",
              "            await google.colab.kernel.invokeFunction('convertToInteractive',\n",
              "                                                     [key], {});\n",
              "          if (!dataTable) return;\n",
              "\n",
              "          const docLinkHtml = 'Like what you see? Visit the ' +\n",
              "            '<a target=\"_blank\" href=https://colab.research.google.com/notebooks/data_table.ipynb>data table notebook</a>'\n",
              "            + ' to learn more about interactive tables.';\n",
              "          element.innerHTML = '';\n",
              "          dataTable['output_type'] = 'display_data';\n",
              "          await google.colab.output.renderOutput(dataTable, element);\n",
              "          const docLink = document.createElement('div');\n",
              "          docLink.innerHTML = docLinkHtml;\n",
              "          element.appendChild(docLink);\n",
              "        }\n",
              "      </script>\n",
              "    </div>\n",
              "  </div>\n",
              "  "
            ]
          },
          "metadata": {},
          "execution_count": 14
        }
      ]
    },
    {
      "cell_type": "code",
      "source": [
        "count_air_make0 = DataFrame({'count' : bird_dmg.groupby( ['Aircraft: Make/Model'] ).size()}).reset_index()\n",
        "count_air_make0.sort_values(['count'], ascending=0).head(10)"
      ],
      "metadata": {
        "colab": {
          "base_uri": "https://localhost:8080/",
          "height": 363
        },
        "id": "OKCfWfM4dm1g",
        "outputId": "622595e9-e88a-4b2f-a19a-0e948db4f616"
      },
      "execution_count": null,
      "outputs": [
        {
          "output_type": "execute_result",
          "data": {
            "text/plain": [
              "    Aircraft: Make/Model  count\n",
              "41             B-737-700    278\n",
              "38             B-737-300    268\n",
              "49             B-757-200    236\n",
              "6                  A-320    225\n",
              "145         CL-RJ100/200    208\n",
              "5                  A-319    171\n",
              "307              UNKNOWN    161\n",
              "98                 C-172    149\n",
              "181              EMB-145    122\n",
              "2                  A-300    115"
            ],
            "text/html": [
              "\n",
              "  <div id=\"df-a4672db2-ed58-4d58-8554-7abd9ec6f57a\">\n",
              "    <div class=\"colab-df-container\">\n",
              "      <div>\n",
              "<style scoped>\n",
              "    .dataframe tbody tr th:only-of-type {\n",
              "        vertical-align: middle;\n",
              "    }\n",
              "\n",
              "    .dataframe tbody tr th {\n",
              "        vertical-align: top;\n",
              "    }\n",
              "\n",
              "    .dataframe thead th {\n",
              "        text-align: right;\n",
              "    }\n",
              "</style>\n",
              "<table border=\"1\" class=\"dataframe\">\n",
              "  <thead>\n",
              "    <tr style=\"text-align: right;\">\n",
              "      <th></th>\n",
              "      <th>Aircraft: Make/Model</th>\n",
              "      <th>count</th>\n",
              "    </tr>\n",
              "  </thead>\n",
              "  <tbody>\n",
              "    <tr>\n",
              "      <th>41</th>\n",
              "      <td>B-737-700</td>\n",
              "      <td>278</td>\n",
              "    </tr>\n",
              "    <tr>\n",
              "      <th>38</th>\n",
              "      <td>B-737-300</td>\n",
              "      <td>268</td>\n",
              "    </tr>\n",
              "    <tr>\n",
              "      <th>49</th>\n",
              "      <td>B-757-200</td>\n",
              "      <td>236</td>\n",
              "    </tr>\n",
              "    <tr>\n",
              "      <th>6</th>\n",
              "      <td>A-320</td>\n",
              "      <td>225</td>\n",
              "    </tr>\n",
              "    <tr>\n",
              "      <th>145</th>\n",
              "      <td>CL-RJ100/200</td>\n",
              "      <td>208</td>\n",
              "    </tr>\n",
              "    <tr>\n",
              "      <th>5</th>\n",
              "      <td>A-319</td>\n",
              "      <td>171</td>\n",
              "    </tr>\n",
              "    <tr>\n",
              "      <th>307</th>\n",
              "      <td>UNKNOWN</td>\n",
              "      <td>161</td>\n",
              "    </tr>\n",
              "    <tr>\n",
              "      <th>98</th>\n",
              "      <td>C-172</td>\n",
              "      <td>149</td>\n",
              "    </tr>\n",
              "    <tr>\n",
              "      <th>181</th>\n",
              "      <td>EMB-145</td>\n",
              "      <td>122</td>\n",
              "    </tr>\n",
              "    <tr>\n",
              "      <th>2</th>\n",
              "      <td>A-300</td>\n",
              "      <td>115</td>\n",
              "    </tr>\n",
              "  </tbody>\n",
              "</table>\n",
              "</div>\n",
              "      <button class=\"colab-df-convert\" onclick=\"convertToInteractive('df-a4672db2-ed58-4d58-8554-7abd9ec6f57a')\"\n",
              "              title=\"Convert this dataframe to an interactive table.\"\n",
              "              style=\"display:none;\">\n",
              "        \n",
              "  <svg xmlns=\"http://www.w3.org/2000/svg\" height=\"24px\"viewBox=\"0 0 24 24\"\n",
              "       width=\"24px\">\n",
              "    <path d=\"M0 0h24v24H0V0z\" fill=\"none\"/>\n",
              "    <path d=\"M18.56 5.44l.94 2.06.94-2.06 2.06-.94-2.06-.94-.94-2.06-.94 2.06-2.06.94zm-11 1L8.5 8.5l.94-2.06 2.06-.94-2.06-.94L8.5 2.5l-.94 2.06-2.06.94zm10 10l.94 2.06.94-2.06 2.06-.94-2.06-.94-.94-2.06-.94 2.06-2.06.94z\"/><path d=\"M17.41 7.96l-1.37-1.37c-.4-.4-.92-.59-1.43-.59-.52 0-1.04.2-1.43.59L10.3 9.45l-7.72 7.72c-.78.78-.78 2.05 0 2.83L4 21.41c.39.39.9.59 1.41.59.51 0 1.02-.2 1.41-.59l7.78-7.78 2.81-2.81c.8-.78.8-2.07 0-2.86zM5.41 20L4 18.59l7.72-7.72 1.47 1.35L5.41 20z\"/>\n",
              "  </svg>\n",
              "      </button>\n",
              "      \n",
              "  <style>\n",
              "    .colab-df-container {\n",
              "      display:flex;\n",
              "      flex-wrap:wrap;\n",
              "      gap: 12px;\n",
              "    }\n",
              "\n",
              "    .colab-df-convert {\n",
              "      background-color: #E8F0FE;\n",
              "      border: none;\n",
              "      border-radius: 50%;\n",
              "      cursor: pointer;\n",
              "      display: none;\n",
              "      fill: #1967D2;\n",
              "      height: 32px;\n",
              "      padding: 0 0 0 0;\n",
              "      width: 32px;\n",
              "    }\n",
              "\n",
              "    .colab-df-convert:hover {\n",
              "      background-color: #E2EBFA;\n",
              "      box-shadow: 0px 1px 2px rgba(60, 64, 67, 0.3), 0px 1px 3px 1px rgba(60, 64, 67, 0.15);\n",
              "      fill: #174EA6;\n",
              "    }\n",
              "\n",
              "    [theme=dark] .colab-df-convert {\n",
              "      background-color: #3B4455;\n",
              "      fill: #D2E3FC;\n",
              "    }\n",
              "\n",
              "    [theme=dark] .colab-df-convert:hover {\n",
              "      background-color: #434B5C;\n",
              "      box-shadow: 0px 1px 3px 1px rgba(0, 0, 0, 0.15);\n",
              "      filter: drop-shadow(0px 1px 2px rgba(0, 0, 0, 0.3));\n",
              "      fill: #FFFFFF;\n",
              "    }\n",
              "  </style>\n",
              "\n",
              "      <script>\n",
              "        const buttonEl =\n",
              "          document.querySelector('#df-a4672db2-ed58-4d58-8554-7abd9ec6f57a button.colab-df-convert');\n",
              "        buttonEl.style.display =\n",
              "          google.colab.kernel.accessAllowed ? 'block' : 'none';\n",
              "\n",
              "        async function convertToInteractive(key) {\n",
              "          const element = document.querySelector('#df-a4672db2-ed58-4d58-8554-7abd9ec6f57a');\n",
              "          const dataTable =\n",
              "            await google.colab.kernel.invokeFunction('convertToInteractive',\n",
              "                                                     [key], {});\n",
              "          if (!dataTable) return;\n",
              "\n",
              "          const docLinkHtml = 'Like what you see? Visit the ' +\n",
              "            '<a target=\"_blank\" href=https://colab.research.google.com/notebooks/data_table.ipynb>data table notebook</a>'\n",
              "            + ' to learn more about interactive tables.';\n",
              "          element.innerHTML = '';\n",
              "          dataTable['output_type'] = 'display_data';\n",
              "          await google.colab.output.renderOutput(dataTable, element);\n",
              "          const docLink = document.createElement('div');\n",
              "          docLink.innerHTML = docLinkHtml;\n",
              "          element.appendChild(docLink);\n",
              "        }\n",
              "      </script>\n",
              "    </div>\n",
              "  </div>\n",
              "  "
            ]
          },
          "metadata": {},
          "execution_count": 15
        }
      ]
    },
    {
      "cell_type": "code",
      "source": [
        "# top 10 bird species - all strikes\n",
        "count_species = DataFrame({'count' : bird.groupby( ['Wildlife: Species'] ).size()}).reset_index()\n",
        "count_species.sort_values(['count'], ascending=0).head(10)"
      ],
      "metadata": {
        "colab": {
          "base_uri": "https://localhost:8080/",
          "height": 363
        },
        "id": "G-gHTs6uds0A",
        "outputId": "6b3d31d7-a827-4b68-fcd9-3c1571af426d"
      },
      "execution_count": null,
      "outputs": [
        {
          "output_type": "execute_result",
          "data": {
            "text/plain": [
              "         Wildlife: Species  count\n",
              "495   Unknown bird - small  12645\n",
              "494  Unknown bird - medium  11513\n",
              "319          Mourning dove   3265\n",
              "496    Unknown bird or bat   3066\n",
              "270               Killdeer   2188\n",
              "11        American kestrel   1976\n",
              "492           Unknown bird   1848\n",
              "259            Horned lark   1670\n",
              "31            Barn swallow   1639\n",
              "186      European starling   1504"
            ],
            "text/html": [
              "\n",
              "  <div id=\"df-21613242-ef76-4969-a730-07aea5444176\">\n",
              "    <div class=\"colab-df-container\">\n",
              "      <div>\n",
              "<style scoped>\n",
              "    .dataframe tbody tr th:only-of-type {\n",
              "        vertical-align: middle;\n",
              "    }\n",
              "\n",
              "    .dataframe tbody tr th {\n",
              "        vertical-align: top;\n",
              "    }\n",
              "\n",
              "    .dataframe thead th {\n",
              "        text-align: right;\n",
              "    }\n",
              "</style>\n",
              "<table border=\"1\" class=\"dataframe\">\n",
              "  <thead>\n",
              "    <tr style=\"text-align: right;\">\n",
              "      <th></th>\n",
              "      <th>Wildlife: Species</th>\n",
              "      <th>count</th>\n",
              "    </tr>\n",
              "  </thead>\n",
              "  <tbody>\n",
              "    <tr>\n",
              "      <th>495</th>\n",
              "      <td>Unknown bird - small</td>\n",
              "      <td>12645</td>\n",
              "    </tr>\n",
              "    <tr>\n",
              "      <th>494</th>\n",
              "      <td>Unknown bird - medium</td>\n",
              "      <td>11513</td>\n",
              "    </tr>\n",
              "    <tr>\n",
              "      <th>319</th>\n",
              "      <td>Mourning dove</td>\n",
              "      <td>3265</td>\n",
              "    </tr>\n",
              "    <tr>\n",
              "      <th>496</th>\n",
              "      <td>Unknown bird or bat</td>\n",
              "      <td>3066</td>\n",
              "    </tr>\n",
              "    <tr>\n",
              "      <th>270</th>\n",
              "      <td>Killdeer</td>\n",
              "      <td>2188</td>\n",
              "    </tr>\n",
              "    <tr>\n",
              "      <th>11</th>\n",
              "      <td>American kestrel</td>\n",
              "      <td>1976</td>\n",
              "    </tr>\n",
              "    <tr>\n",
              "      <th>492</th>\n",
              "      <td>Unknown bird</td>\n",
              "      <td>1848</td>\n",
              "    </tr>\n",
              "    <tr>\n",
              "      <th>259</th>\n",
              "      <td>Horned lark</td>\n",
              "      <td>1670</td>\n",
              "    </tr>\n",
              "    <tr>\n",
              "      <th>31</th>\n",
              "      <td>Barn swallow</td>\n",
              "      <td>1639</td>\n",
              "    </tr>\n",
              "    <tr>\n",
              "      <th>186</th>\n",
              "      <td>European starling</td>\n",
              "      <td>1504</td>\n",
              "    </tr>\n",
              "  </tbody>\n",
              "</table>\n",
              "</div>\n",
              "      <button class=\"colab-df-convert\" onclick=\"convertToInteractive('df-21613242-ef76-4969-a730-07aea5444176')\"\n",
              "              title=\"Convert this dataframe to an interactive table.\"\n",
              "              style=\"display:none;\">\n",
              "        \n",
              "  <svg xmlns=\"http://www.w3.org/2000/svg\" height=\"24px\"viewBox=\"0 0 24 24\"\n",
              "       width=\"24px\">\n",
              "    <path d=\"M0 0h24v24H0V0z\" fill=\"none\"/>\n",
              "    <path d=\"M18.56 5.44l.94 2.06.94-2.06 2.06-.94-2.06-.94-.94-2.06-.94 2.06-2.06.94zm-11 1L8.5 8.5l.94-2.06 2.06-.94-2.06-.94L8.5 2.5l-.94 2.06-2.06.94zm10 10l.94 2.06.94-2.06 2.06-.94-2.06-.94-.94-2.06-.94 2.06-2.06.94z\"/><path d=\"M17.41 7.96l-1.37-1.37c-.4-.4-.92-.59-1.43-.59-.52 0-1.04.2-1.43.59L10.3 9.45l-7.72 7.72c-.78.78-.78 2.05 0 2.83L4 21.41c.39.39.9.59 1.41.59.51 0 1.02-.2 1.41-.59l7.78-7.78 2.81-2.81c.8-.78.8-2.07 0-2.86zM5.41 20L4 18.59l7.72-7.72 1.47 1.35L5.41 20z\"/>\n",
              "  </svg>\n",
              "      </button>\n",
              "      \n",
              "  <style>\n",
              "    .colab-df-container {\n",
              "      display:flex;\n",
              "      flex-wrap:wrap;\n",
              "      gap: 12px;\n",
              "    }\n",
              "\n",
              "    .colab-df-convert {\n",
              "      background-color: #E8F0FE;\n",
              "      border: none;\n",
              "      border-radius: 50%;\n",
              "      cursor: pointer;\n",
              "      display: none;\n",
              "      fill: #1967D2;\n",
              "      height: 32px;\n",
              "      padding: 0 0 0 0;\n",
              "      width: 32px;\n",
              "    }\n",
              "\n",
              "    .colab-df-convert:hover {\n",
              "      background-color: #E2EBFA;\n",
              "      box-shadow: 0px 1px 2px rgba(60, 64, 67, 0.3), 0px 1px 3px 1px rgba(60, 64, 67, 0.15);\n",
              "      fill: #174EA6;\n",
              "    }\n",
              "\n",
              "    [theme=dark] .colab-df-convert {\n",
              "      background-color: #3B4455;\n",
              "      fill: #D2E3FC;\n",
              "    }\n",
              "\n",
              "    [theme=dark] .colab-df-convert:hover {\n",
              "      background-color: #434B5C;\n",
              "      box-shadow: 0px 1px 3px 1px rgba(0, 0, 0, 0.15);\n",
              "      filter: drop-shadow(0px 1px 2px rgba(0, 0, 0, 0.3));\n",
              "      fill: #FFFFFF;\n",
              "    }\n",
              "  </style>\n",
              "\n",
              "      <script>\n",
              "        const buttonEl =\n",
              "          document.querySelector('#df-21613242-ef76-4969-a730-07aea5444176 button.colab-df-convert');\n",
              "        buttonEl.style.display =\n",
              "          google.colab.kernel.accessAllowed ? 'block' : 'none';\n",
              "\n",
              "        async function convertToInteractive(key) {\n",
              "          const element = document.querySelector('#df-21613242-ef76-4969-a730-07aea5444176');\n",
              "          const dataTable =\n",
              "            await google.colab.kernel.invokeFunction('convertToInteractive',\n",
              "                                                     [key], {});\n",
              "          if (!dataTable) return;\n",
              "\n",
              "          const docLinkHtml = 'Like what you see? Visit the ' +\n",
              "            '<a target=\"_blank\" href=https://colab.research.google.com/notebooks/data_table.ipynb>data table notebook</a>'\n",
              "            + ' to learn more about interactive tables.';\n",
              "          element.innerHTML = '';\n",
              "          dataTable['output_type'] = 'display_data';\n",
              "          await google.colab.output.renderOutput(dataTable, element);\n",
              "          const docLink = document.createElement('div');\n",
              "          docLink.innerHTML = docLinkHtml;\n",
              "          element.appendChild(docLink);\n",
              "        }\n",
              "      </script>\n",
              "    </div>\n",
              "  </div>\n",
              "  "
            ]
          },
          "metadata": {},
          "execution_count": 16
        }
      ]
    },
    {
      "cell_type": "code",
      "source": [
        "# top 10 bird species causing damages\n",
        "count_species0 = DataFrame({'count' : bird_dmg.groupby( ['Wildlife: Species'] ).size()}).reset_index()\n",
        "count_species0.sort_values(['count'], ascending=0).head(10)"
      ],
      "metadata": {
        "colab": {
          "base_uri": "https://localhost:8080/",
          "height": 363
        },
        "id": "Rft0Lvzpdv_o",
        "outputId": "9e4ee661-b76b-4c16-cd8e-04bf24be1641"
      },
      "execution_count": null,
      "outputs": [
        {
          "output_type": "execute_result",
          "data": {
            "text/plain": [
              "         Wildlife: Species  count\n",
              "221  Unknown bird - medium   1089\n",
              "222   Unknown bird - small    518\n",
              "220   Unknown bird - large    332\n",
              "108                  Gulls    209\n",
              "44            Canada goose    192\n",
              "239      White-tailed deer    171\n",
              "219           Unknown bird    170\n",
              "181        Red-tailed hawk    142\n",
              "218         Turkey vulture    121\n",
              "223    Unknown bird or bat    101"
            ],
            "text/html": [
              "\n",
              "  <div id=\"df-41c89099-60bf-4db3-8b4a-0b7086cc3b88\">\n",
              "    <div class=\"colab-df-container\">\n",
              "      <div>\n",
              "<style scoped>\n",
              "    .dataframe tbody tr th:only-of-type {\n",
              "        vertical-align: middle;\n",
              "    }\n",
              "\n",
              "    .dataframe tbody tr th {\n",
              "        vertical-align: top;\n",
              "    }\n",
              "\n",
              "    .dataframe thead th {\n",
              "        text-align: right;\n",
              "    }\n",
              "</style>\n",
              "<table border=\"1\" class=\"dataframe\">\n",
              "  <thead>\n",
              "    <tr style=\"text-align: right;\">\n",
              "      <th></th>\n",
              "      <th>Wildlife: Species</th>\n",
              "      <th>count</th>\n",
              "    </tr>\n",
              "  </thead>\n",
              "  <tbody>\n",
              "    <tr>\n",
              "      <th>221</th>\n",
              "      <td>Unknown bird - medium</td>\n",
              "      <td>1089</td>\n",
              "    </tr>\n",
              "    <tr>\n",
              "      <th>222</th>\n",
              "      <td>Unknown bird - small</td>\n",
              "      <td>518</td>\n",
              "    </tr>\n",
              "    <tr>\n",
              "      <th>220</th>\n",
              "      <td>Unknown bird - large</td>\n",
              "      <td>332</td>\n",
              "    </tr>\n",
              "    <tr>\n",
              "      <th>108</th>\n",
              "      <td>Gulls</td>\n",
              "      <td>209</td>\n",
              "    </tr>\n",
              "    <tr>\n",
              "      <th>44</th>\n",
              "      <td>Canada goose</td>\n",
              "      <td>192</td>\n",
              "    </tr>\n",
              "    <tr>\n",
              "      <th>239</th>\n",
              "      <td>White-tailed deer</td>\n",
              "      <td>171</td>\n",
              "    </tr>\n",
              "    <tr>\n",
              "      <th>219</th>\n",
              "      <td>Unknown bird</td>\n",
              "      <td>170</td>\n",
              "    </tr>\n",
              "    <tr>\n",
              "      <th>181</th>\n",
              "      <td>Red-tailed hawk</td>\n",
              "      <td>142</td>\n",
              "    </tr>\n",
              "    <tr>\n",
              "      <th>218</th>\n",
              "      <td>Turkey vulture</td>\n",
              "      <td>121</td>\n",
              "    </tr>\n",
              "    <tr>\n",
              "      <th>223</th>\n",
              "      <td>Unknown bird or bat</td>\n",
              "      <td>101</td>\n",
              "    </tr>\n",
              "  </tbody>\n",
              "</table>\n",
              "</div>\n",
              "      <button class=\"colab-df-convert\" onclick=\"convertToInteractive('df-41c89099-60bf-4db3-8b4a-0b7086cc3b88')\"\n",
              "              title=\"Convert this dataframe to an interactive table.\"\n",
              "              style=\"display:none;\">\n",
              "        \n",
              "  <svg xmlns=\"http://www.w3.org/2000/svg\" height=\"24px\"viewBox=\"0 0 24 24\"\n",
              "       width=\"24px\">\n",
              "    <path d=\"M0 0h24v24H0V0z\" fill=\"none\"/>\n",
              "    <path d=\"M18.56 5.44l.94 2.06.94-2.06 2.06-.94-2.06-.94-.94-2.06-.94 2.06-2.06.94zm-11 1L8.5 8.5l.94-2.06 2.06-.94-2.06-.94L8.5 2.5l-.94 2.06-2.06.94zm10 10l.94 2.06.94-2.06 2.06-.94-2.06-.94-.94-2.06-.94 2.06-2.06.94z\"/><path d=\"M17.41 7.96l-1.37-1.37c-.4-.4-.92-.59-1.43-.59-.52 0-1.04.2-1.43.59L10.3 9.45l-7.72 7.72c-.78.78-.78 2.05 0 2.83L4 21.41c.39.39.9.59 1.41.59.51 0 1.02-.2 1.41-.59l7.78-7.78 2.81-2.81c.8-.78.8-2.07 0-2.86zM5.41 20L4 18.59l7.72-7.72 1.47 1.35L5.41 20z\"/>\n",
              "  </svg>\n",
              "      </button>\n",
              "      \n",
              "  <style>\n",
              "    .colab-df-container {\n",
              "      display:flex;\n",
              "      flex-wrap:wrap;\n",
              "      gap: 12px;\n",
              "    }\n",
              "\n",
              "    .colab-df-convert {\n",
              "      background-color: #E8F0FE;\n",
              "      border: none;\n",
              "      border-radius: 50%;\n",
              "      cursor: pointer;\n",
              "      display: none;\n",
              "      fill: #1967D2;\n",
              "      height: 32px;\n",
              "      padding: 0 0 0 0;\n",
              "      width: 32px;\n",
              "    }\n",
              "\n",
              "    .colab-df-convert:hover {\n",
              "      background-color: #E2EBFA;\n",
              "      box-shadow: 0px 1px 2px rgba(60, 64, 67, 0.3), 0px 1px 3px 1px rgba(60, 64, 67, 0.15);\n",
              "      fill: #174EA6;\n",
              "    }\n",
              "\n",
              "    [theme=dark] .colab-df-convert {\n",
              "      background-color: #3B4455;\n",
              "      fill: #D2E3FC;\n",
              "    }\n",
              "\n",
              "    [theme=dark] .colab-df-convert:hover {\n",
              "      background-color: #434B5C;\n",
              "      box-shadow: 0px 1px 3px 1px rgba(0, 0, 0, 0.15);\n",
              "      filter: drop-shadow(0px 1px 2px rgba(0, 0, 0, 0.3));\n",
              "      fill: #FFFFFF;\n",
              "    }\n",
              "  </style>\n",
              "\n",
              "      <script>\n",
              "        const buttonEl =\n",
              "          document.querySelector('#df-41c89099-60bf-4db3-8b4a-0b7086cc3b88 button.colab-df-convert');\n",
              "        buttonEl.style.display =\n",
              "          google.colab.kernel.accessAllowed ? 'block' : 'none';\n",
              "\n",
              "        async function convertToInteractive(key) {\n",
              "          const element = document.querySelector('#df-41c89099-60bf-4db3-8b4a-0b7086cc3b88');\n",
              "          const dataTable =\n",
              "            await google.colab.kernel.invokeFunction('convertToInteractive',\n",
              "                                                     [key], {});\n",
              "          if (!dataTable) return;\n",
              "\n",
              "          const docLinkHtml = 'Like what you see? Visit the ' +\n",
              "            '<a target=\"_blank\" href=https://colab.research.google.com/notebooks/data_table.ipynb>data table notebook</a>'\n",
              "            + ' to learn more about interactive tables.';\n",
              "          element.innerHTML = '';\n",
              "          dataTable['output_type'] = 'display_data';\n",
              "          await google.colab.output.renderOutput(dataTable, element);\n",
              "          const docLink = document.createElement('div');\n",
              "          docLink.innerHTML = docLinkHtml;\n",
              "          element.appendChild(docLink);\n",
              "        }\n",
              "      </script>\n",
              "    </div>\n",
              "  </div>\n",
              "  "
            ]
          },
          "metadata": {},
          "execution_count": 17
        }
      ]
    },
    {
      "cell_type": "code",
      "source": [
        "# count of strikes by bird size \n",
        "count_bird = DataFrame({'count' : bird.groupby( ['Wildlife: Size'] ).size()}).reset_index()\n",
        "# plot the frequency of all strikes over Wildlife: Size\n",
        "fig_bird = sns.barplot(x=u'Wildlife: Size', y='count', data=count_bird)\n",
        "fig_bird.set(ylabel='Count - All Strikes',xlabel='Wildlife Size');\n",
        "fig_bird.set_title('The Frequency of All Strikes over Wildlife Size');"
      ],
      "metadata": {
        "colab": {
          "base_uri": "https://localhost:8080/",
          "height": 295
        },
        "id": "ByHvfBECdytI",
        "outputId": "df89ba51-2ab4-4b83-e7ed-068a3efa8ac2"
      },
      "execution_count": null,
      "outputs": [
        {
          "output_type": "display_data",
          "data": {
            "text/plain": [
              "<Figure size 432x288 with 1 Axes>"
            ],
            "image/png": "[encoded data removed]"
          },
          "metadata": {
            "needs_background": "light"
          }
        }
      ]
    },
    {
      "cell_type": "code",
      "source": [
        "# count of strikes by bird size\n",
        "count_bird0 = DataFrame({'count' : bird_dmg.groupby( ['Wildlife: Size'] ).size()}).reset_index()\n",
        "count_bird0['All Strikes Counts'] = count_bird['count']\n",
        "count_bird0['Damage Rate'] = count_bird0['count']/count_bird0['All Strikes Counts']\n",
        "\n",
        "# plot the frequency of damaging strikes Wildlife: Number struck and Wildlife: Size\n",
        "fig_bird0 = sns.barplot(x=u'Wildlife: Size', y='count', data=count_bird0)\n",
        "fig_bird0.set(ylabel='Count - Damaging Strikes',xlabel='Wildlife Size');\n",
        "fig_bird0.set_title('The Frequency of Damaging Strikes over Wildlife Size');"
      ],
      "metadata": {
        "colab": {
          "base_uri": "https://localhost:8080/",
          "height": 295
        },
        "id": "GOcRvZ4Zd1Eo",
        "outputId": "3e13fa06-12ca-4819-c3cc-8d6d0f4f2b72"
      },
      "execution_count": null,
      "outputs": [
        {
          "output_type": "display_data",
          "data": {
            "text/plain": [
              "<Figure size 432x288 with 1 Axes>"
            ],
            "image/png": "[encoded data removed]"
          },
          "metadata": {
            "needs_background": "light"
          }
        }
      ]
    },
    {
      "cell_type": "code",
      "source": [
        "# plot damage rate over Wildlife: Size\n",
        "fig_bird01 = sns.barplot(x=u'Wildlife: Size', y=u'Damage Rate', data=count_bird0)\n",
        "fig_bird01.set(xlabel='Wildlife: Size', ylabel='Damage Rate');\n",
        "fig_bird01.set_title('Damage Rate over Wildlife Size');"
      ],
      "metadata": {
        "colab": {
          "base_uri": "https://localhost:8080/",
          "height": 295
        },
        "id": "Ty9lSoOVd4fI",
        "outputId": "8c65901e-0ff0-425e-c188-a3827744072d"
      },
      "execution_count": null,
      "outputs": [
        {
          "output_type": "display_data",
          "data": {
            "text/plain": [
              "<Figure size 432x288 with 1 Axes>"
            ],
            "image/png": "[encoded data removed]"
          },
          "metadata": {
            "needs_background": "light"
          }
        }
      ]
    },
    {
      "cell_type": "code",
      "source": [
        "# There are a lot of missing data in these variables, but since the phase of the flight is available \n",
        "# some remedy is done here by filling in reasonalble values\n",
        "bird.loc[ (bird['Miles from airport'].isnull()) & ( (bird['When: Phase of flight'] == 'Take-off run') |\n",
        "          (bird['When: Phase of flight'] == 'Parked') | (bird['When: Phase of flight'] == 'Taxi') |\n",
        "          (bird['When: Phase of flight'] == 'Landing Roll') ),'Miles from airport'] = 0\n",
        "bird.loc[ (bird['Feet above ground'].isnull()) & ( (bird['When: Phase of flight'] == 'Take-off run') |\n",
        "          (bird['When: Phase of flight'] == 'Parked') | (bird['When: Phase of flight'] == 'Taxi') |\n",
        "          (bird['When: Phase of flight'] == 'Landing Roll') ),'Feet above ground'] = 0"
      ],
      "metadata": {
        "id": "OLWyRfKKd7uA"
      },
      "execution_count": null,
      "outputs": []
    },
    {
      "cell_type": "code",
      "source": [
        "DataFrame({'count' : bird.groupby( ['Altitude bin'] ).size()}).reset_index()"
      ],
      "metadata": {
        "colab": {
          "base_uri": "https://localhost:8080/",
          "height": 143
        },
        "id": "ouGYRQIud-yA",
        "outputId": "47fad0f6-7412-42c5-bb3d-4e5da15f5d92"
      },
      "execution_count": null,
      "outputs": [
        {
          "output_type": "execute_result",
          "data": {
            "text/plain": [
              "  Altitude bin  count\n",
              "0    < 1000 ft  27523\n",
              "1    > 1000 ft   7546\n",
              "2      Unknown  30541"
            ],
            "text/html": [
              "\n",
              "  <div id=\"df-377193a4-9691-40e0-a88d-544dc1b4f3b7\">\n",
              "    <div class=\"colab-df-container\">\n",
              "      <div>\n",
              "<style scoped>\n",
              "    .dataframe tbody tr th:only-of-type {\n",
              "        vertical-align: middle;\n",
              "    }\n",
              "\n",
              "    .dataframe tbody tr th {\n",
              "        vertical-align: top;\n",
              "    }\n",
              "\n",
              "    .dataframe thead th {\n",
              "        text-align: right;\n",
              "    }\n",
              "</style>\n",
              "<table border=\"1\" class=\"dataframe\">\n",
              "  <thead>\n",
              "    <tr style=\"text-align: right;\">\n",
              "      <th></th>\n",
              "      <th>Altitude bin</th>\n",
              "      <th>count</th>\n",
              "    </tr>\n",
              "  </thead>\n",
              "  <tbody>\n",
              "    <tr>\n",
              "      <th>0</th>\n",
              "      <td>&lt; 1000 ft</td>\n",
              "      <td>27523</td>\n",
              "    </tr>\n",
              "    <tr>\n",
              "      <th>1</th>\n",
              "      <td>&gt; 1000 ft</td>\n",
              "      <td>7546</td>\n",
              "    </tr>\n",
              "    <tr>\n",
              "      <th>2</th>\n",
              "      <td>Unknown</td>\n",
              "      <td>30541</td>\n",
              "    </tr>\n",
              "  </tbody>\n",
              "</table>\n",
              "</div>\n",
              "      <button class=\"colab-df-convert\" onclick=\"convertToInteractive('df-377193a4-9691-40e0-a88d-544dc1b4f3b7')\"\n",
              "              title=\"Convert this dataframe to an interactive table.\"\n",
              "              style=\"display:none;\">\n",
              "        \n",
              "  <svg xmlns=\"http://www.w3.org/2000/svg\" height=\"24px\"viewBox=\"0 0 24 24\"\n",
              "       width=\"24px\">\n",
              "    <path d=\"M0 0h24v24H0V0z\" fill=\"none\"/>\n",
              "    <path d=\"M18.56 5.44l.94 2.06.94-2.06 2.06-.94-2.06-.94-.94-2.06-.94 2.06-2.06.94zm-11 1L8.5 8.5l.94-2.06 2.06-.94-2.06-.94L8.5 2.5l-.94 2.06-2.06.94zm10 10l.94 2.06.94-2.06 2.06-.94-2.06-.94-.94-2.06-.94 2.06-2.06.94z\"/><path d=\"M17.41 7.96l-1.37-1.37c-.4-.4-.92-.59-1.43-.59-.52 0-1.04.2-1.43.59L10.3 9.45l-7.72 7.72c-.78.78-.78 2.05 0 2.83L4 21.41c.39.39.9.59 1.41.59.51 0 1.02-.2 1.41-.59l7.78-7.78 2.81-2.81c.8-.78.8-2.07 0-2.86zM5.41 20L4 18.59l7.72-7.72 1.47 1.35L5.41 20z\"/>\n",
              "  </svg>\n",
              "      </button>\n",
              "      \n",
              "  <style>\n",
              "    .colab-df-container {\n",
              "      display:flex;\n",
              "      flex-wrap:wrap;\n",
              "      gap: 12px;\n",
              "    }\n",
              "\n",
              "    .colab-df-convert {\n",
              "      background-color: #E8F0FE;\n",
              "      border: none;\n",
              "      border-radius: 50%;\n",
              "      cursor: pointer;\n",
              "      display: none;\n",
              "      fill: #1967D2;\n",
              "      height: 32px;\n",
              "      padding: 0 0 0 0;\n",
              "      width: 32px;\n",
              "    }\n",
              "\n",
              "    .colab-df-convert:hover {\n",
              "      background-color: #E2EBFA;\n",
              "      box-shadow: 0px 1px 2px rgba(60, 64, 67, 0.3), 0px 1px 3px 1px rgba(60, 64, 67, 0.15);\n",
              "      fill: #174EA6;\n",
              "    }\n",
              "\n",
              "    [theme=dark] .colab-df-convert {\n",
              "      background-color: #3B4455;\n",
              "      fill: #D2E3FC;\n",
              "    }\n",
              "\n",
              "    [theme=dark] .colab-df-convert:hover {\n",
              "      background-color: #434B5C;\n",
              "      box-shadow: 0px 1px 3px 1px rgba(0, 0, 0, 0.15);\n",
              "      filter: drop-shadow(0px 1px 2px rgba(0, 0, 0, 0.3));\n",
              "      fill: #FFFFFF;\n",
              "    }\n",
              "  </style>\n",
              "\n",
              "      <script>\n",
              "        const buttonEl =\n",
              "          document.querySelector('#df-377193a4-9691-40e0-a88d-544dc1b4f3b7 button.colab-df-convert');\n",
              "        buttonEl.style.display =\n",
              "          google.colab.kernel.accessAllowed ? 'block' : 'none';\n",
              "\n",
              "        async function convertToInteractive(key) {\n",
              "          const element = document.querySelector('#df-377193a4-9691-40e0-a88d-544dc1b4f3b7');\n",
              "          const dataTable =\n",
              "            await google.colab.kernel.invokeFunction('convertToInteractive',\n",
              "                                                     [key], {});\n",
              "          if (!dataTable) return;\n",
              "\n",
              "          const docLinkHtml = 'Like what you see? Visit the ' +\n",
              "            '<a target=\"_blank\" href=https://colab.research.google.com/notebooks/data_table.ipynb>data table notebook</a>'\n",
              "            + ' to learn more about interactive tables.';\n",
              "          element.innerHTML = '';\n",
              "          dataTable['output_type'] = 'display_data';\n",
              "          await google.colab.output.renderOutput(dataTable, element);\n",
              "          const docLink = document.createElement('div');\n",
              "          docLink.innerHTML = docLinkHtml;\n",
              "          element.appendChild(docLink);\n",
              "        }\n",
              "      </script>\n",
              "    </div>\n",
              "  </div>\n",
              "  "
            ]
          },
          "metadata": {},
          "execution_count": 22
        }
      ]
    },
    {
      "cell_type": "code",
      "source": [
        "DataFrame({'count' : bird_dmg.groupby( ['Altitude bin'] ).size()}).reset_index()"
      ],
      "metadata": {
        "colab": {
          "base_uri": "https://localhost:8080/",
          "height": 143
        },
        "id": "tbItTWubeByQ",
        "outputId": "395492e6-84a3-47c8-f4cb-a71693f45b48"
      },
      "execution_count": null,
      "outputs": [
        {
          "output_type": "execute_result",
          "data": {
            "text/plain": [
              "  Altitude bin  count\n",
              "0    < 1000 ft   2483\n",
              "1    > 1000 ft   1225\n",
              "2      Unknown   1188"
            ],
            "text/html": [
              "\n",
              "  <div id=\"df-3a08a87a-ceef-4c20-acba-466e6bb662fd\">\n",
              "    <div class=\"colab-df-container\">\n",
              "      <div>\n",
              "<style scoped>\n",
              "    .dataframe tbody tr th:only-of-type {\n",
              "        vertical-align: middle;\n",
              "    }\n",
              "\n",
              "    .dataframe tbody tr th {\n",
              "        vertical-align: top;\n",
              "    }\n",
              "\n",
              "    .dataframe thead th {\n",
              "        text-align: right;\n",
              "    }\n",
              "</style>\n",
              "<table border=\"1\" class=\"dataframe\">\n",
              "  <thead>\n",
              "    <tr style=\"text-align: right;\">\n",
              "      <th></th>\n",
              "      <th>Altitude bin</th>\n",
              "      <th>count</th>\n",
              "    </tr>\n",
              "  </thead>\n",
              "  <tbody>\n",
              "    <tr>\n",
              "      <th>0</th>\n",
              "      <td>&lt; 1000 ft</td>\n",
              "      <td>2483</td>\n",
              "    </tr>\n",
              "    <tr>\n",
              "      <th>1</th>\n",
              "      <td>&gt; 1000 ft</td>\n",
              "      <td>1225</td>\n",
              "    </tr>\n",
              "    <tr>\n",
              "      <th>2</th>\n",
              "      <td>Unknown</td>\n",
              "      <td>1188</td>\n",
              "    </tr>\n",
              "  </tbody>\n",
              "</table>\n",
              "</div>\n",
              "      <button class=\"colab-df-convert\" onclick=\"convertToInteractive('df-3a08a87a-ceef-4c20-acba-466e6bb662fd')\"\n",
              "              title=\"Convert this dataframe to an interactive table.\"\n",
              "              style=\"display:none;\">\n",
              "        \n",
              "  <svg xmlns=\"http://www.w3.org/2000/svg\" height=\"24px\"viewBox=\"0 0 24 24\"\n",
              "       width=\"24px\">\n",
              "    <path d=\"M0 0h24v24H0V0z\" fill=\"none\"/>\n",
              "    <path d=\"M18.56 5.44l.94 2.06.94-2.06 2.06-.94-2.06-.94-.94-2.06-.94 2.06-2.06.94zm-11 1L8.5 8.5l.94-2.06 2.06-.94-2.06-.94L8.5 2.5l-.94 2.06-2.06.94zm10 10l.94 2.06.94-2.06 2.06-.94-2.06-.94-.94-2.06-.94 2.06-2.06.94z\"/><path d=\"M17.41 7.96l-1.37-1.37c-.4-.4-.92-.59-1.43-.59-.52 0-1.04.2-1.43.59L10.3 9.45l-7.72 7.72c-.78.78-.78 2.05 0 2.83L4 21.41c.39.39.9.59 1.41.59.51 0 1.02-.2 1.41-.59l7.78-7.78 2.81-2.81c.8-.78.8-2.07 0-2.86zM5.41 20L4 18.59l7.72-7.72 1.47 1.35L5.41 20z\"/>\n",
              "  </svg>\n",
              "      </button>\n",
              "      \n",
              "  <style>\n",
              "    .colab-df-container {\n",
              "      display:flex;\n",
              "      flex-wrap:wrap;\n",
              "      gap: 12px;\n",
              "    }\n",
              "\n",
              "    .colab-df-convert {\n",
              "      background-color: #E8F0FE;\n",
              "      border: none;\n",
              "      border-radius: 50%;\n",
              "      cursor: pointer;\n",
              "      display: none;\n",
              "      fill: #1967D2;\n",
              "      height: 32px;\n",
              "      padding: 0 0 0 0;\n",
              "      width: 32px;\n",
              "    }\n",
              "\n",
              "    .colab-df-convert:hover {\n",
              "      background-color: #E2EBFA;\n",
              "      box-shadow: 0px 1px 2px rgba(60, 64, 67, 0.3), 0px 1px 3px 1px rgba(60, 64, 67, 0.15);\n",
              "      fill: #174EA6;\n",
              "    }\n",
              "\n",
              "    [theme=dark] .colab-df-convert {\n",
              "      background-color: #3B4455;\n",
              "      fill: #D2E3FC;\n",
              "    }\n",
              "\n",
              "    [theme=dark] .colab-df-convert:hover {\n",
              "      background-color: #434B5C;\n",
              "      box-shadow: 0px 1px 3px 1px rgba(0, 0, 0, 0.15);\n",
              "      filter: drop-shadow(0px 1px 2px rgba(0, 0, 0, 0.3));\n",
              "      fill: #FFFFFF;\n",
              "    }\n",
              "  </style>\n",
              "\n",
              "      <script>\n",
              "        const buttonEl =\n",
              "          document.querySelector('#df-3a08a87a-ceef-4c20-acba-466e6bb662fd button.colab-df-convert');\n",
              "        buttonEl.style.display =\n",
              "          google.colab.kernel.accessAllowed ? 'block' : 'none';\n",
              "\n",
              "        async function convertToInteractive(key) {\n",
              "          const element = document.querySelector('#df-3a08a87a-ceef-4c20-acba-466e6bb662fd');\n",
              "          const dataTable =\n",
              "            await google.colab.kernel.invokeFunction('convertToInteractive',\n",
              "                                                     [key], {});\n",
              "          if (!dataTable) return;\n",
              "\n",
              "          const docLinkHtml = 'Like what you see? Visit the ' +\n",
              "            '<a target=\"_blank\" href=https://colab.research.google.com/notebooks/data_table.ipynb>data table notebook</a>'\n",
              "            + ' to learn more about interactive tables.';\n",
              "          element.innerHTML = '';\n",
              "          dataTable['output_type'] = 'display_data';\n",
              "          await google.colab.output.renderOutput(dataTable, element);\n",
              "          const docLink = document.createElement('div');\n",
              "          docLink.innerHTML = docLinkHtml;\n",
              "          element.appendChild(docLink);\n",
              "        }\n",
              "      </script>\n",
              "    </div>\n",
              "  </div>\n",
              "  "
            ]
          },
          "metadata": {},
          "execution_count": 23
        }
      ]
    },
    {
      "cell_type": "code",
      "source": [
        "# histogram of aircraft altitude information\n",
        "hist_altitude = sns.distplot(bird['Feet above ground'].dropna(),kde=False);\n",
        "hist_altitude.set_title('The Frequency of All Strikes over Aircraft Altitude');\n",
        "hist_altitude.set(ylabel='Count - All Strikes');"
      ],
      "metadata": {
        "colab": {
          "base_uri": "https://localhost:8080/",
          "height": 350
        },
        "id": "KpPKdwddeEfo",
        "outputId": "eaea3218-8138-4bb5-83db-5735bed11ab8"
      },
      "execution_count": null,
      "outputs": [
        {
          "output_type": "stream",
          "name": "stderr",
          "text": [
            "/usr/local/lib/python3.8/dist-packages/seaborn/distributions.py:2619: FutureWarning: `distplot` is a deprecated function and will be removed in a future version. Please adapt your code to use either `displot` (a figure-level function with similar flexibility) or `histplot` (an axes-level function for histograms).\n",
            "  warnings.warn(msg, FutureWarning)\n"
          ]
        },
        {
          "output_type": "display_data",
          "data": {
            "text/plain": [
              "<Figure size 432x288 with 1 Axes>"
            ],
            "image/png": "[encoded data removed]"
          },
          "metadata": {
            "needs_background": "light"
          }
        }
      ]
    },
    {
      "cell_type": "code",
      "source": [
        "# histogram of aircraft altitude information\n",
        "hist_altitude0 = sns.distplot(bird_dmg['Feet above ground'].dropna(),kde=False);\n",
        "hist_altitude0.set_title('The Frequency of Damaging Strikes over Aircraft Altitude');\n",
        "hist_altitude0.set(ylabel='Count - Damaging Strikes');"
      ],
      "metadata": {
        "colab": {
          "base_uri": "https://localhost:8080/",
          "height": 295
        },
        "id": "cStInyfdeG1o",
        "outputId": "2059f4aa-0827-404e-b673-25fc8e05f6d0"
      },
      "execution_count": null,
      "outputs": [
        {
          "output_type": "display_data",
          "data": {
            "text/plain": [
              "<Figure size 432x288 with 1 Axes>"
            ],
            "image/png": "[encoded data removed]"
          },
          "metadata": {
            "needs_background": "light"
          }
        }
      ]
    },
    {
      "cell_type": "code",
      "source": [
        "# rate of aircraft below 1000 and 5000 ft for all strikes\n",
        "rate_1000 = len( bird.loc[bird['Altitude bin']=='< 1000 ft','Altitude bin'] ) / len( bird.loc[(bird['Altitude bin']=='< 1000 ft') | (bird['Altitude bin']=='> 1000 ft'),'Altitude bin'] )\n",
        "rate_5000 = len( bird.loc[bird['Feet above ground']<5000,'Feet above ground'] ) / len( bird.loc[~(bird['Feet above ground'].isnull()),'Feet above ground'] )\n",
        "# rate of aircraft below 1000 and 5000 ft for damaging strikes\n",
        "rate_1000 = len( bird_dmg.loc[bird_dmg['Altitude bin']=='< 1000 ft','Altitude bin'] ) / len( bird_dmg.loc[(bird_dmg['Altitude bin']=='< 1000 ft') | (bird_dmg['Altitude bin']=='> 1000 ft'),'Altitude bin'] )\n",
        "rate_5000 = len( bird_dmg.loc[bird_dmg['Feet above ground']<5000,'Feet above ground'] ) / len( bird_dmg.loc[~(bird_dmg['Feet above ground'].isnull()),'Feet above ground'] )"
      ],
      "metadata": {
        "id": "A_jPGolweKTg"
      },
      "execution_count": null,
      "outputs": []
    },
    {
      "cell_type": "code",
      "source": [
        "count_phase = bird['When: Phase of flight'].value_counts()\n",
        "fig_count = sns.barplot(x=count_phase.index, y=count_phase)\n",
        "fig_count.set_xticklabels(labels=count_phase.index,rotation=30);\n",
        "fig_count.set(xlabel='Phase of Flight', ylabel='Counts - All Strikes');\n",
        "fig_count.set_title('The Frequency of All Strikes over Flight Status');"
      ],
      "metadata": {
        "colab": {
          "base_uri": "https://localhost:8080/",
          "height": 325
        },
        "id": "0LE9s0nQeM-4",
        "outputId": "b827da0d-4775-4c9e-de72-eac87a591b06"
      },
      "execution_count": null,
      "outputs": [
        {
          "output_type": "display_data",
          "data": {
            "text/plain": [
              "<Figure size 432x288 with 1 Axes>"
            ],
            "image/png": "[encoded data removed]"
          },
          "metadata": {
            "needs_background": "light"
          }
        }
      ]
    },
    {
      "cell_type": "code",
      "source": [
        "count_phase0 = bird_dmg['When: Phase of flight'].value_counts()\n",
        "fig_count0 = sns.barplot(x=count_phase0.index, y=count_phase0)\n",
        "fig_count0.set_xticklabels(labels=count_phase0.index,rotation=30);\n",
        "fig_count0.set(xlabel='Phase of Flight', ylabel='Counts - Damaging Strikes');\n",
        "fig_count0.set_title('The Frequency of Damaging Strikes over Flight Status');"
      ],
      "metadata": {
        "colab": {
          "base_uri": "https://localhost:8080/",
          "height": 325
        },
        "id": "Hfk6eHVBeQ2g",
        "outputId": "0746c6e9-a026-4297-a3ce-0b145b055640"
      },
      "execution_count": null,
      "outputs": [
        {
          "output_type": "display_data",
          "data": {
            "text/plain": [
              "<Figure size 432x288 with 1 Axes>"
            ],
            "image/png": "[encoded data removed]"
          },
          "metadata": {
            "needs_background": "light"
          }
        }
      ]
    },
    {
      "cell_type": "code",
      "source": [
        "flight_altitude = sns.boxplot(x=\"When: Phase of flight\", y=\"Feet above ground\", data=bird)\n",
        "flight_altitude.set_xticklabels(flight_altitude.get_xticklabels(), rotation=30);\n",
        "flight_altitude.set_title('Flight Altitude across Flight Status among All Strikes');"
      ],
      "metadata": {
        "colab": {
          "base_uri": "https://localhost:8080/",
          "height": 325
        },
        "id": "n6dDPdA2eUFY",
        "outputId": "189c8242-4ed5-490a-9b51-2832b604a290"
      },
      "execution_count": null,
      "outputs": [
        {
          "output_type": "display_data",
          "data": {
            "text/plain": [
              "<Figure size 432x288 with 1 Axes>"
            ],
            "image/png": "[encoded data removed]"
          },
          "metadata": {
            "needs_background": "light"
          }
        }
      ]
    },
    {
      "cell_type": "code",
      "source": [
        "# one point stands out as the aircraft being 1200 miles from the airport in the Approach phase\n",
        "# which is unlikely and could be a data entry error, the 'Miles from airport' in this row is thus\n",
        "# replaced with NA, the boxplot is redrawn after the replacement\n",
        "bird.loc[bird['Miles from airport'] > 1200,'Miles from airport'] = np.nan\n",
        "\n",
        "# update bird_dmg as well\n",
        "bird_dmg = bird.loc[(bird['Effect: Indicated Damage'] != 'No damage') | \n",
        "                    (bird['Cost: Total $'] > 0) ]\n",
        "\n",
        "# re-draw the box plot\n",
        "flight_miles1 = sns.boxplot(x=\"When: Phase of flight\", y=\"Miles from airport\", data=bird) \n",
        "flight_miles1.set_xticklabels(labels=flight_miles1.get_xticklabels(),rotation=30);\n",
        "flight_miles1.set_title('Airplane-Airport Distance across Flight Status among All Strikes');"
      ],
      "metadata": {
        "colab": {
          "base_uri": "https://localhost:8080/",
          "height": 325
        },
        "id": "nNp3vB8eeXJw",
        "outputId": "3e889f19-7222-44ae-e37b-eb9b0fc3e9c0"
      },
      "execution_count": null,
      "outputs": [
        {
          "output_type": "display_data",
          "data": {
            "text/plain": [
              "<Figure size 432x288 with 1 Axes>"
            ],
            "image/png": "[encoded data removed]"
          },
          "metadata": {
            "needs_background": "light"
          }
        }
      ]
    },
    {
      "cell_type": "code",
      "source": [
        "bird1 = bird.loc[(~bird['Miles from airport'].isnull()) &\n",
        "                        (~bird['Feet above ground'].isnull()) ]\n",
        "plt.scatter(x='Miles from airport', y='Feet above ground', \n",
        "              data= bird1);\n",
        "plt.xlabel('Miles from Airport');\n",
        "plt.ylabel('Feet above Ground');\n",
        "plt.title('Flight Altitude over Airplane-Airport Distance among All Strikes');"
      ],
      "metadata": {
        "colab": {
          "base_uri": "https://localhost:8080/",
          "height": 295
        },
        "id": "i4D4Bw1BeaDI",
        "outputId": "fdc5ae2a-7c69-4ac3-b60a-72a56091cc56"
      },
      "execution_count": null,
      "outputs": [
        {
          "output_type": "display_data",
          "data": {
            "text/plain": [
              "<Figure size 432x288 with 1 Axes>"
            ],
            "image/png": "[encoded data removed]"
          },
          "metadata": {
            "needs_background": "light"
          }
        }
      ]
    },
    {
      "cell_type": "code",
      "source": [
        "bird10 = bird_dmg.loc[(~bird_dmg['Miles from airport'].isnull()) &\n",
        "                        (~bird_dmg['Feet above ground'].isnull()) ]\n",
        "plt.scatter(x='Miles from airport', y='Feet above ground', \n",
        "              data= bird10);\n",
        "plt.xlabel('Miles from Airport');\n",
        "plt.ylabel('Feet above Ground');\n",
        "plt.title('Flight Altitude over Airplane-Airport Distance among Damaging Strikes');"
      ],
      "metadata": {
        "colab": {
          "base_uri": "https://localhost:8080/",
          "height": 295
        },
        "id": "CfhjSEVdecyY",
        "outputId": "80ad1748-6af1-4b08-9c2d-d4a5a0e8e0f4"
      },
      "execution_count": null,
      "outputs": [
        {
          "output_type": "display_data",
          "data": {
            "text/plain": [
              "<Figure size 432x288 with 1 Axes>"
            ],
            "image/png": "[encoded data removed]"
          },
          "metadata": {
            "needs_background": "light"
          }
        }
      ]
    },
    {
      "cell_type": "code",
      "source": [
        "# histogram of speed\n",
        "# the current record of airplane is 6082.834 knots, any entry higher than that is set as NA\n",
        "bird.loc[bird['Speed (IAS) in knots'] > 6100,'Speed (IAS) in knots'] = np.nan\n",
        "speed = sns.distplot(bird['Speed (IAS) in knots'].dropna(),kde=False);\n",
        "speed.set(xlabel='Speed in Knots', ylabel='Counts - All Strikes');\n",
        "speed.set_title('The Frequency of All Strikes over Flight Speed');"
      ],
      "metadata": {
        "colab": {
          "base_uri": "https://localhost:8080/",
          "height": 350
        },
        "id": "IartX9Ruefeo",
        "outputId": "ff7bb6db-a920-4f74-bd6a-4593823665a5"
      },
      "execution_count": null,
      "outputs": [
        {
          "output_type": "stream",
          "name": "stderr",
          "text": [
            "/usr/local/lib/python3.8/dist-packages/seaborn/distributions.py:2619: FutureWarning: `distplot` is a deprecated function and will be removed in a future version. Please adapt your code to use either `displot` (a figure-level function with similar flexibility) or `histplot` (an axes-level function for histograms).\n",
            "  warnings.warn(msg, FutureWarning)\n"
          ]
        },
        {
          "output_type": "display_data",
          "data": {
            "text/plain": [
              "<Figure size 432x288 with 1 Axes>"
            ],
            "image/png": "[encoded data removed]"
          },
          "metadata": {
            "needs_background": "light"
          }
        }
      ]
    },
    {
      "cell_type": "code",
      "source": [
        "# histogram of speed\n",
        "speed0 = sns.distplot(bird_dmg['Speed (IAS) in knots'].dropna(),kde=False);\n",
        "speed0.set(xlabel='Speed in Knots', ylabel='Counts - Damaging Strikes');\n",
        "speed.set_title('The Frequency of Damaging Strikes over Flight Speed ');"
      ],
      "metadata": {
        "colab": {
          "base_uri": "https://localhost:8080/",
          "height": 279
        },
        "id": "5rretwx8eiao",
        "outputId": "810c4e32-03c9-4645-bb54-468c1c20865a"
      },
      "execution_count": null,
      "outputs": [
        {
          "output_type": "display_data",
          "data": {
            "text/plain": [
              "<Figure size 432x288 with 1 Axes>"
            ],
            "image/png": "[encoded data removed]"
          },
          "metadata": {
            "needs_background": "light"
          }
        }
      ]
    },
    {
      "cell_type": "code",
      "source": [
        "# top 10 airports among all strikes\n",
        "df_location = pd.DataFrame({'count' : bird.groupby( ['Airport: Name'] ).size()}).reset_index()\n",
        "df_location.sort_values(['count'], ascending=False).head(10)"
      ],
      "metadata": {
        "colab": {
          "base_uri": "https://localhost:8080/",
          "height": 363
        },
        "id": "yr25cTHYek-A",
        "outputId": "aa764bdd-b6c7-45bb-f68d-f8930e1d822c"
      },
      "execution_count": null,
      "outputs": [
        {
          "output_type": "execute_result",
          "data": {
            "text/plain": [
              "                    Airport: Name  count\n",
              "1336                      UNKNOWN   5989\n",
              "312           DENVER INTL AIRPORT   2351\n",
              "285   DALLAS/FORT WORTH INTL ARPT   1819\n",
              "825                  MEMPHIS INTL   1234\n",
              "630           JOHN F KENNEDY INTL   1228\n",
              "220      CHICAGO O'HARE INTL ARPT   1124\n",
              "1132              SACRAMENTO INTL   1041\n",
              "758          LOUISVILLE INTL ARPT    964\n",
              "1138          SALT LAKE CITY INTL    849\n",
              "647              KANSAS CITY INTL    846"
            ],
            "text/html": [
              "\n",
              "  <div id=\"df-e1d2692f-3cc7-4976-ada7-e988006888e5\">\n",
              "    <div class=\"colab-df-container\">\n",
              "      <div>\n",
              "<style scoped>\n",
              "    .dataframe tbody tr th:only-of-type {\n",
              "        vertical-align: middle;\n",
              "    }\n",
              "\n",
              "    .dataframe tbody tr th {\n",
              "        vertical-align: top;\n",
              "    }\n",
              "\n",
              "    .dataframe thead th {\n",
              "        text-align: right;\n",
              "    }\n",
              "</style>\n",
              "<table border=\"1\" class=\"dataframe\">\n",
              "  <thead>\n",
              "    <tr style=\"text-align: right;\">\n",
              "      <th></th>\n",
              "      <th>Airport: Name</th>\n",
              "      <th>count</th>\n",
              "    </tr>\n",
              "  </thead>\n",
              "  <tbody>\n",
              "    <tr>\n",
              "      <th>1336</th>\n",
              "      <td>UNKNOWN</td>\n",
              "      <td>5989</td>\n",
              "    </tr>\n",
              "    <tr>\n",
              "      <th>312</th>\n",
              "      <td>DENVER INTL AIRPORT</td>\n",
              "      <td>2351</td>\n",
              "    </tr>\n",
              "    <tr>\n",
              "      <th>285</th>\n",
              "      <td>DALLAS/FORT WORTH INTL ARPT</td>\n",
              "      <td>1819</td>\n",
              "    </tr>\n",
              "    <tr>\n",
              "      <th>825</th>\n",
              "      <td>MEMPHIS INTL</td>\n",
              "      <td>1234</td>\n",
              "    </tr>\n",
              "    <tr>\n",
              "      <th>630</th>\n",
              "      <td>JOHN F KENNEDY INTL</td>\n",
              "      <td>1228</td>\n",
              "    </tr>\n",
              "    <tr>\n",
              "      <th>220</th>\n",
              "      <td>CHICAGO O'HARE INTL ARPT</td>\n",
              "      <td>1124</td>\n",
              "    </tr>\n",
              "    <tr>\n",
              "      <th>1132</th>\n",
              "      <td>SACRAMENTO INTL</td>\n",
              "      <td>1041</td>\n",
              "    </tr>\n",
              "    <tr>\n",
              "      <th>758</th>\n",
              "      <td>LOUISVILLE INTL ARPT</td>\n",
              "      <td>964</td>\n",
              "    </tr>\n",
              "    <tr>\n",
              "      <th>1138</th>\n",
              "      <td>SALT LAKE CITY INTL</td>\n",
              "      <td>849</td>\n",
              "    </tr>\n",
              "    <tr>\n",
              "      <th>647</th>\n",
              "      <td>KANSAS CITY INTL</td>\n",
              "      <td>846</td>\n",
              "    </tr>\n",
              "  </tbody>\n",
              "</table>\n",
              "</div>\n",
              "      <button class=\"colab-df-convert\" onclick=\"convertToInteractive('df-e1d2692f-3cc7-4976-ada7-e988006888e5')\"\n",
              "              title=\"Convert this dataframe to an interactive table.\"\n",
              "              style=\"display:none;\">\n",
              "        \n",
              "  <svg xmlns=\"http://www.w3.org/2000/svg\" height=\"24px\"viewBox=\"0 0 24 24\"\n",
              "       width=\"24px\">\n",
              "    <path d=\"M0 0h24v24H0V0z\" fill=\"none\"/>\n",
              "    <path d=\"M18.56 5.44l.94 2.06.94-2.06 2.06-.94-2.06-.94-.94-2.06-.94 2.06-2.06.94zm-11 1L8.5 8.5l.94-2.06 2.06-.94-2.06-.94L8.5 2.5l-.94 2.06-2.06.94zm10 10l.94 2.06.94-2.06 2.06-.94-2.06-.94-.94-2.06-.94 2.06-2.06.94z\"/><path d=\"M17.41 7.96l-1.37-1.37c-.4-.4-.92-.59-1.43-.59-.52 0-1.04.2-1.43.59L10.3 9.45l-7.72 7.72c-.78.78-.78 2.05 0 2.83L4 21.41c.39.39.9.59 1.41.59.51 0 1.02-.2 1.41-.59l7.78-7.78 2.81-2.81c.8-.78.8-2.07 0-2.86zM5.41 20L4 18.59l7.72-7.72 1.47 1.35L5.41 20z\"/>\n",
              "  </svg>\n",
              "      </button>\n",
              "      \n",
              "  <style>\n",
              "    .colab-df-container {\n",
              "      display:flex;\n",
              "      flex-wrap:wrap;\n",
              "      gap: 12px;\n",
              "    }\n",
              "\n",
              "    .colab-df-convert {\n",
              "      background-color: #E8F0FE;\n",
              "      border: none;\n",
              "      border-radius: 50%;\n",
              "      cursor: pointer;\n",
              "      display: none;\n",
              "      fill: #1967D2;\n",
              "      height: 32px;\n",
              "      padding: 0 0 0 0;\n",
              "      width: 32px;\n",
              "    }\n",
              "\n",
              "    .colab-df-convert:hover {\n",
              "      background-color: #E2EBFA;\n",
              "      box-shadow: 0px 1px 2px rgba(60, 64, 67, 0.3), 0px 1px 3px 1px rgba(60, 64, 67, 0.15);\n",
              "      fill: #174EA6;\n",
              "    }\n",
              "\n",
              "    [theme=dark] .colab-df-convert {\n",
              "      background-color: #3B4455;\n",
              "      fill: #D2E3FC;\n",
              "    }\n",
              "\n",
              "    [theme=dark] .colab-df-convert:hover {\n",
              "      background-color: #434B5C;\n",
              "      box-shadow: 0px 1px 3px 1px rgba(0, 0, 0, 0.15);\n",
              "      filter: drop-shadow(0px 1px 2px rgba(0, 0, 0, 0.3));\n",
              "      fill: #FFFFFF;\n",
              "    }\n",
              "  </style>\n",
              "\n",
              "      <script>\n",
              "        const buttonEl =\n",
              "          document.querySelector('#df-e1d2692f-3cc7-4976-ada7-e988006888e5 button.colab-df-convert');\n",
              "        buttonEl.style.display =\n",
              "          google.colab.kernel.accessAllowed ? 'block' : 'none';\n",
              "\n",
              "        async function convertToInteractive(key) {\n",
              "          const element = document.querySelector('#df-e1d2692f-3cc7-4976-ada7-e988006888e5');\n",
              "          const dataTable =\n",
              "            await google.colab.kernel.invokeFunction('convertToInteractive',\n",
              "                                                     [key], {});\n",
              "          if (!dataTable) return;\n",
              "\n",
              "          const docLinkHtml = 'Like what you see? Visit the ' +\n",
              "            '<a target=\"_blank\" href=https://colab.research.google.com/notebooks/data_table.ipynb>data table notebook</a>'\n",
              "            + ' to learn more about interactive tables.';\n",
              "          element.innerHTML = '';\n",
              "          dataTable['output_type'] = 'display_data';\n",
              "          await google.colab.output.renderOutput(dataTable, element);\n",
              "          const docLink = document.createElement('div');\n",
              "          docLink.innerHTML = docLinkHtml;\n",
              "          element.appendChild(docLink);\n",
              "        }\n",
              "      </script>\n",
              "    </div>\n",
              "  </div>\n",
              "  "
            ]
          },
          "metadata": {},
          "execution_count": 35
        }
      ]
    },
    {
      "cell_type": "code",
      "source": [
        "# top 10 airports among all damaging strikes\n",
        "df_airport0 = pd.DataFrame({'count' : bird_dmg.groupby( ['Airport: Name'] ).size()}).reset_index()\n",
        "df_airport0.sort_values(['count'], ascending=False).head(10)"
      ],
      "metadata": {
        "colab": {
          "base_uri": "https://localhost:8080/",
          "height": 363
        },
        "id": "N8I8rj-tenpg",
        "outputId": "f50fafc4-9ddf-4db8-9fa5-3f8372559ec3"
      },
      "execution_count": null,
      "outputs": [
        {
          "output_type": "execute_result",
          "data": {
            "text/plain": [
              "                   Airport: Name  count\n",
              "842                      UNKNOWN    871\n",
              "712              SACRAMENTO INTL    120\n",
              "610                 ORLANDO INTL     88\n",
              "716          SALT LAKE CITY INTL     83\n",
              "383          JOHN F KENNEDY INTL     80\n",
              "512                 MEMPHIS INTL     79\n",
              "202          DENVER INTL AIRPORT     79\n",
              "139     CHICAGO O'HARE INTL ARPT     72\n",
              "184  DALLAS/FORT WORTH INTL ARPT     51\n",
              "721      SAN FRANCISCO INTL ARPT     47"
            ],
            "text/html": [
              "\n",
              "  <div id=\"df-5a320cc8-7cc3-49c9-8525-11667889bc2e\">\n",
              "    <div class=\"colab-df-container\">\n",
              "      <div>\n",
              "<style scoped>\n",
              "    .dataframe tbody tr th:only-of-type {\n",
              "        vertical-align: middle;\n",
              "    }\n",
              "\n",
              "    .dataframe tbody tr th {\n",
              "        vertical-align: top;\n",
              "    }\n",
              "\n",
              "    .dataframe thead th {\n",
              "        text-align: right;\n",
              "    }\n",
              "</style>\n",
              "<table border=\"1\" class=\"dataframe\">\n",
              "  <thead>\n",
              "    <tr style=\"text-align: right;\">\n",
              "      <th></th>\n",
              "      <th>Airport: Name</th>\n",
              "      <th>count</th>\n",
              "    </tr>\n",
              "  </thead>\n",
              "  <tbody>\n",
              "    <tr>\n",
              "      <th>842</th>\n",
              "      <td>UNKNOWN</td>\n",
              "      <td>871</td>\n",
              "    </tr>\n",
              "    <tr>\n",
              "      <th>712</th>\n",
              "      <td>SACRAMENTO INTL</td>\n",
              "      <td>120</td>\n",
              "    </tr>\n",
              "    <tr>\n",
              "      <th>610</th>\n",
              "      <td>ORLANDO INTL</td>\n",
              "      <td>88</td>\n",
              "    </tr>\n",
              "    <tr>\n",
              "      <th>716</th>\n",
              "      <td>SALT LAKE CITY INTL</td>\n",
              "      <td>83</td>\n",
              "    </tr>\n",
              "    <tr>\n",
              "      <th>383</th>\n",
              "      <td>JOHN F KENNEDY INTL</td>\n",
              "      <td>80</td>\n",
              "    </tr>\n",
              "    <tr>\n",
              "      <th>512</th>\n",
              "      <td>MEMPHIS INTL</td>\n",
              "      <td>79</td>\n",
              "    </tr>\n",
              "    <tr>\n",
              "      <th>202</th>\n",
              "      <td>DENVER INTL AIRPORT</td>\n",
              "      <td>79</td>\n",
              "    </tr>\n",
              "    <tr>\n",
              "      <th>139</th>\n",
              "      <td>CHICAGO O'HARE INTL ARPT</td>\n",
              "      <td>72</td>\n",
              "    </tr>\n",
              "    <tr>\n",
              "      <th>184</th>\n",
              "      <td>DALLAS/FORT WORTH INTL ARPT</td>\n",
              "      <td>51</td>\n",
              "    </tr>\n",
              "    <tr>\n",
              "      <th>721</th>\n",
              "      <td>SAN FRANCISCO INTL ARPT</td>\n",
              "      <td>47</td>\n",
              "    </tr>\n",
              "  </tbody>\n",
              "</table>\n",
              "</div>\n",
              "      <button class=\"colab-df-convert\" onclick=\"convertToInteractive('df-5a320cc8-7cc3-49c9-8525-11667889bc2e')\"\n",
              "              title=\"Convert this dataframe to an interactive table.\"\n",
              "              style=\"display:none;\">\n",
              "        \n",
              "  <svg xmlns=\"http://www.w3.org/2000/svg\" height=\"24px\"viewBox=\"0 0 24 24\"\n",
              "       width=\"24px\">\n",
              "    <path d=\"M0 0h24v24H0V0z\" fill=\"none\"/>\n",
              "    <path d=\"M18.56 5.44l.94 2.06.94-2.06 2.06-.94-2.06-.94-.94-2.06-.94 2.06-2.06.94zm-11 1L8.5 8.5l.94-2.06 2.06-.94-2.06-.94L8.5 2.5l-.94 2.06-2.06.94zm10 10l.94 2.06.94-2.06 2.06-.94-2.06-.94-.94-2.06-.94 2.06-2.06.94z\"/><path d=\"M17.41 7.96l-1.37-1.37c-.4-.4-.92-.59-1.43-.59-.52 0-1.04.2-1.43.59L10.3 9.45l-7.72 7.72c-.78.78-.78 2.05 0 2.83L4 21.41c.39.39.9.59 1.41.59.51 0 1.02-.2 1.41-.59l7.78-7.78 2.81-2.81c.8-.78.8-2.07 0-2.86zM5.41 20L4 18.59l7.72-7.72 1.47 1.35L5.41 20z\"/>\n",
              "  </svg>\n",
              "      </button>\n",
              "      \n",
              "  <style>\n",
              "    .colab-df-container {\n",
              "      display:flex;\n",
              "      flex-wrap:wrap;\n",
              "      gap: 12px;\n",
              "    }\n",
              "\n",
              "    .colab-df-convert {\n",
              "      background-color: #E8F0FE;\n",
              "      border: none;\n",
              "      border-radius: 50%;\n",
              "      cursor: pointer;\n",
              "      display: none;\n",
              "      fill: #1967D2;\n",
              "      height: 32px;\n",
              "      padding: 0 0 0 0;\n",
              "      width: 32px;\n",
              "    }\n",
              "\n",
              "    .colab-df-convert:hover {\n",
              "      background-color: #E2EBFA;\n",
              "      box-shadow: 0px 1px 2px rgba(60, 64, 67, 0.3), 0px 1px 3px 1px rgba(60, 64, 67, 0.15);\n",
              "      fill: #174EA6;\n",
              "    }\n",
              "\n",
              "    [theme=dark] .colab-df-convert {\n",
              "      background-color: #3B4455;\n",
              "      fill: #D2E3FC;\n",
              "    }\n",
              "\n",
              "    [theme=dark] .colab-df-convert:hover {\n",
              "      background-color: #434B5C;\n",
              "      box-shadow: 0px 1px 3px 1px rgba(0, 0, 0, 0.15);\n",
              "      filter: drop-shadow(0px 1px 2px rgba(0, 0, 0, 0.3));\n",
              "      fill: #FFFFFF;\n",
              "    }\n",
              "  </style>\n",
              "\n",
              "      <script>\n",
              "        const buttonEl =\n",
              "          document.querySelector('#df-5a320cc8-7cc3-49c9-8525-11667889bc2e button.colab-df-convert');\n",
              "        buttonEl.style.display =\n",
              "          google.colab.kernel.accessAllowed ? 'block' : 'none';\n",
              "\n",
              "        async function convertToInteractive(key) {\n",
              "          const element = document.querySelector('#df-5a320cc8-7cc3-49c9-8525-11667889bc2e');\n",
              "          const dataTable =\n",
              "            await google.colab.kernel.invokeFunction('convertToInteractive',\n",
              "                                                     [key], {});\n",
              "          if (!dataTable) return;\n",
              "\n",
              "          const docLinkHtml = 'Like what you see? Visit the ' +\n",
              "            '<a target=\"_blank\" href=https://colab.research.google.com/notebooks/data_table.ipynb>data table notebook</a>'\n",
              "            + ' to learn more about interactive tables.';\n",
              "          element.innerHTML = '';\n",
              "          dataTable['output_type'] = 'display_data';\n",
              "          await google.colab.output.renderOutput(dataTable, element);\n",
              "          const docLink = document.createElement('div');\n",
              "          docLink.innerHTML = docLinkHtml;\n",
              "          element.appendChild(docLink);\n",
              "        }\n",
              "      </script>\n",
              "    </div>\n",
              "  </div>\n",
              "  "
            ]
          },
          "metadata": {},
          "execution_count": 36
        }
      ]
    },
    {
      "cell_type": "code",
      "source": [
        "# month variable\n",
        "bird['Flight Month'] = pd.DatetimeIndex(bird['FlightDate']).month\n",
        "# year variable\n",
        "bird['Flight Year'] = pd.DatetimeIndex(bird['FlightDate']).year\n",
        "\n",
        "# subset the data with any damage or negative impact to the flight\n",
        "bird_dmg = bird.loc[(bird['Effect: Indicated Damage'] != 'No damage') | \n",
        "                    (bird['Cost: Total $'] > 0) ]"
      ],
      "metadata": {
        "id": "FK7va6A1eqZo"
      },
      "execution_count": null,
      "outputs": []
    },
    {
      "cell_type": "code",
      "source": [
        "# count over flight month and year\n",
        "count_time = DataFrame({'count' : bird.groupby( ['Flight Month', 'Flight Year'] ).size()}).reset_index()\n",
        "# reshape frame\n",
        "count_time_p=count_time.pivot(\"Flight Month\", \"Flight Year\", \"count\")\n",
        "# plot the frequency over month and year in a heat map\n",
        "plt.figure(figsize=(8, 7))\n",
        "heat_time = sns.heatmap(count_time_p);\n",
        "heat_time.set_title('The Frequency of All Strikes Over Flight Year and Month');"
      ],
      "metadata": {
        "colab": {
          "base_uri": "https://localhost:8080/",
          "height": 458
        },
        "id": "OnaghzxVeu3A",
        "outputId": "0b7a646b-10cf-43b4-aaed-b44a95426e73"
      },
      "execution_count": null,
      "outputs": [
        {
          "output_type": "display_data",
          "data": {
            "text/plain": [
              "<Figure size 576x504 with 2 Axes>"
            ],
            "image/png": "[encoded data removed]"
          },
          "metadata": {
            "needs_background": "light"
          }
        }
      ]
    },
    {
      "cell_type": "code",
      "source": [
        "# count over flight month and year\n",
        "count_time0 = DataFrame({'count' : bird_dmg.groupby( ['Flight Month', 'Flight Year'] ).size()}).reset_index()\n",
        "# reshape frame\n",
        "count_time_p0=count_time0.pivot(\"Flight Month\", \"Flight Year\", \"count\")\n",
        "# plot the frequency over month and year in a heat map\n",
        "plt.figure(figsize=(8, 7))\n",
        "heat_time0 = sns.heatmap(count_time_p0);\n",
        "heat_time0.set_title('The Frequency of Damaging Strikes Over Flight Year and Month');"
      ],
      "metadata": {
        "colab": {
          "base_uri": "https://localhost:8080/",
          "height": 458
        },
        "id": "SPWwxDJPe1_4",
        "outputId": "07a590aa-db99-44da-a899-3f91fd21b4a9"
      },
      "execution_count": null,
      "outputs": [
        {
          "output_type": "display_data",
          "data": {
            "text/plain": [
              "<Figure size 576x504 with 2 Axes>"
            ],
            "image/png": "[encoded data removed]"
          },
          "metadata": {
            "needs_background": "light"
          }
        }
      ]
    },
    {
      "cell_type": "code",
      "source": [
        "# histogram of time information\n",
        "fig_time = sns.distplot(bird['When: Time (HHMM)'].dropna(),kde=False);\n",
        "fig_time.set(ylabel='Counts - All Strikes');\n",
        "fig_time.set_title('The Frequency of All Strikes Over Time of the Day');"
      ],
      "metadata": {
        "colab": {
          "base_uri": "https://localhost:8080/",
          "height": 350
        },
        "id": "assbdo8ie48I",
        "outputId": "7ef8893f-fcf3-4d14-88ba-83e877a78a14"
      },
      "execution_count": null,
      "outputs": [
        {
          "output_type": "stream",
          "name": "stderr",
          "text": [
            "/usr/local/lib/python3.8/dist-packages/seaborn/distributions.py:2619: FutureWarning: `distplot` is a deprecated function and will be removed in a future version. Please adapt your code to use either `displot` (a figure-level function with similar flexibility) or `histplot` (an axes-level function for histograms).\n",
            "  warnings.warn(msg, FutureWarning)\n"
          ]
        },
        {
          "output_type": "display_data",
          "data": {
            "text/plain": [
              "<Figure size 432x288 with 1 Axes>"
            ],
            "image/png": "[encoded data removed]"
          },
          "metadata": {
            "needs_background": "light"
          }
        }
      ]
    },
    {
      "cell_type": "code",
      "source": [
        "# histogram of time information\n",
        "fig_time0 = sns.distplot(bird_dmg['When: Time (HHMM)'].dropna(),kde=False);\n",
        "fig_time0.set(ylabel='Counts - Damaging Strikes');\n",
        "fig_time.set_title('The Frequency of Damaging Strikes Over Time of the Day');"
      ],
      "metadata": {
        "colab": {
          "base_uri": "https://localhost:8080/",
          "height": 279
        },
        "id": "1rH6_W7Qe8KQ",
        "outputId": "56252b5d-dff6-46e4-e07a-1f5edd1bf904"
      },
      "execution_count": null,
      "outputs": [
        {
          "output_type": "display_data",
          "data": {
            "text/plain": [
              "<Figure size 432x288 with 1 Axes>"
            ],
            "image/png": "[encoded data removed]"
          },
          "metadata": {
            "needs_background": "light"
          }
        }
      ]
    },
    {
      "cell_type": "code",
      "source": [
        "# cost histogram\n",
        "cost = sns.distplot(np.log10(bird.loc[bird['Cost: Total $']>0,'Cost: Total $']),kde=False);\n",
        "cost.set(xlabel='Log 10 of Total Cost in Dollar', ylabel='Counts - All Strikes');\n",
        "cost.set_title('The Frequency of All Strikes Over Log Cost');"
      ],
      "metadata": {
        "colab": {
          "base_uri": "https://localhost:8080/",
          "height": 295
        },
        "id": "fsTDw0tIe-zA",
        "outputId": "5597a7b1-fe7b-4252-cab3-0ed9e0d0331c"
      },
      "execution_count": null,
      "outputs": [
        {
          "output_type": "display_data",
          "data": {
            "text/plain": [
              "<Figure size 432x288 with 1 Axes>"
            ],
            "image/png": "[encoded data removed]"
          },
          "metadata": {
            "needs_background": "light"
          }
        }
      ]
    },
    {
      "cell_type": "code",
      "source": [
        "# cost histogram\n",
        "cost0 = sns.distplot(np.log10(bird_dmg.loc[bird_dmg['Cost: Total $']>0,'Cost: Total $']),kde=False);\n",
        "cost0.set(xlabel='Log 10 of Total Cost in Dollar', ylabel='Counts - Damaging Strikes');\n",
        "cost0.set_title('The Frequency of Damaging Strikes Over Log Cost');"
      ],
      "metadata": {
        "colab": {
          "base_uri": "https://localhost:8080/",
          "height": 295
        },
        "id": "hih-UuIGfBYA",
        "outputId": "f14c1915-60d9-45a4-8392-80baf6b1fd31"
      },
      "execution_count": null,
      "outputs": [
        {
          "output_type": "display_data",
          "data": {
            "text/plain": [
              "<Figure size 432x288 with 1 Axes>"
            ],
            "image/png": "[encoded data removed]"
          },
          "metadata": {
            "needs_background": "light"
          }
        }
      ]
    },
    {
      "cell_type": "code",
      "source": [
        "# damage count table\n",
        "DataFrame({'count' : bird.groupby( ['Effect: Indicated Damage'] ).size()}).reset_index()"
      ],
      "metadata": {
        "colab": {
          "base_uri": "https://localhost:8080/",
          "height": 112
        },
        "id": "ouczG6YbfELI",
        "outputId": "982323d6-a4a0-4201-cf47-01d665aab920"
      },
      "execution_count": null,
      "outputs": [
        {
          "output_type": "execute_result",
          "data": {
            "text/plain": [
              "  Effect: Indicated Damage  count\n",
              "0            Caused damage   4075\n",
              "1                No damage  61535"
            ],
            "text/html": [
              "\n",
              "  <div id=\"df-f9670d2e-e53f-4b09-8fc7-ebc1685d0f48\">\n",
              "    <div class=\"colab-df-container\">\n",
              "      <div>\n",
              "<style scoped>\n",
              "    .dataframe tbody tr th:only-of-type {\n",
              "        vertical-align: middle;\n",
              "    }\n",
              "\n",
              "    .dataframe tbody tr th {\n",
              "        vertical-align: top;\n",
              "    }\n",
              "\n",
              "    .dataframe thead th {\n",
              "        text-align: right;\n",
              "    }\n",
              "</style>\n",
              "<table border=\"1\" class=\"dataframe\">\n",
              "  <thead>\n",
              "    <tr style=\"text-align: right;\">\n",
              "      <th></th>\n",
              "      <th>Effect: Indicated Damage</th>\n",
              "      <th>count</th>\n",
              "    </tr>\n",
              "  </thead>\n",
              "  <tbody>\n",
              "    <tr>\n",
              "      <th>0</th>\n",
              "      <td>Caused damage</td>\n",
              "      <td>4075</td>\n",
              "    </tr>\n",
              "    <tr>\n",
              "      <th>1</th>\n",
              "      <td>No damage</td>\n",
              "      <td>61535</td>\n",
              "    </tr>\n",
              "  </tbody>\n",
              "</table>\n",
              "</div>\n",
              "      <button class=\"colab-df-convert\" onclick=\"convertToInteractive('df-f9670d2e-e53f-4b09-8fc7-ebc1685d0f48')\"\n",
              "              title=\"Convert this dataframe to an interactive table.\"\n",
              "              style=\"display:none;\">\n",
              "        \n",
              "  <svg xmlns=\"http://www.w3.org/2000/svg\" height=\"24px\"viewBox=\"0 0 24 24\"\n",
              "       width=\"24px\">\n",
              "    <path d=\"M0 0h24v24H0V0z\" fill=\"none\"/>\n",
              "    <path d=\"M18.56 5.44l.94 2.06.94-2.06 2.06-.94-2.06-.94-.94-2.06-.94 2.06-2.06.94zm-11 1L8.5 8.5l.94-2.06 2.06-.94-2.06-.94L8.5 2.5l-.94 2.06-2.06.94zm10 10l.94 2.06.94-2.06 2.06-.94-2.06-.94-.94-2.06-.94 2.06-2.06.94z\"/><path d=\"M17.41 7.96l-1.37-1.37c-.4-.4-.92-.59-1.43-.59-.52 0-1.04.2-1.43.59L10.3 9.45l-7.72 7.72c-.78.78-.78 2.05 0 2.83L4 21.41c.39.39.9.59 1.41.59.51 0 1.02-.2 1.41-.59l7.78-7.78 2.81-2.81c.8-.78.8-2.07 0-2.86zM5.41 20L4 18.59l7.72-7.72 1.47 1.35L5.41 20z\"/>\n",
              "  </svg>\n",
              "      </button>\n",
              "      \n",
              "  <style>\n",
              "    .colab-df-container {\n",
              "      display:flex;\n",
              "      flex-wrap:wrap;\n",
              "      gap: 12px;\n",
              "    }\n",
              "\n",
              "    .colab-df-convert {\n",
              "      background-color: #E8F0FE;\n",
              "      border: none;\n",
              "      border-radius: 50%;\n",
              "      cursor: pointer;\n",
              "      display: none;\n",
              "      fill: #1967D2;\n",
              "      height: 32px;\n",
              "      padding: 0 0 0 0;\n",
              "      width: 32px;\n",
              "    }\n",
              "\n",
              "    .colab-df-convert:hover {\n",
              "      background-color: #E2EBFA;\n",
              "      box-shadow: 0px 1px 2px rgba(60, 64, 67, 0.3), 0px 1px 3px 1px rgba(60, 64, 67, 0.15);\n",
              "      fill: #174EA6;\n",
              "    }\n",
              "\n",
              "    [theme=dark] .colab-df-convert {\n",
              "      background-color: #3B4455;\n",
              "      fill: #D2E3FC;\n",
              "    }\n",
              "\n",
              "    [theme=dark] .colab-df-convert:hover {\n",
              "      background-color: #434B5C;\n",
              "      box-shadow: 0px 1px 3px 1px rgba(0, 0, 0, 0.15);\n",
              "      filter: drop-shadow(0px 1px 2px rgba(0, 0, 0, 0.3));\n",
              "      fill: #FFFFFF;\n",
              "    }\n",
              "  </style>\n",
              "\n",
              "      <script>\n",
              "        const buttonEl =\n",
              "          document.querySelector('#df-f9670d2e-e53f-4b09-8fc7-ebc1685d0f48 button.colab-df-convert');\n",
              "        buttonEl.style.display =\n",
              "          google.colab.kernel.accessAllowed ? 'block' : 'none';\n",
              "\n",
              "        async function convertToInteractive(key) {\n",
              "          const element = document.querySelector('#df-f9670d2e-e53f-4b09-8fc7-ebc1685d0f48');\n",
              "          const dataTable =\n",
              "            await google.colab.kernel.invokeFunction('convertToInteractive',\n",
              "                                                     [key], {});\n",
              "          if (!dataTable) return;\n",
              "\n",
              "          const docLinkHtml = 'Like what you see? Visit the ' +\n",
              "            '<a target=\"_blank\" href=https://colab.research.google.com/notebooks/data_table.ipynb>data table notebook</a>'\n",
              "            + ' to learn more about interactive tables.';\n",
              "          element.innerHTML = '';\n",
              "          dataTable['output_type'] = 'display_data';\n",
              "          await google.colab.output.renderOutput(dataTable, element);\n",
              "          const docLink = document.createElement('div');\n",
              "          docLink.innerHTML = docLinkHtml;\n",
              "          element.appendChild(docLink);\n",
              "        }\n",
              "      </script>\n",
              "    </div>\n",
              "  </div>\n",
              "  "
            ]
          },
          "metadata": {},
          "execution_count": 44
        }
      ]
    },
    {
      "cell_type": "code",
      "source": [
        "# add damage index\n",
        "bird['Damage'] = 0\n",
        "bird.loc[(bird['Effect: Indicated Damage'] != 'No damage') | \n",
        "                    (bird['Cost: Total $'] > 0) ,'Damage'] = 1\n",
        "\n",
        "# define independent and dependent variables\n",
        "X = ['Aircraft: Number of engines?',\n",
        "     'Wildlife: Size',\n",
        "     'When: Phase of flight','Feet above ground','Miles from airport','Speed (IAS) in knots',\n",
        "     'Flight Month','Flight Year','When: Time (HHMM)',\n",
        "     'Pilot warned of birds or wildlife?']\n",
        "Y = ['Damage']\n",
        "\n",
        "# clean missing data, keep those with values on key metrics\n",
        "bird_keep = bird[np.concatenate((X,Y))].dropna(how='any')"
      ],
      "metadata": {
        "id": "sayvf7UFr3u7"
      },
      "execution_count": null,
      "outputs": []
    },
    {
      "cell_type": "code",
      "source": [
        "# list of damage indices\n",
        "damage_index = np.array(bird_keep[bird_keep[\"Damage\"]==1].index)\n",
        "\n",
        "# getting the list of normal indices from the full dataset\n",
        "normal_index = bird_keep[bird_keep[\"Damage\"]==0].index\n",
        "\n",
        "No_of_damage = len(bird_keep[bird_keep[\"Damage\"]==1])\n",
        "\n",
        "# choosing random normal indices equal to the number of damaging strikes\n",
        "normal_indices = np.array( np.random.choice(normal_index, No_of_damage, replace= False) )\n",
        "\n",
        "# concatenate damaging index and normal index to create a list of indices\n",
        "undersampled_indices = np.concatenate([damage_index, normal_indices])"
      ],
      "metadata": {
        "id": "zldT0a13sC6m"
      },
      "execution_count": null,
      "outputs": []
    },
    {
      "cell_type": "code",
      "source": [
        "# add dummy variables for categorical variables\n",
        "wildlife_dummies = pd.get_dummies(bird_keep['Wildlife: Size'])\n",
        "bird_keep = bird_keep.join(wildlife_dummies)\n",
        "\n",
        "phase_dummies = pd.get_dummies(bird_keep['When: Phase of flight'])\n",
        "bird_keep = bird_keep.join(phase_dummies)\n",
        "\n",
        "warn_dummies = pd.get_dummies(bird_keep['Pilot warned of birds or wildlife?'])\n",
        "bird_keep = bird_keep.join(warn_dummies)\n",
        "\n",
        "#  convert engine number to numeric\n",
        "bird_keep['Aircraft: Number of engines?'] = pd.to_numeric(bird_keep['Aircraft: Number of engines?'])\n",
        "\n",
        "# scale variables before fitting our model to our dataset\n",
        "# flight year scaled by subtracting the minimum year\n",
        "bird_keep[\"Flight Year\"] = bird_keep[\"Flight Year\"] - min(bird_keep[\"Flight Year\"])\n",
        "# scale time by dividing 100 and center to the noon\n",
        "bird_keep[\"When: Time (HHMM)\"] = bird_keep[\"When: Time (HHMM)\"]/100-12\n",
        "# scale speed\n",
        "bird_keep[\"Speed (IAS) in knots\"] = scale( bird_keep[\"Speed (IAS) in knots\"], axis=0, with_mean=True, with_std=True, copy=False )"
      ],
      "metadata": {
        "id": "qY6h68Y3sIPp"
      },
      "execution_count": null,
      "outputs": []
    },
    {
      "cell_type": "code",
      "source": [
        "# use the undersampled indices to build the undersampled_data dataframe\n",
        "undersampled_bird = bird_keep.loc[undersampled_indices, :]\n",
        "\n",
        "# drop original values after dummy variables added\n",
        "bird_use = undersampled_bird.drop(['Wildlife: Size','When: Phase of flight',\n",
        "     'Pilot warned of birds or wildlife?'],axis=1)"
      ],
      "metadata": {
        "id": "GdLXhxHNsMk3"
      },
      "execution_count": null,
      "outputs": []
    },
    {
      "cell_type": "code",
      "source": [
        "# scale the X_train and X_test\n",
        "X_use = bird_use.drop(\"Damage\",axis=1)\n",
        "standard_scaler = StandardScaler().fit(X_use)\n",
        "X_use1 = standard_scaler.transform(X_use) # Xs is the scaled matrix but has lost the featuren names\n",
        "X_use2 = pd.DataFrame(X_use1, columns=X_use.columns) # Add feature names"
      ],
      "metadata": {
        "id": "iNQJI2x4sP9n"
      },
      "execution_count": null,
      "outputs": []
    },
    {
      "cell_type": "code",
      "source": [
        "# define training and testing sets\n",
        "# choosing random indices equal to the number of damaging strikes\n",
        "train_indices = np.array( np.random.choice(X_use2.index, int((X_use2.shape[0]/2)), replace= False) )\n",
        "test_indices = np.array([item for item in X_use2.index if item not in train_indices])\n",
        "\n",
        "# choosing random indices equal to the number of damaging strikes\n",
        "bird_use = bird_use.reset_index()\n",
        "X_train = X_use2.loc[train_indices,]\n",
        "Y_train = bird_use.loc[train_indices,'Damage']\n",
        "X_test = X_use2.loc[test_indices,]\n",
        "Y_test = bird_use.loc[test_indices,'Damage']"
      ],
      "metadata": {
        "id": "vmyAQmKksSmt"
      },
      "execution_count": null,
      "outputs": []
    },
    {
      "cell_type": "code",
      "source": [
        "# Logistic Regression using Scikit-learn\n",
        "logreg = LogisticRegression(class_weight='balanced')\n",
        "logreg.fit(X_train, Y_train)\n",
        "Y_pred = logreg.predict(X_test)\n",
        "print('Training Accuracy: %1.3f.' % logreg.score(X_train, Y_train))"
      ],
      "metadata": {
        "colab": {
          "base_uri": "https://localhost:8080/"
        },
        "id": "aRRSh96RsV-J",
        "outputId": "24b57dc2-0315-40c4-f1fa-baac47a86fc7"
      },
      "execution_count": null,
      "outputs": [
        {
          "output_type": "stream",
          "name": "stdout",
          "text": [
            "Training Accuracy: 0.670.\n"
          ]
        }
      ]
    },
    {
      "cell_type": "code",
      "source": [
        "# generate evaluation metrics\n",
        "logreg_t = metrics.accuracy_score(Y_test, Y_pred)\n",
        "print('Testing Accuracy: %1.3f.' % logreg_t)"
      ],
      "metadata": {
        "colab": {
          "base_uri": "https://localhost:8080/"
        },
        "id": "uQ3A9AFKsZTf",
        "outputId": "098ce749-3129-4798-f586-b666a9a77344"
      },
      "execution_count": null,
      "outputs": [
        {
          "output_type": "stream",
          "name": "stdout",
          "text": [
            "Testing Accuracy: 0.697.\n"
          ]
        }
      ]
    },
    {
      "cell_type": "code",
      "source": [
        "# evaluate the model using 10-fold cross-validation\n",
        "scores_lr = cross_val_score(logreg, X_train, Y_train, scoring='accuracy', cv=10)\n",
        "print('Cross-Validation Accuracy: %1.3f.' % scores_lr.mean())"
      ],
      "metadata": {
        "colab": {
          "base_uri": "https://localhost:8080/"
        },
        "id": "oXgIoA2WscO3",
        "outputId": "ab506360-e536-47c2-9885-535d44c27baa"
      },
      "execution_count": null,
      "outputs": [
        {
          "output_type": "stream",
          "name": "stdout",
          "text": [
            "Cross-Validation Accuracy: 0.655.\n"
          ]
        }
      ]
    },
    {
      "cell_type": "code",
      "source": [
        "# ROC AUC on train set\n",
        "Y_prob_train = logreg.predict_proba(X_train)\n",
        "lr_auc_train = metrics.roc_auc_score(Y_train, Y_prob_train[:, 1])\n",
        "print (\"ROC AUC on train set: %1.3f.\" % lr_auc_train)\n",
        "\n",
        "# Predict on validation set\n",
        "Y_prob_test = logreg.predict_proba(X_test)\n",
        "lr_auc_test = metrics.roc_auc_score(Y_test, Y_prob_test[:, 1])\n",
        "print (\"ROC AUC on validation set: %1.3f.\" % lr_auc_test)"
      ],
      "metadata": {
        "colab": {
          "base_uri": "https://localhost:8080/"
        },
        "id": "q4Dlwp6vsfL_",
        "outputId": "3be5c8c2-91af-4de5-c257-041277ae2c0e"
      },
      "execution_count": null,
      "outputs": [
        {
          "output_type": "stream",
          "name": "stdout",
          "text": [
            "ROC AUC on train set: 0.721.\n",
            "ROC AUC on validation set: 0.754.\n"
          ]
        }
      ]
    },
    {
      "cell_type": "code",
      "source": [
        "# logistic regression using statsmodels\n",
        "logit = sm.Logit(bird_use[\"Damage\"].reset_index(drop=True), X_use2)\n",
        "result = logit.fit()\n",
        "result.summary()"
      ],
      "metadata": {
        "colab": {
          "base_uri": "https://localhost:8080/",
          "height": 711
        },
        "id": "OEhex8_jsiEZ",
        "outputId": "64a2b7c6-7fdd-499f-efb6-d82427fcd10e"
      },
      "execution_count": null,
      "outputs": [
        {
          "output_type": "stream",
          "name": "stdout",
          "text": [
            "Warning: Maximum number of iterations has been exceeded.\n",
            "         Current function value: 0.591388\n",
            "         Iterations: 35\n"
          ]
        },
        {
          "output_type": "stream",
          "name": "stderr",
          "text": [
            "/usr/local/lib/python3.8/dist-packages/statsmodels/base/model.py:566: ConvergenceWarning: Maximum Likelihood optimization failed to converge. Check mle_retvals\n",
            "  warnings.warn(\"Maximum Likelihood optimization failed to \"\n"
          ]
        },
        {
          "output_type": "execute_result",
          "data": {
            "text/plain": [
              "<class 'statsmodels.iolib.summary.Summary'>\n",
              "\"\"\"\n",
              "                           Logit Regression Results                           \n",
              "==============================================================================\n",
              "Dep. Variable:                 Damage   No. Observations:                 1690\n",
              "Model:                          Logit   Df Residuals:                     1672\n",
              "Method:                           MLE   Df Model:                           17\n",
              "Date:                Tue, 28 Feb 2023   Pseudo R-squ.:                  0.1468\n",
              "Time:                        01:56:24   Log-Likelihood:                -999.45\n",
              "converged:                      False   LL-Null:                       -1171.4\n",
              "Covariance Type:            nonrobust   LLR p-value:                 8.936e-63\n",
              "================================================================================================\n",
              "                                   coef    std err          z      P>|z|      [0.025      0.975]\n",
              "------------------------------------------------------------------------------------------------\n",
              "Aircraft: Number of engines?    -0.0293      0.061     -0.480      0.631      -0.149       0.090\n",
              "Feet above ground                0.0071      0.110      0.065      0.948      -0.208       0.223\n",
              "Miles from airport              -0.0262      0.088     -0.298      0.766      -0.198       0.146\n",
              "Speed (IAS) in knots            -0.1540      0.089     -1.725      0.085      -0.329       0.021\n",
              "Flight Month                    -0.0046      0.055     -0.085      0.932      -0.112       0.102\n",
              "Flight Year                     -0.0494      0.056     -0.886      0.375      -0.159       0.060\n",
              "When: Time (HHMM)                0.0350      0.056      0.623      0.533      -0.075       0.145\n",
              "Large                            0.5680        nan        nan        nan         nan         nan\n",
              "Medium                           0.0639        nan        nan        nan         nan         nan\n",
              "Small                           -0.4959        nan        nan        nan         nan         nan\n",
              "Approach                         0.0234   1.76e+06   1.33e-08      1.000   -3.45e+06    3.45e+06\n",
              "Climb                            0.1413   1.36e+06   1.04e-07      1.000   -2.66e+06    2.66e+06\n",
              "Descent                          0.1087   7.08e+05   1.53e-07      1.000   -1.39e+06    1.39e+06\n",
              "En Route                         0.1949   2.02e+05   9.67e-07      1.000   -3.95e+05    3.95e+05\n",
              "Landing Roll                    -0.1935   1.51e+06  -1.28e-07      1.000   -2.97e+06    2.97e+06\n",
              "Parked                          -0.0108    1.8e+05  -5.99e-08      1.000   -3.53e+05    3.53e+05\n",
              "Take-off run                    -0.0313   1.59e+06  -1.97e-08      1.000   -3.11e+06    3.11e+06\n",
              "Taxi                            -0.0334   1.56e+05  -2.14e-07      1.000   -3.06e+05    3.06e+05\n",
              "N                                0.0440   4.62e+06   9.52e-09      1.000   -9.05e+06    9.05e+06\n",
              "Y                               -0.0440   4.62e+06  -9.52e-09      1.000   -9.05e+06    9.05e+06\n",
              "================================================================================================\n",
              "\"\"\""
            ],
            "text/html": [
              "<table class=\"simpletable\">\n",
              "<caption>Logit Regression Results</caption>\n",
              "<tr>\n",
              "  <th>Dep. Variable:</th>        <td>Damage</td>      <th>  No. Observations:  </th>  <td>  1690</td>  \n",
              "</tr>\n",
              "<tr>\n",
              "  <th>Model:</th>                 <td>Logit</td>      <th>  Df Residuals:      </th>  <td>  1672</td>  \n",
              "</tr>\n",
              "<tr>\n",
              "  <th>Method:</th>                 <td>MLE</td>       <th>  Df Model:          </th>  <td>    17</td>  \n",
              "</tr>\n",
              "<tr>\n",
              "  <th>Date:</th>            <td>Tue, 28 Feb 2023</td> <th>  Pseudo R-squ.:     </th>  <td>0.1468</td>  \n",
              "</tr>\n",
              "<tr>\n",
              "  <th>Time:</th>                <td>01:56:24</td>     <th>  Log-Likelihood:    </th> <td> -999.45</td> \n",
              "</tr>\n",
              "<tr>\n",
              "  <th>converged:</th>             <td>False</td>      <th>  LL-Null:           </th> <td> -1171.4</td> \n",
              "</tr>\n",
              "<tr>\n",
              "  <th>Covariance Type:</th>     <td>nonrobust</td>    <th>  LLR p-value:       </th> <td>8.936e-63</td>\n",
              "</tr>\n",
              "</table>\n",
              "<table class=\"simpletable\">\n",
              "<tr>\n",
              "                <td></td>                  <th>coef</th>     <th>std err</th>      <th>z</th>      <th>P>|z|</th>  <th>[0.025</th>    <th>0.975]</th>  \n",
              "</tr>\n",
              "<tr>\n",
              "  <th>Aircraft: Number of engines?</th> <td>   -0.0293</td> <td>    0.061</td> <td>   -0.480</td> <td> 0.631</td> <td>   -0.149</td> <td>    0.090</td>\n",
              "</tr>\n",
              "<tr>\n",
              "  <th>Feet above ground</th>            <td>    0.0071</td> <td>    0.110</td> <td>    0.065</td> <td> 0.948</td> <td>   -0.208</td> <td>    0.223</td>\n",
              "</tr>\n",
              "<tr>\n",
              "  <th>Miles from airport</th>           <td>   -0.0262</td> <td>    0.088</td> <td>   -0.298</td> <td> 0.766</td> <td>   -0.198</td> <td>    0.146</td>\n",
              "</tr>\n",
              "<tr>\n",
              "  <th>Speed (IAS) in knots</th>         <td>   -0.1540</td> <td>    0.089</td> <td>   -1.725</td> <td> 0.085</td> <td>   -0.329</td> <td>    0.021</td>\n",
              "</tr>\n",
              "<tr>\n",
              "  <th>Flight Month</th>                 <td>   -0.0046</td> <td>    0.055</td> <td>   -0.085</td> <td> 0.932</td> <td>   -0.112</td> <td>    0.102</td>\n",
              "</tr>\n",
              "<tr>\n",
              "  <th>Flight Year</th>                  <td>   -0.0494</td> <td>    0.056</td> <td>   -0.886</td> <td> 0.375</td> <td>   -0.159</td> <td>    0.060</td>\n",
              "</tr>\n",
              "<tr>\n",
              "  <th>When: Time (HHMM)</th>            <td>    0.0350</td> <td>    0.056</td> <td>    0.623</td> <td> 0.533</td> <td>   -0.075</td> <td>    0.145</td>\n",
              "</tr>\n",
              "<tr>\n",
              "  <th>Large</th>                        <td>    0.5680</td> <td>      nan</td> <td>      nan</td> <td>   nan</td> <td>      nan</td> <td>      nan</td>\n",
              "</tr>\n",
              "<tr>\n",
              "  <th>Medium</th>                       <td>    0.0639</td> <td>      nan</td> <td>      nan</td> <td>   nan</td> <td>      nan</td> <td>      nan</td>\n",
              "</tr>\n",
              "<tr>\n",
              "  <th>Small</th>                        <td>   -0.4959</td> <td>      nan</td> <td>      nan</td> <td>   nan</td> <td>      nan</td> <td>      nan</td>\n",
              "</tr>\n",
              "<tr>\n",
              "  <th>Approach</th>                     <td>    0.0234</td> <td> 1.76e+06</td> <td> 1.33e-08</td> <td> 1.000</td> <td>-3.45e+06</td> <td> 3.45e+06</td>\n",
              "</tr>\n",
              "<tr>\n",
              "  <th>Climb</th>                        <td>    0.1413</td> <td> 1.36e+06</td> <td> 1.04e-07</td> <td> 1.000</td> <td>-2.66e+06</td> <td> 2.66e+06</td>\n",
              "</tr>\n",
              "<tr>\n",
              "  <th>Descent</th>                      <td>    0.1087</td> <td> 7.08e+05</td> <td> 1.53e-07</td> <td> 1.000</td> <td>-1.39e+06</td> <td> 1.39e+06</td>\n",
              "</tr>\n",
              "<tr>\n",
              "  <th>En Route</th>                     <td>    0.1949</td> <td> 2.02e+05</td> <td> 9.67e-07</td> <td> 1.000</td> <td>-3.95e+05</td> <td> 3.95e+05</td>\n",
              "</tr>\n",
              "<tr>\n",
              "  <th>Landing Roll</th>                 <td>   -0.1935</td> <td> 1.51e+06</td> <td>-1.28e-07</td> <td> 1.000</td> <td>-2.97e+06</td> <td> 2.97e+06</td>\n",
              "</tr>\n",
              "<tr>\n",
              "  <th>Parked</th>                       <td>   -0.0108</td> <td>  1.8e+05</td> <td>-5.99e-08</td> <td> 1.000</td> <td>-3.53e+05</td> <td> 3.53e+05</td>\n",
              "</tr>\n",
              "<tr>\n",
              "  <th>Take-off run</th>                 <td>   -0.0313</td> <td> 1.59e+06</td> <td>-1.97e-08</td> <td> 1.000</td> <td>-3.11e+06</td> <td> 3.11e+06</td>\n",
              "</tr>\n",
              "<tr>\n",
              "  <th>Taxi</th>                         <td>   -0.0334</td> <td> 1.56e+05</td> <td>-2.14e-07</td> <td> 1.000</td> <td>-3.06e+05</td> <td> 3.06e+05</td>\n",
              "</tr>\n",
              "<tr>\n",
              "  <th>N</th>                            <td>    0.0440</td> <td> 4.62e+06</td> <td> 9.52e-09</td> <td> 1.000</td> <td>-9.05e+06</td> <td> 9.05e+06</td>\n",
              "</tr>\n",
              "<tr>\n",
              "  <th>Y</th>                            <td>   -0.0440</td> <td> 4.62e+06</td> <td>-9.52e-09</td> <td> 1.000</td> <td>-9.05e+06</td> <td> 9.05e+06</td>\n",
              "</tr>\n",
              "</table>"
            ]
          },
          "metadata": {},
          "execution_count": 55
        }
      ]
    },
    {
      "cell_type": "code",
      "source": [
        "# check significance of the features\n",
        "features_coefs = result.params.sort_values(ascending=False)\n",
        "selectSignificant = result.pvalues[result.pvalues <= 0.05].index\n",
        "selectSignificant"
      ],
      "metadata": {
        "colab": {
          "base_uri": "https://localhost:8080/"
        },
        "id": "z-AW2PEBsktk",
        "outputId": "5655533f-873c-4e83-efdd-a4f7e305f8e6"
      },
      "execution_count": null,
      "outputs": [
        {
          "output_type": "execute_result",
          "data": {
            "text/plain": [
              "Index([], dtype='object')"
            ]
          },
          "metadata": {},
          "execution_count": 56
        }
      ]
    },
    {
      "cell_type": "code",
      "source": [
        "# Support Vector Machines\n",
        "svc = SVC(class_weight='balanced',probability=True)\n",
        "svc.fit(X_train, Y_train)\n",
        "Y_pred = svc.predict(X_test)\n",
        "print('Training Accuracy: %1.3f.' % svc.score(X_train, Y_train))"
      ],
      "metadata": {
        "colab": {
          "base_uri": "https://localhost:8080/"
        },
        "id": "raHOEhXlsoWu",
        "outputId": "b0cfe8bb-979a-40e0-8d74-eff9c8429250"
      },
      "execution_count": null,
      "outputs": [
        {
          "output_type": "stream",
          "name": "stdout",
          "text": [
            "Training Accuracy: 0.702.\n"
          ]
        }
      ]
    },
    {
      "cell_type": "code",
      "source": [
        "# generate evaluation metrics\n",
        "svc_t = metrics.accuracy_score(Y_test, Y_pred)\n",
        "print('Testing Accuracy: %1.3f.' % svc_t)"
      ],
      "metadata": {
        "colab": {
          "base_uri": "https://localhost:8080/"
        },
        "id": "qfgsK5dSsqzg",
        "outputId": "3c90d521-0995-4167-e15f-721f7630a77a"
      },
      "execution_count": null,
      "outputs": [
        {
          "output_type": "stream",
          "name": "stdout",
          "text": [
            "Testing Accuracy: 0.704.\n"
          ]
        }
      ]
    },
    {
      "cell_type": "code",
      "source": [
        "# evaluate the model using 10-fold cross-validation\n",
        "scores_svc = cross_val_score(svc, X_train, Y_train, scoring='accuracy', cv=10)\n",
        "print('Cross-Validation Accuracy: %1.3f.' % scores_svc.mean())"
      ],
      "metadata": {
        "colab": {
          "base_uri": "https://localhost:8080/"
        },
        "id": "kPt90Xu7stCR",
        "outputId": "18b3ff91-249f-47d7-afb3-93c1342aa958"
      },
      "execution_count": null,
      "outputs": [
        {
          "output_type": "stream",
          "name": "stdout",
          "text": [
            "Cross-Validation Accuracy: 0.645.\n"
          ]
        }
      ]
    },
    {
      "cell_type": "code",
      "source": [
        "# ROC AUC on train set\n",
        "Y_prob_train = svc.predict_proba(X_train)\n",
        "svc_auc_train = metrics.roc_auc_score(Y_train, Y_prob_train[:, 1])\n",
        "print (\"ROC AUC on train set: %1.3f.\" % svc_auc_train)\n",
        "\n",
        "# Predict on validation set\n",
        "Y_prob_test = svc.predict_proba(X_test)\n",
        "svc_auc_test = metrics.roc_auc_score(Y_test, Y_prob_test[:, 1])\n",
        "print (\"ROC AUC on validation set: %1.3f.\" % svc_auc_test)"
      ],
      "metadata": {
        "colab": {
          "base_uri": "https://localhost:8080/"
        },
        "id": "iJnTqyawswJ6",
        "outputId": "3de8d7b0-4adf-40da-e7ea-c0b3a895b38d"
      },
      "execution_count": null,
      "outputs": [
        {
          "output_type": "stream",
          "name": "stdout",
          "text": [
            "ROC AUC on train set: 0.787.\n",
            "ROC AUC on validation set: 0.759.\n"
          ]
        }
      ]
    },
    {
      "cell_type": "code",
      "source": [
        "# Random Forests\n",
        "rf = RandomForestClassifier(n_estimators=100)\n",
        "rf.fit(X_train, Y_train)\n",
        "Y_pred = rf.predict(X_test)\n",
        "print('Training Accuracy: %1.3f.' % rf.score(X_train, Y_train))"
      ],
      "metadata": {
        "colab": {
          "base_uri": "https://localhost:8080/"
        },
        "id": "opsmUgVEsyjz",
        "outputId": "4954cedb-4fee-4e72-803d-82600bb09de6"
      },
      "execution_count": null,
      "outputs": [
        {
          "output_type": "stream",
          "name": "stdout",
          "text": [
            "Training Accuracy: 1.000.\n"
          ]
        }
      ]
    },
    {
      "cell_type": "code",
      "source": [
        "# generate evaluation metrics\n",
        "rf_t = metrics.accuracy_score(Y_test, Y_pred)\n",
        "print('Testing Accuracy: %1.3f.' % rf_t)"
      ],
      "metadata": {
        "colab": {
          "base_uri": "https://localhost:8080/"
        },
        "id": "DCT7s4jUs1Jp",
        "outputId": "f88f2c59-d587-4772-8c13-9b380572b012"
      },
      "execution_count": null,
      "outputs": [
        {
          "output_type": "stream",
          "name": "stdout",
          "text": [
            "Testing Accuracy: 0.665.\n"
          ]
        }
      ]
    },
    {
      "cell_type": "code",
      "source": [
        "# evaluate the model using 10-fold cross-validation\n",
        "scores_rf = cross_val_score(rf, X_train, Y_train, scoring='accuracy', cv=10)\n",
        "print('Cross-Validation Accuracy: %1.3f.' % scores_rf.mean())"
      ],
      "metadata": {
        "colab": {
          "base_uri": "https://localhost:8080/"
        },
        "id": "kRaaxBNPs3_2",
        "outputId": "d9ae772d-c1e6-496e-c95f-f8ff414c4428"
      },
      "execution_count": null,
      "outputs": [
        {
          "output_type": "stream",
          "name": "stdout",
          "text": [
            "Cross-Validation Accuracy: 0.611.\n"
          ]
        }
      ]
    },
    {
      "cell_type": "code",
      "source": [
        "# ROC AUC on train set\n",
        "Y_prob_train = rf.predict_proba(X_train)\n",
        "rf_auc_train = metrics.roc_auc_score(Y_train, Y_prob_train[:, 1])\n",
        "print (\"ROC AUC on train set: %1.3f.\" % rf_auc_train)\n",
        "\n",
        "# Predict on validation set\n",
        "Y_prob_test = rf.predict_proba(X_test)\n",
        "rf_auc_test = metrics.roc_auc_score(Y_test, Y_prob_test[:, 1])\n",
        "print (\"ROC AUC on validation set: %1.3f.\" % rf_auc_test)"
      ],
      "metadata": {
        "colab": {
          "base_uri": "https://localhost:8080/"
        },
        "id": "lHENW7KEs6Nq",
        "outputId": "38b95e8b-c933-49ff-f676-bd2b9818b8e8"
      },
      "execution_count": null,
      "outputs": [
        {
          "output_type": "stream",
          "name": "stdout",
          "text": [
            "ROC AUC on train set: 1.000.\n",
            "ROC AUC on validation set: 0.720.\n"
          ]
        }
      ]
    },
    {
      "cell_type": "code",
      "source": [
        "# KNeighborsClassifier\n",
        "knn = KNeighborsClassifier(n_neighbors = 3)\n",
        "knn.fit(X_train, Y_train)\n",
        "Y_pred = knn.predict(X_test)\n",
        "print('Training Accuracy:')\n",
        "knn.score(X_train, Y_train)"
      ],
      "metadata": {
        "colab": {
          "base_uri": "https://localhost:8080/"
        },
        "id": "Ymi12mVss8mL",
        "outputId": "7b622a18-c274-45fe-b90f-c5720b23e9ab"
      },
      "execution_count": null,
      "outputs": [
        {
          "output_type": "stream",
          "name": "stdout",
          "text": [
            "Training Accuracy:\n"
          ]
        },
        {
          "output_type": "execute_result",
          "data": {
            "text/plain": [
              "0.7727810650887574"
            ]
          },
          "metadata": {},
          "execution_count": 65
        }
      ]
    },
    {
      "cell_type": "code",
      "source": [
        "# generate evaluation metrics\n",
        "knn_t = metrics.accuracy_score(Y_test, Y_pred)\n",
        "print('Testing Accuracy:')\n",
        "knn_t"
      ],
      "metadata": {
        "colab": {
          "base_uri": "https://localhost:8080/"
        },
        "id": "J-agYoIPs-5C",
        "outputId": "76104d1b-65eb-4dfc-fd8c-c0bc3b4418fe"
      },
      "execution_count": null,
      "outputs": [
        {
          "output_type": "stream",
          "name": "stdout",
          "text": [
            "Testing Accuracy:\n"
          ]
        },
        {
          "output_type": "execute_result",
          "data": {
            "text/plain": [
              "0.6520710059171597"
            ]
          },
          "metadata": {},
          "execution_count": 66
        }
      ]
    },
    {
      "cell_type": "code",
      "source": [
        "# evaluate the model using 10-fold cross-validation\n",
        "scores_knn = cross_val_score(knn, X_train, Y_train, scoring='accuracy', cv=10)\n",
        "print('Cross-Validation Accuracy:')\n",
        "print(scores_knn.mean())"
      ],
      "metadata": {
        "colab": {
          "base_uri": "https://localhost:8080/"
        },
        "id": "k6CHIsfgtBvI",
        "outputId": "9b3f86ac-127c-49fe-feae-389048497e47"
      },
      "execution_count": null,
      "outputs": [
        {
          "output_type": "stream",
          "name": "stdout",
          "text": [
            "Cross-Validation Accuracy:\n",
            "0.5752801120448179\n"
          ]
        }
      ]
    },
    {
      "cell_type": "code",
      "source": [
        "# ROC AUC on train set\n",
        "Y_prob_train = knn.predict_proba(X_train)\n",
        "knn_auc_train = metrics.roc_auc_score(Y_train, Y_prob_train[:, 1])\n",
        "print (\"ROC AUC on train set: %1.3f.\" % knn_auc_train)\n",
        "\n",
        "# Predict on validation set\n",
        "Y_prob_test = knn.predict_proba(X_test)\n",
        "knn_auc_test = metrics.roc_auc_score(Y_test, Y_prob_test[:, 1])\n",
        "print (\"ROC AUC on validation set: %1.3f.\" % knn_auc_test)"
      ],
      "metadata": {
        "colab": {
          "base_uri": "https://localhost:8080/"
        },
        "id": "80x2pCbntEEG",
        "outputId": "1b3a1ee2-cf2c-4cdb-a289-564372b16ba2"
      },
      "execution_count": null,
      "outputs": [
        {
          "output_type": "stream",
          "name": "stdout",
          "text": [
            "ROC AUC on train set: 0.853.\n",
            "ROC AUC on validation set: 0.677.\n"
          ]
        }
      ]
    },
    {
      "cell_type": "code",
      "source": [
        "# Gaussian Naive Bayes\n",
        "gaussian = GaussianNB()\n",
        "gaussian.fit(X_train, Y_train)\n",
        "Y_pred = gaussian.predict(X_test)\n",
        "print('Training Accuracy:')\n",
        "gaussian.score(X_train, Y_train)"
      ],
      "metadata": {
        "colab": {
          "base_uri": "https://localhost:8080/"
        },
        "id": "XcJIu0_UtGXZ",
        "outputId": "3878bbc5-5476-42c3-b96a-752f174d7d12"
      },
      "execution_count": null,
      "outputs": [
        {
          "output_type": "stream",
          "name": "stdout",
          "text": [
            "Training Accuracy:\n"
          ]
        },
        {
          "output_type": "execute_result",
          "data": {
            "text/plain": [
              "0.5076923076923077"
            ]
          },
          "metadata": {},
          "execution_count": 69
        }
      ]
    },
    {
      "cell_type": "code",
      "source": [
        "# generate evaluation metrics\n",
        "gaussian_t = metrics.accuracy_score(Y_test, Y_pred)\n",
        "print('Testing Accuracy:')\n",
        "gaussian_t"
      ],
      "metadata": {
        "colab": {
          "base_uri": "https://localhost:8080/"
        },
        "id": "1UTBn-kRtJRr",
        "outputId": "155a8b35-177f-4dd1-a759-928a4be58a76"
      },
      "execution_count": null,
      "outputs": [
        {
          "output_type": "stream",
          "name": "stdout",
          "text": [
            "Testing Accuracy:\n"
          ]
        },
        {
          "output_type": "execute_result",
          "data": {
            "text/plain": [
              "0.5136094674556213"
            ]
          },
          "metadata": {},
          "execution_count": 70
        }
      ]
    },
    {
      "cell_type": "code",
      "source": [
        "# evaluate the model using 10-fold cross-validation\n",
        "scores_gaussian = cross_val_score(gaussian, X_train, Y_train, scoring='accuracy', cv=10)\n",
        "print('Cross-Validation Accuracy:')\n",
        "print (scores_gaussian.mean())"
      ],
      "metadata": {
        "colab": {
          "base_uri": "https://localhost:8080/"
        },
        "id": "T2K1kqhHtMDa",
        "outputId": "b1824aa8-4f9f-418d-c2cc-fb13f75c3e06"
      },
      "execution_count": null,
      "outputs": [
        {
          "output_type": "stream",
          "name": "stdout",
          "text": [
            "Cross-Validation Accuracy:\n",
            "0.5241456582633053\n"
          ]
        }
      ]
    },
    {
      "cell_type": "code",
      "source": [
        "# ROC AUC on train set\n",
        "Y_prob_train = gaussian.predict_proba(X_train)\n",
        "gaussian_auc_train = metrics.roc_auc_score(Y_train, Y_prob_train[:, 1])\n",
        "print (\"ROC AUC on train set: %1.3f.\" % gaussian_auc_train)\n",
        "\n",
        "# Predict on validation set\n",
        "Y_prob_test = gaussian.predict_proba(X_test)\n",
        "gaussian_auc_test = metrics.roc_auc_score(Y_test, Y_prob_test[:, 1])\n",
        "print (\"ROC AUC on validation set: %1.3f.\" % gaussian_auc_test)"
      ],
      "metadata": {
        "colab": {
          "base_uri": "https://localhost:8080/"
        },
        "id": "oyXJAmP6tOXy",
        "outputId": "ac0e5ba2-9119-4e3b-9ea8-9c13eaeef2c8"
      },
      "execution_count": null,
      "outputs": [
        {
          "output_type": "stream",
          "name": "stdout",
          "text": [
            "ROC AUC on train set: 0.708.\n",
            "ROC AUC on validation set: 0.755.\n"
          ]
        }
      ]
    },
    {
      "cell_type": "code",
      "source": [
        "train_acc = [logreg.score(X_train, Y_train), svc.score(X_train, Y_train), rf.score(X_train, Y_train),\n",
        "             knn.score(X_train, Y_train), gaussian.score(X_train, Y_train)]\n",
        "test_acc = [logreg_t, svc_t, rf_t, knn_t, gaussian_t]\n",
        "cross_val_acc = [scores_lr.mean(), scores_svc.mean(), scores_rf.mean(), scores_knn.mean(), scores_gaussian.mean()]\n",
        "train_auc = [lr_auc_train, svc_auc_train, rf_auc_train, knn_auc_train, gaussian_auc_train]\n",
        "test_auc = [lr_auc_test, svc_auc_test, rf_auc_test, knn_auc_test, gaussian_auc_test]\n",
        "models = DataFrame({'Training Accuracy': train_acc, 'Testing Accuracy': test_acc, \n",
        "                    \"Cross-Validation Accuracy\": cross_val_acc,'Training AUC': train_auc,\n",
        "                   'Testing AUC': test_auc})\n",
        "models.index = ['Logistic Regression','Support Vector Machines ','Random Forests','K-Nearest Neighbors','Gaussian Naive Bayes']\n",
        "models\n"
      ],
      "metadata": {
        "colab": {
          "base_uri": "https://localhost:8080/",
          "height": 206
        },
        "id": "MxpnQ1KHtQi0",
        "outputId": "0f4c1e96-e4d6-459a-dc2a-d04e5aaa27d3"
      },
      "execution_count": null,
      "outputs": [
        {
          "output_type": "execute_result",
          "data": {
            "text/plain": [
              "                          Training Accuracy  Testing Accuracy  \\\n",
              "Logistic Regression                0.669822          0.697041   \n",
              "Support Vector Machines            0.701775          0.704142   \n",
              "Random Forests                     1.000000          0.665089   \n",
              "K-Nearest Neighbors                0.772781          0.652071   \n",
              "Gaussian Naive Bayes               0.507692          0.513609   \n",
              "\n",
              "                          Cross-Validation Accuracy  Training AUC  Testing AUC  \n",
              "Logistic Regression                        0.654580      0.721016     0.754149  \n",
              "Support Vector Machines                    0.645140      0.787466     0.759034  \n",
              "Random Forests                             0.610896      1.000000     0.720248  \n",
              "K-Nearest Neighbors                        0.575280      0.852917     0.676846  \n",
              "Gaussian Naive Bayes                       0.524146      0.707671     0.755079  "
            ],
            "text/html": [
              "\n",
              "  <div id=\"df-95fcadf0-747f-4131-87fa-7f3651cd70c6\">\n",
              "    <div class=\"colab-df-container\">\n",
              "      <div>\n",
              "<style scoped>\n",
              "    .dataframe tbody tr th:only-of-type {\n",
              "        vertical-align: middle;\n",
              "    }\n",
              "\n",
              "    .dataframe tbody tr th {\n",
              "        vertical-align: top;\n",
              "    }\n",
              "\n",
              "    .dataframe thead th {\n",
              "        text-align: right;\n",
              "    }\n",
              "</style>\n",
              "<table border=\"1\" class=\"dataframe\">\n",
              "  <thead>\n",
              "    <tr style=\"text-align: right;\">\n",
              "      <th></th>\n",
              "      <th>Training Accuracy</th>\n",
              "      <th>Testing Accuracy</th>\n",
              "      <th>Cross-Validation Accuracy</th>\n",
              "      <th>Training AUC</th>\n",
              "      <th>Testing AUC</th>\n",
              "    </tr>\n",
              "  </thead>\n",
              "  <tbody>\n",
              "    <tr>\n",
              "      <th>Logistic Regression</th>\n",
              "      <td>0.669822</td>\n",
              "      <td>0.697041</td>\n",
              "      <td>0.654580</td>\n",
              "      <td>0.721016</td>\n",
              "      <td>0.754149</td>\n",
              "    </tr>\n",
              "    <tr>\n",
              "      <th>Support Vector Machines</th>\n",
              "      <td>0.701775</td>\n",
              "      <td>0.704142</td>\n",
              "      <td>0.645140</td>\n",
              "      <td>0.787466</td>\n",
              "      <td>0.759034</td>\n",
              "    </tr>\n",
              "    <tr>\n",
              "      <th>Random Forests</th>\n",
              "      <td>1.000000</td>\n",
              "      <td>0.665089</td>\n",
              "      <td>0.610896</td>\n",
              "      <td>1.000000</td>\n",
              "      <td>0.720248</td>\n",
              "    </tr>\n",
              "    <tr>\n",
              "      <th>K-Nearest Neighbors</th>\n",
              "      <td>0.772781</td>\n",
              "      <td>0.652071</td>\n",
              "      <td>0.575280</td>\n",
              "      <td>0.852917</td>\n",
              "      <td>0.676846</td>\n",
              "    </tr>\n",
              "    <tr>\n",
              "      <th>Gaussian Naive Bayes</th>\n",
              "      <td>0.507692</td>\n",
              "      <td>0.513609</td>\n",
              "      <td>0.524146</td>\n",
              "      <td>0.707671</td>\n",
              "      <td>0.755079</td>\n",
              "    </tr>\n",
              "  </tbody>\n",
              "</table>\n",
              "</div>\n",
              "      <button class=\"colab-df-convert\" onclick=\"convertToInteractive('df-95fcadf0-747f-4131-87fa-7f3651cd70c6')\"\n",
              "              title=\"Convert this dataframe to an interactive table.\"\n",
              "              style=\"display:none;\">\n",
              "        \n",
              "  <svg xmlns=\"http://www.w3.org/2000/svg\" height=\"24px\"viewBox=\"0 0 24 24\"\n",
              "       width=\"24px\">\n",
              "    <path d=\"M0 0h24v24H0V0z\" fill=\"none\"/>\n",
              "    <path d=\"M18.56 5.44l.94 2.06.94-2.06 2.06-.94-2.06-.94-.94-2.06-.94 2.06-2.06.94zm-11 1L8.5 8.5l.94-2.06 2.06-.94-2.06-.94L8.5 2.5l-.94 2.06-2.06.94zm10 10l.94 2.06.94-2.06 2.06-.94-2.06-.94-.94-2.06-.94 2.06-2.06.94z\"/><path d=\"M17.41 7.96l-1.37-1.37c-.4-.4-.92-.59-1.43-.59-.52 0-1.04.2-1.43.59L10.3 9.45l-7.72 7.72c-.78.78-.78 2.05 0 2.83L4 21.41c.39.39.9.59 1.41.59.51 0 1.02-.2 1.41-.59l7.78-7.78 2.81-2.81c.8-.78.8-2.07 0-2.86zM5.41 20L4 18.59l7.72-7.72 1.47 1.35L5.41 20z\"/>\n",
              "  </svg>\n",
              "      </button>\n",
              "      \n",
              "  <style>\n",
              "    .colab-df-container {\n",
              "      display:flex;\n",
              "      flex-wrap:wrap;\n",
              "      gap: 12px;\n",
              "    }\n",
              "\n",
              "    .colab-df-convert {\n",
              "      background-color: #E8F0FE;\n",
              "      border: none;\n",
              "      border-radius: 50%;\n",
              "      cursor: pointer;\n",
              "      display: none;\n",
              "      fill: #1967D2;\n",
              "      height: 32px;\n",
              "      padding: 0 0 0 0;\n",
              "      width: 32px;\n",
              "    }\n",
              "\n",
              "    .colab-df-convert:hover {\n",
              "      background-color: #E2EBFA;\n",
              "      box-shadow: 0px 1px 2px rgba(60, 64, 67, 0.3), 0px 1px 3px 1px rgba(60, 64, 67, 0.15);\n",
              "      fill: #174EA6;\n",
              "    }\n",
              "\n",
              "    [theme=dark] .colab-df-convert {\n",
              "      background-color: #3B4455;\n",
              "      fill: #D2E3FC;\n",
              "    }\n",
              "\n",
              "    [theme=dark] .colab-df-convert:hover {\n",
              "      background-color: #434B5C;\n",
              "      box-shadow: 0px 1px 3px 1px rgba(0, 0, 0, 0.15);\n",
              "      filter: drop-shadow(0px 1px 2px rgba(0, 0, 0, 0.3));\n",
              "      fill: #FFFFFF;\n",
              "    }\n",
              "  </style>\n",
              "\n",
              "      <script>\n",
              "        const buttonEl =\n",
              "          document.querySelector('#df-95fcadf0-747f-4131-87fa-7f3651cd70c6 button.colab-df-convert');\n",
              "        buttonEl.style.display =\n",
              "          google.colab.kernel.accessAllowed ? 'block' : 'none';\n",
              "\n",
              "        async function convertToInteractive(key) {\n",
              "          const element = document.querySelector('#df-95fcadf0-747f-4131-87fa-7f3651cd70c6');\n",
              "          const dataTable =\n",
              "            await google.colab.kernel.invokeFunction('convertToInteractive',\n",
              "                                                     [key], {});\n",
              "          if (!dataTable) return;\n",
              "\n",
              "          const docLinkHtml = 'Like what you see? Visit the ' +\n",
              "            '<a target=\"_blank\" href=https://colab.research.google.com/notebooks/data_table.ipynb>data table notebook</a>'\n",
              "            + ' to learn more about interactive tables.';\n",
              "          element.innerHTML = '';\n",
              "          dataTable['output_type'] = 'display_data';\n",
              "          await google.colab.output.renderOutput(dataTable, element);\n",
              "          const docLink = document.createElement('div');\n",
              "          docLink.innerHTML = docLinkHtml;\n",
              "          element.appendChild(docLink);\n",
              "        }\n",
              "      </script>\n",
              "    </div>\n",
              "  </div>\n",
              "  "
            ]
          },
          "metadata": {},
          "execution_count": 73
        }
      ]
    },
    {
      "cell_type": "code",
      "source": [
        "models1 = DataFrame({'Accuracy' : models.unstack()}).reset_index()\n",
        "# plot accuracies\n",
        "plt.figure(figsize=(8, 7))\n",
        "fig_models = sns.barplot(x='level_0', y='Accuracy', hue='level_1', data=models1);\n",
        "fig_models.set(xlabel='Accuracy Metric', ylabel='Accuracy');\n",
        "fig_models.set_title('The Accuracy of All Models Over Five Metrics');"
      ],
      "metadata": {
        "colab": {
          "base_uri": "https://localhost:8080/",
          "height": 458
        },
        "id": "PvFmtxvVtTYK",
        "outputId": "935d3412-ae6f-42a8-c4bf-0340a92fdde2"
      },
      "execution_count": null,
      "outputs": [
        {
          "output_type": "display_data",
          "data": {
            "text/plain": [
              "<Figure size 576x504 with 1 Axes>"
            ],
            "image/png": "[encoded data removed]"
          },
          "metadata": {
            "needs_background": "light"
          }
        }
      ]
    },
    {
      "cell_type": "code",
      "source": [
        "x=zip(X_train.columns, np.transpose(logreg.coef_))\n",
        "x1=pd.DataFrame(list(x))\n",
        "x1.head()"
      ],
      "metadata": {
        "colab": {
          "base_uri": "https://localhost:8080/",
          "height": 206
        },
        "id": "_QxfWRTUtV66",
        "outputId": "457146ee-7e11-40df-d044-5ecba8e9d7b5"
      },
      "execution_count": null,
      "outputs": [
        {
          "output_type": "execute_result",
          "data": {
            "text/plain": [
              "                              0                        1\n",
              "0  Aircraft: Number of engines?   [0.034454114966918414]\n",
              "1             Feet above ground   [-0.08044818652040107]\n",
              "2            Miles from airport   [-0.14095792594204967]\n",
              "3          Speed (IAS) in knots   [-0.08995797272199992]\n",
              "4                  Flight Month  [-0.011126333823257421]"
            ],
            "text/html": [
              "\n",
              "  <div id=\"df-dc3e3c14-380d-4a04-b705-42a2e56c7dca\">\n",
              "    <div class=\"colab-df-container\">\n",
              "      <div>\n",
              "<style scoped>\n",
              "    .dataframe tbody tr th:only-of-type {\n",
              "        vertical-align: middle;\n",
              "    }\n",
              "\n",
              "    .dataframe tbody tr th {\n",
              "        vertical-align: top;\n",
              "    }\n",
              "\n",
              "    .dataframe thead th {\n",
              "        text-align: right;\n",
              "    }\n",
              "</style>\n",
              "<table border=\"1\" class=\"dataframe\">\n",
              "  <thead>\n",
              "    <tr style=\"text-align: right;\">\n",
              "      <th></th>\n",
              "      <th>0</th>\n",
              "      <th>1</th>\n",
              "    </tr>\n",
              "  </thead>\n",
              "  <tbody>\n",
              "    <tr>\n",
              "      <th>0</th>\n",
              "      <td>Aircraft: Number of engines?</td>\n",
              "      <td>[0.034454114966918414]</td>\n",
              "    </tr>\n",
              "    <tr>\n",
              "      <th>1</th>\n",
              "      <td>Feet above ground</td>\n",
              "      <td>[-0.08044818652040107]</td>\n",
              "    </tr>\n",
              "    <tr>\n",
              "      <th>2</th>\n",
              "      <td>Miles from airport</td>\n",
              "      <td>[-0.14095792594204967]</td>\n",
              "    </tr>\n",
              "    <tr>\n",
              "      <th>3</th>\n",
              "      <td>Speed (IAS) in knots</td>\n",
              "      <td>[-0.08995797272199992]</td>\n",
              "    </tr>\n",
              "    <tr>\n",
              "      <th>4</th>\n",
              "      <td>Flight Month</td>\n",
              "      <td>[-0.011126333823257421]</td>\n",
              "    </tr>\n",
              "  </tbody>\n",
              "</table>\n",
              "</div>\n",
              "      <button class=\"colab-df-convert\" onclick=\"convertToInteractive('df-dc3e3c14-380d-4a04-b705-42a2e56c7dca')\"\n",
              "              title=\"Convert this dataframe to an interactive table.\"\n",
              "              style=\"display:none;\">\n",
              "        \n",
              "  <svg xmlns=\"http://www.w3.org/2000/svg\" height=\"24px\"viewBox=\"0 0 24 24\"\n",
              "       width=\"24px\">\n",
              "    <path d=\"M0 0h24v24H0V0z\" fill=\"none\"/>\n",
              "    <path d=\"M18.56 5.44l.94 2.06.94-2.06 2.06-.94-2.06-.94-.94-2.06-.94 2.06-2.06.94zm-11 1L8.5 8.5l.94-2.06 2.06-.94-2.06-.94L8.5 2.5l-.94 2.06-2.06.94zm10 10l.94 2.06.94-2.06 2.06-.94-2.06-.94-.94-2.06-.94 2.06-2.06.94z\"/><path d=\"M17.41 7.96l-1.37-1.37c-.4-.4-.92-.59-1.43-.59-.52 0-1.04.2-1.43.59L10.3 9.45l-7.72 7.72c-.78.78-.78 2.05 0 2.83L4 21.41c.39.39.9.59 1.41.59.51 0 1.02-.2 1.41-.59l7.78-7.78 2.81-2.81c.8-.78.8-2.07 0-2.86zM5.41 20L4 18.59l7.72-7.72 1.47 1.35L5.41 20z\"/>\n",
              "  </svg>\n",
              "      </button>\n",
              "      \n",
              "  <style>\n",
              "    .colab-df-container {\n",
              "      display:flex;\n",
              "      flex-wrap:wrap;\n",
              "      gap: 12px;\n",
              "    }\n",
              "\n",
              "    .colab-df-convert {\n",
              "      background-color: #E8F0FE;\n",
              "      border: none;\n",
              "      border-radius: 50%;\n",
              "      cursor: pointer;\n",
              "      display: none;\n",
              "      fill: #1967D2;\n",
              "      height: 32px;\n",
              "      padding: 0 0 0 0;\n",
              "      width: 32px;\n",
              "    }\n",
              "\n",
              "    .colab-df-convert:hover {\n",
              "      background-color: #E2EBFA;\n",
              "      box-shadow: 0px 1px 2px rgba(60, 64, 67, 0.3), 0px 1px 3px 1px rgba(60, 64, 67, 0.15);\n",
              "      fill: #174EA6;\n",
              "    }\n",
              "\n",
              "    [theme=dark] .colab-df-convert {\n",
              "      background-color: #3B4455;\n",
              "      fill: #D2E3FC;\n",
              "    }\n",
              "\n",
              "    [theme=dark] .colab-df-convert:hover {\n",
              "      background-color: #434B5C;\n",
              "      box-shadow: 0px 1px 3px 1px rgba(0, 0, 0, 0.15);\n",
              "      filter: drop-shadow(0px 1px 2px rgba(0, 0, 0, 0.3));\n",
              "      fill: #FFFFFF;\n",
              "    }\n",
              "  </style>\n",
              "\n",
              "      <script>\n",
              "        const buttonEl =\n",
              "          document.querySelector('#df-dc3e3c14-380d-4a04-b705-42a2e56c7dca button.colab-df-convert');\n",
              "        buttonEl.style.display =\n",
              "          google.colab.kernel.accessAllowed ? 'block' : 'none';\n",
              "\n",
              "        async function convertToInteractive(key) {\n",
              "          const element = document.querySelector('#df-dc3e3c14-380d-4a04-b705-42a2e56c7dca');\n",
              "          const dataTable =\n",
              "            await google.colab.kernel.invokeFunction('convertToInteractive',\n",
              "                                                     [key], {});\n",
              "          if (!dataTable) return;\n",
              "\n",
              "          const docLinkHtml = 'Like what you see? Visit the ' +\n",
              "            '<a target=\"_blank\" href=https://colab.research.google.com/notebooks/data_table.ipynb>data table notebook</a>'\n",
              "            + ' to learn more about interactive tables.';\n",
              "          element.innerHTML = '';\n",
              "          dataTable['output_type'] = 'display_data';\n",
              "          await google.colab.output.renderOutput(dataTable, element);\n",
              "          const docLink = document.createElement('div');\n",
              "          docLink.innerHTML = docLinkHtml;\n",
              "          element.appendChild(docLink);\n",
              "        }\n",
              "      </script>\n",
              "    </div>\n",
              "  </div>\n",
              "  "
            ]
          },
          "metadata": {},
          "execution_count": 75
        }
      ]
    },
    {
      "cell_type": "code",
      "source": [
        "# get Correlation Coefficient for each feature using Logistic Regression\n",
        "logreg_df = pd.DataFrame(list(zip(X_train.columns, np.transpose(logreg.coef_))))\n",
        "logreg_df.columns = ['Features','Coefficient Estimate']\n",
        "logreg_df['sort'] = logreg_df['Coefficient Estimate'].abs()\n",
        "logreg_df.sort_values(['sort'],ascending=0).drop('sort',axis=1).head(10)"
      ],
      "metadata": {
        "colab": {
          "base_uri": "https://localhost:8080/",
          "height": 363
        },
        "id": "QO4Ml76dtYbg",
        "outputId": "89666cc7-21b3-428e-dca7-9f7ca7d4c584"
      },
      "execution_count": null,
      "outputs": [
        {
          "output_type": "execute_result",
          "data": {
            "text/plain": [
              "                Features    Coefficient Estimate\n",
              "7                  Large    [0.4952904008359901]\n",
              "9                  Small  [-0.44731425552614074]\n",
              "17                  Taxi    [0.2064790177170911]\n",
              "14          Landing Roll    [-0.170902107109174]\n",
              "2     Miles from airport  [-0.14095792594204967]\n",
              "12               Descent    [0.1270728673794951]\n",
              "11                 Climb   [0.11175049939959246]\n",
              "3   Speed (IAS) in knots  [-0.08995797272199992]\n",
              "1      Feet above ground  [-0.08044818652040107]\n",
              "8                 Medium    [0.0724876726939436]"
            ],
            "text/html": [
              "\n",
              "  <div id=\"df-b898428e-5d29-4564-ace2-5c1e86e696cf\">\n",
              "    <div class=\"colab-df-container\">\n",
              "      <div>\n",
              "<style scoped>\n",
              "    .dataframe tbody tr th:only-of-type {\n",
              "        vertical-align: middle;\n",
              "    }\n",
              "\n",
              "    .dataframe tbody tr th {\n",
              "        vertical-align: top;\n",
              "    }\n",
              "\n",
              "    .dataframe thead th {\n",
              "        text-align: right;\n",
              "    }\n",
              "</style>\n",
              "<table border=\"1\" class=\"dataframe\">\n",
              "  <thead>\n",
              "    <tr style=\"text-align: right;\">\n",
              "      <th></th>\n",
              "      <th>Features</th>\n",
              "      <th>Coefficient Estimate</th>\n",
              "    </tr>\n",
              "  </thead>\n",
              "  <tbody>\n",
              "    <tr>\n",
              "      <th>7</th>\n",
              "      <td>Large</td>\n",
              "      <td>[0.4952904008359901]</td>\n",
              "    </tr>\n",
              "    <tr>\n",
              "      <th>9</th>\n",
              "      <td>Small</td>\n",
              "      <td>[-0.44731425552614074]</td>\n",
              "    </tr>\n",
              "    <tr>\n",
              "      <th>17</th>\n",
              "      <td>Taxi</td>\n",
              "      <td>[0.2064790177170911]</td>\n",
              "    </tr>\n",
              "    <tr>\n",
              "      <th>14</th>\n",
              "      <td>Landing Roll</td>\n",
              "      <td>[-0.170902107109174]</td>\n",
              "    </tr>\n",
              "    <tr>\n",
              "      <th>2</th>\n",
              "      <td>Miles from airport</td>\n",
              "      <td>[-0.14095792594204967]</td>\n",
              "    </tr>\n",
              "    <tr>\n",
              "      <th>12</th>\n",
              "      <td>Descent</td>\n",
              "      <td>[0.1270728673794951]</td>\n",
              "    </tr>\n",
              "    <tr>\n",
              "      <th>11</th>\n",
              "      <td>Climb</td>\n",
              "      <td>[0.11175049939959246]</td>\n",
              "    </tr>\n",
              "    <tr>\n",
              "      <th>3</th>\n",
              "      <td>Speed (IAS) in knots</td>\n",
              "      <td>[-0.08995797272199992]</td>\n",
              "    </tr>\n",
              "    <tr>\n",
              "      <th>1</th>\n",
              "      <td>Feet above ground</td>\n",
              "      <td>[-0.08044818652040107]</td>\n",
              "    </tr>\n",
              "    <tr>\n",
              "      <th>8</th>\n",
              "      <td>Medium</td>\n",
              "      <td>[0.0724876726939436]</td>\n",
              "    </tr>\n",
              "  </tbody>\n",
              "</table>\n",
              "</div>\n",
              "      <button class=\"colab-df-convert\" onclick=\"convertToInteractive('df-b898428e-5d29-4564-ace2-5c1e86e696cf')\"\n",
              "              title=\"Convert this dataframe to an interactive table.\"\n",
              "              style=\"display:none;\">\n",
              "        \n",
              "  <svg xmlns=\"http://www.w3.org/2000/svg\" height=\"24px\"viewBox=\"0 0 24 24\"\n",
              "       width=\"24px\">\n",
              "    <path d=\"M0 0h24v24H0V0z\" fill=\"none\"/>\n",
              "    <path d=\"M18.56 5.44l.94 2.06.94-2.06 2.06-.94-2.06-.94-.94-2.06-.94 2.06-2.06.94zm-11 1L8.5 8.5l.94-2.06 2.06-.94-2.06-.94L8.5 2.5l-.94 2.06-2.06.94zm10 10l.94 2.06.94-2.06 2.06-.94-2.06-.94-.94-2.06-.94 2.06-2.06.94z\"/><path d=\"M17.41 7.96l-1.37-1.37c-.4-.4-.92-.59-1.43-.59-.52 0-1.04.2-1.43.59L10.3 9.45l-7.72 7.72c-.78.78-.78 2.05 0 2.83L4 21.41c.39.39.9.59 1.41.59.51 0 1.02-.2 1.41-.59l7.78-7.78 2.81-2.81c.8-.78.8-2.07 0-2.86zM5.41 20L4 18.59l7.72-7.72 1.47 1.35L5.41 20z\"/>\n",
              "  </svg>\n",
              "      </button>\n",
              "      \n",
              "  <style>\n",
              "    .colab-df-container {\n",
              "      display:flex;\n",
              "      flex-wrap:wrap;\n",
              "      gap: 12px;\n",
              "    }\n",
              "\n",
              "    .colab-df-convert {\n",
              "      background-color: #E8F0FE;\n",
              "      border: none;\n",
              "      border-radius: 50%;\n",
              "      cursor: pointer;\n",
              "      display: none;\n",
              "      fill: #1967D2;\n",
              "      height: 32px;\n",
              "      padding: 0 0 0 0;\n",
              "      width: 32px;\n",
              "    }\n",
              "\n",
              "    .colab-df-convert:hover {\n",
              "      background-color: #E2EBFA;\n",
              "      box-shadow: 0px 1px 2px rgba(60, 64, 67, 0.3), 0px 1px 3px 1px rgba(60, 64, 67, 0.15);\n",
              "      fill: #174EA6;\n",
              "    }\n",
              "\n",
              "    [theme=dark] .colab-df-convert {\n",
              "      background-color: #3B4455;\n",
              "      fill: #D2E3FC;\n",
              "    }\n",
              "\n",
              "    [theme=dark] .colab-df-convert:hover {\n",
              "      background-color: #434B5C;\n",
              "      box-shadow: 0px 1px 3px 1px rgba(0, 0, 0, 0.15);\n",
              "      filter: drop-shadow(0px 1px 2px rgba(0, 0, 0, 0.3));\n",
              "      fill: #FFFFFF;\n",
              "    }\n",
              "  </style>\n",
              "\n",
              "      <script>\n",
              "        const buttonEl =\n",
              "          document.querySelector('#df-b898428e-5d29-4564-ace2-5c1e86e696cf button.colab-df-convert');\n",
              "        buttonEl.style.display =\n",
              "          google.colab.kernel.accessAllowed ? 'block' : 'none';\n",
              "\n",
              "        async function convertToInteractive(key) {\n",
              "          const element = document.querySelector('#df-b898428e-5d29-4564-ace2-5c1e86e696cf');\n",
              "          const dataTable =\n",
              "            await google.colab.kernel.invokeFunction('convertToInteractive',\n",
              "                                                     [key], {});\n",
              "          if (!dataTable) return;\n",
              "\n",
              "          const docLinkHtml = 'Like what you see? Visit the ' +\n",
              "            '<a target=\"_blank\" href=https://colab.research.google.com/notebooks/data_table.ipynb>data table notebook</a>'\n",
              "            + ' to learn more about interactive tables.';\n",
              "          element.innerHTML = '';\n",
              "          dataTable['output_type'] = 'display_data';\n",
              "          await google.colab.output.renderOutput(dataTable, element);\n",
              "          const docLink = document.createElement('div');\n",
              "          docLink.innerHTML = docLinkHtml;\n",
              "          element.appendChild(docLink);\n",
              "        }\n",
              "      </script>\n",
              "    </div>\n",
              "  </div>\n",
              "  "
            ]
          },
          "metadata": {},
          "execution_count": 76
        }
      ]
    },
    {
      "cell_type": "code",
      "source": [],
      "metadata": {
        "id": "UOWNKIGkta0o"
      },
      "execution_count": null,
      "outputs": []
    },
    {
      "cell_type": "markdown",
      "source": [
        "Two-engine aircrafts are most frequently struck, but one-engine aircrafts are more prone to damage once struck. Such aircrafts should be equipped and operated with caution on this regard.\n",
        "\n",
        "Small birds are the most frequently involved in bird strikes, but medium and large birds are more damaging once involved. Airports built near migration route of medium to large-size birds should have more countermeasures in place.\n",
        "\n",
        "Bird strikes happen most often during takeoff or landing, especially the approach phase (when few countermeasures are in place), and during low altitude and low speed flights. Pilots should be informed with bird information during the approach phase if possible.\n",
        "\n",
        "Sacramento International Airport stands out as the airport with most damaging bird strikes. More information on the airport would be needed to understand the cause, e.g. bird migration routes, airport traffic, bird control measures etc.\n",
        "Bird strikes happen mostly between March to May, and July to October, between 5am and 1am of the next day. \n",
        "\n",
        "If resources are limited, detection and countermeasures should be optimized during such times to prevent bird strikes as much as possible.\n",
        "Most of the strikes do not cause damages. However, bird strikes can cost money and even human lives at times.\n",
        "\n",
        "Among the models tested, logistic regression model outperforms other models and can be chosen as a model for prediction and warning system for pilots and other operators. However, missing data is a huge issue with this data set, it would be useful to have the records as complete as possible so that a higher prediction accuracy can be achieved."
      ],
      "metadata": {
        "id": "IXjk0vDxte_a"
      }
    }
  ]
}